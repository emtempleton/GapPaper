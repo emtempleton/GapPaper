{
 "cells": [
  {
   "cell_type": "code",
   "execution_count": 1,
   "metadata": {},
   "outputs": [],
   "source": [
    "import pandas as pd\n",
    "from sklearn.datasets import load_iris\n",
    "from factor_analyzer import FactorAnalyzer\n",
    "import matplotlib.pyplot as plt\n",
    "import os\n",
    "import seaborn as sns\n",
    "\n",
    "%matplotlib inline\n"
   ]
  },
  {
   "cell_type": "markdown",
   "metadata": {},
   "source": [
    "Sources\n",
    "\n",
    "1. https://www.datacamp.com/community/tutorials/introduction-factor-analysis\n",
    "2. https://buildmedia.readthedocs.org/media/pdf/factor-analyzer/latest/factor-analyzer.pdf"
   ]
  },
  {
   "cell_type": "markdown",
   "metadata": {},
   "source": [
    "# Prepare dataframe"
   ]
  },
  {
   "cell_type": "code",
   "execution_count": 2,
   "metadata": {},
   "outputs": [],
   "source": [
    "base_dir = os.path.dirname(os.getcwd())\n",
    "df = pd.read_csv(os.path.join(base_dir, 'Data', 'post_convo_survey',\n",
    "                              'strangers', 'data_common_questions.csv'))\n"
   ]
  },
  {
   "cell_type": "code",
   "execution_count": 3,
   "metadata": {},
   "outputs": [
    {
     "data": {
      "text/html": [
       "<div>\n",
       "<style scoped>\n",
       "    .dataframe tbody tr th:only-of-type {\n",
       "        vertical-align: middle;\n",
       "    }\n",
       "\n",
       "    .dataframe tbody tr th {\n",
       "        vertical-align: top;\n",
       "    }\n",
       "\n",
       "    .dataframe thead th {\n",
       "        text-align: right;\n",
       "    }\n",
       "</style>\n",
       "<table border=\"1\" class=\"dataframe\">\n",
       "  <thead>\n",
       "    <tr style=\"text-align: right;\">\n",
       "      <th></th>\n",
       "      <th>subID</th>\n",
       "      <th>partnerID</th>\n",
       "      <th>convo_flow</th>\n",
       "      <th>convo_enjoy</th>\n",
       "      <th>friends</th>\n",
       "      <th>speak</th>\n",
       "      <th>knew_before</th>\n",
       "      <th>knew_before_text</th>\n",
       "      <th>know_now</th>\n",
       "      <th>common</th>\n",
       "      <th>similar</th>\n",
       "      <th>attractive</th>\n",
       "      <th>attracted_to</th>\n",
       "      <th>extraverted</th>\n",
       "      <th>fun</th>\n",
       "      <th>disclosed</th>\n",
       "      <th>comfortable_self</th>\n",
       "      <th>convo_order</th>\n",
       "      <th>round_robin_num</th>\n",
       "      <th>dyad</th>\n",
       "    </tr>\n",
       "  </thead>\n",
       "  <tbody>\n",
       "    <tr>\n",
       "      <th>0</th>\n",
       "      <td>1</td>\n",
       "      <td>2</td>\n",
       "      <td>66</td>\n",
       "      <td>58</td>\n",
       "      <td>63</td>\n",
       "      <td>10</td>\n",
       "      <td>58</td>\n",
       "      <td>We're both sophomores in the same sorority</td>\n",
       "      <td>69</td>\n",
       "      <td>44</td>\n",
       "      <td>58</td>\n",
       "      <td>74</td>\n",
       "      <td>45</td>\n",
       "      <td>70</td>\n",
       "      <td>62</td>\n",
       "      <td>57</td>\n",
       "      <td>57</td>\n",
       "      <td>1</td>\n",
       "      <td>1</td>\n",
       "      <td>14</td>\n",
       "    </tr>\n",
       "    <tr>\n",
       "      <th>1</th>\n",
       "      <td>1</td>\n",
       "      <td>4</td>\n",
       "      <td>100</td>\n",
       "      <td>87</td>\n",
       "      <td>94</td>\n",
       "      <td>67</td>\n",
       "      <td>0</td>\n",
       "      <td>NaN</td>\n",
       "      <td>65</td>\n",
       "      <td>58</td>\n",
       "      <td>37</td>\n",
       "      <td>55</td>\n",
       "      <td>49</td>\n",
       "      <td>36</td>\n",
       "      <td>60</td>\n",
       "      <td>55</td>\n",
       "      <td>88</td>\n",
       "      <td>2</td>\n",
       "      <td>1</td>\n",
       "      <td>34</td>\n",
       "    </tr>\n",
       "    <tr>\n",
       "      <th>2</th>\n",
       "      <td>1</td>\n",
       "      <td>3</td>\n",
       "      <td>88</td>\n",
       "      <td>74</td>\n",
       "      <td>79</td>\n",
       "      <td>65</td>\n",
       "      <td>0</td>\n",
       "      <td>NaN</td>\n",
       "      <td>71</td>\n",
       "      <td>58</td>\n",
       "      <td>72</td>\n",
       "      <td>88</td>\n",
       "      <td>53</td>\n",
       "      <td>57</td>\n",
       "      <td>70</td>\n",
       "      <td>37</td>\n",
       "      <td>62</td>\n",
       "      <td>3</td>\n",
       "      <td>1</td>\n",
       "      <td>23</td>\n",
       "    </tr>\n",
       "    <tr>\n",
       "      <th>3</th>\n",
       "      <td>1</td>\n",
       "      <td>5</td>\n",
       "      <td>96</td>\n",
       "      <td>93</td>\n",
       "      <td>100</td>\n",
       "      <td>80</td>\n",
       "      <td>78</td>\n",
       "      <td>freshman friends</td>\n",
       "      <td>74</td>\n",
       "      <td>82</td>\n",
       "      <td>88</td>\n",
       "      <td>63</td>\n",
       "      <td>52</td>\n",
       "      <td>61</td>\n",
       "      <td>73</td>\n",
       "      <td>79</td>\n",
       "      <td>92</td>\n",
       "      <td>4</td>\n",
       "      <td>1</td>\n",
       "      <td>42</td>\n",
       "    </tr>\n",
       "    <tr>\n",
       "      <th>4</th>\n",
       "      <td>1</td>\n",
       "      <td>6</td>\n",
       "      <td>90</td>\n",
       "      <td>87</td>\n",
       "      <td>89</td>\n",
       "      <td>44</td>\n",
       "      <td>66</td>\n",
       "      <td>sorority</td>\n",
       "      <td>68</td>\n",
       "      <td>28</td>\n",
       "      <td>27</td>\n",
       "      <td>64</td>\n",
       "      <td>53</td>\n",
       "      <td>90</td>\n",
       "      <td>65</td>\n",
       "      <td>92</td>\n",
       "      <td>61</td>\n",
       "      <td>5</td>\n",
       "      <td>1</td>\n",
       "      <td>54</td>\n",
       "    </tr>\n",
       "  </tbody>\n",
       "</table>\n",
       "</div>"
      ],
      "text/plain": [
       "   subID  partnerID  convo_flow  convo_enjoy  friends  speak  knew_before  \\\n",
       "0      1          2          66           58       63     10           58   \n",
       "1      1          4         100           87       94     67            0   \n",
       "2      1          3          88           74       79     65            0   \n",
       "3      1          5          96           93      100     80           78   \n",
       "4      1          6          90           87       89     44           66   \n",
       "\n",
       "                             knew_before_text  know_now  common  similar  \\\n",
       "0  We're both sophomores in the same sorority        69      44       58   \n",
       "1                                         NaN        65      58       37   \n",
       "2                                         NaN        71      58       72   \n",
       "3                            freshman friends        74      82       88   \n",
       "4                                    sorority        68      28       27   \n",
       "\n",
       "   attractive  attracted_to  extraverted  fun  disclosed  comfortable_self  \\\n",
       "0          74            45           70   62         57                57   \n",
       "1          55            49           36   60         55                88   \n",
       "2          88            53           57   70         37                62   \n",
       "3          63            52           61   73         79                92   \n",
       "4          64            53           90   65         92                61   \n",
       "\n",
       "   convo_order  round_robin_num  dyad  \n",
       "0            1                1    14  \n",
       "1            2                1    34  \n",
       "2            3                1    23  \n",
       "3            4                1    42  \n",
       "4            5                1    54  "
      ]
     },
     "execution_count": 3,
     "metadata": {},
     "output_type": "execute_result"
    }
   ],
   "source": [
    "df.head()"
   ]
  },
  {
   "cell_type": "code",
   "execution_count": 4,
   "metadata": {},
   "outputs": [],
   "source": [
    "df.drop(['knew_before_text', 'convo_order', 'round_robin_num', 'dyad',\n",
    "        'subID', 'partnerID'],axis=1,inplace=True)"
   ]
  },
  {
   "cell_type": "code",
   "execution_count": 5,
   "metadata": {},
   "outputs": [
    {
     "data": {
      "text/html": [
       "<div>\n",
       "<style scoped>\n",
       "    .dataframe tbody tr th:only-of-type {\n",
       "        vertical-align: middle;\n",
       "    }\n",
       "\n",
       "    .dataframe tbody tr th {\n",
       "        vertical-align: top;\n",
       "    }\n",
       "\n",
       "    .dataframe thead th {\n",
       "        text-align: right;\n",
       "    }\n",
       "</style>\n",
       "<table border=\"1\" class=\"dataframe\">\n",
       "  <thead>\n",
       "    <tr style=\"text-align: right;\">\n",
       "      <th></th>\n",
       "      <th>convo_flow</th>\n",
       "      <th>convo_enjoy</th>\n",
       "      <th>friends</th>\n",
       "      <th>speak</th>\n",
       "      <th>knew_before</th>\n",
       "      <th>know_now</th>\n",
       "      <th>common</th>\n",
       "      <th>similar</th>\n",
       "      <th>attractive</th>\n",
       "      <th>attracted_to</th>\n",
       "      <th>extraverted</th>\n",
       "      <th>fun</th>\n",
       "      <th>disclosed</th>\n",
       "      <th>comfortable_self</th>\n",
       "    </tr>\n",
       "  </thead>\n",
       "  <tbody>\n",
       "    <tr>\n",
       "      <th>0</th>\n",
       "      <td>66</td>\n",
       "      <td>58</td>\n",
       "      <td>63</td>\n",
       "      <td>10</td>\n",
       "      <td>58</td>\n",
       "      <td>69</td>\n",
       "      <td>44</td>\n",
       "      <td>58</td>\n",
       "      <td>74</td>\n",
       "      <td>45</td>\n",
       "      <td>70</td>\n",
       "      <td>62</td>\n",
       "      <td>57</td>\n",
       "      <td>57</td>\n",
       "    </tr>\n",
       "    <tr>\n",
       "      <th>1</th>\n",
       "      <td>100</td>\n",
       "      <td>87</td>\n",
       "      <td>94</td>\n",
       "      <td>67</td>\n",
       "      <td>0</td>\n",
       "      <td>65</td>\n",
       "      <td>58</td>\n",
       "      <td>37</td>\n",
       "      <td>55</td>\n",
       "      <td>49</td>\n",
       "      <td>36</td>\n",
       "      <td>60</td>\n",
       "      <td>55</td>\n",
       "      <td>88</td>\n",
       "    </tr>\n",
       "    <tr>\n",
       "      <th>2</th>\n",
       "      <td>88</td>\n",
       "      <td>74</td>\n",
       "      <td>79</td>\n",
       "      <td>65</td>\n",
       "      <td>0</td>\n",
       "      <td>71</td>\n",
       "      <td>58</td>\n",
       "      <td>72</td>\n",
       "      <td>88</td>\n",
       "      <td>53</td>\n",
       "      <td>57</td>\n",
       "      <td>70</td>\n",
       "      <td>37</td>\n",
       "      <td>62</td>\n",
       "    </tr>\n",
       "    <tr>\n",
       "      <th>3</th>\n",
       "      <td>96</td>\n",
       "      <td>93</td>\n",
       "      <td>100</td>\n",
       "      <td>80</td>\n",
       "      <td>78</td>\n",
       "      <td>74</td>\n",
       "      <td>82</td>\n",
       "      <td>88</td>\n",
       "      <td>63</td>\n",
       "      <td>52</td>\n",
       "      <td>61</td>\n",
       "      <td>73</td>\n",
       "      <td>79</td>\n",
       "      <td>92</td>\n",
       "    </tr>\n",
       "    <tr>\n",
       "      <th>4</th>\n",
       "      <td>90</td>\n",
       "      <td>87</td>\n",
       "      <td>89</td>\n",
       "      <td>44</td>\n",
       "      <td>66</td>\n",
       "      <td>68</td>\n",
       "      <td>28</td>\n",
       "      <td>27</td>\n",
       "      <td>64</td>\n",
       "      <td>53</td>\n",
       "      <td>90</td>\n",
       "      <td>65</td>\n",
       "      <td>92</td>\n",
       "      <td>61</td>\n",
       "    </tr>\n",
       "  </tbody>\n",
       "</table>\n",
       "</div>"
      ],
      "text/plain": [
       "   convo_flow  convo_enjoy  friends  speak  knew_before  know_now  common  \\\n",
       "0          66           58       63     10           58        69      44   \n",
       "1         100           87       94     67            0        65      58   \n",
       "2          88           74       79     65            0        71      58   \n",
       "3          96           93      100     80           78        74      82   \n",
       "4          90           87       89     44           66        68      28   \n",
       "\n",
       "   similar  attractive  attracted_to  extraverted  fun  disclosed  \\\n",
       "0       58          74            45           70   62         57   \n",
       "1       37          55            49           36   60         55   \n",
       "2       72          88            53           57   70         37   \n",
       "3       88          63            52           61   73         79   \n",
       "4       27          64            53           90   65         92   \n",
       "\n",
       "   comfortable_self  \n",
       "0                57  \n",
       "1                88  \n",
       "2                62  \n",
       "3                92  \n",
       "4                61  "
      ]
     },
     "execution_count": 5,
     "metadata": {},
     "output_type": "execute_result"
    }
   ],
   "source": [
    "df.head()"
   ]
  },
  {
   "cell_type": "markdown",
   "metadata": {},
   "source": [
    "# Adequacy Test\n",
    "\n",
    "- Bartlett should be sig\n",
    "- KMO should be greater than .6"
   ]
  },
  {
   "cell_type": "code",
   "execution_count": 6,
   "metadata": {},
   "outputs": [
    {
     "data": {
      "text/plain": [
       "(5446.233080858038, 0.0)"
      ]
     },
     "execution_count": 6,
     "metadata": {},
     "output_type": "execute_result"
    }
   ],
   "source": [
    "from factor_analyzer.factor_analyzer import calculate_bartlett_sphericity\n",
    "chi_square_value,p_value=calculate_bartlett_sphericity(df)\n",
    "chi_square_value, p_value"
   ]
  },
  {
   "cell_type": "code",
   "execution_count": 7,
   "metadata": {},
   "outputs": [
    {
     "data": {
      "text/plain": [
       "0.892794394696513"
      ]
     },
     "execution_count": 7,
     "metadata": {},
     "output_type": "execute_result"
    }
   ],
   "source": [
    "from factor_analyzer.factor_analyzer import calculate_kmo\n",
    "kmo_all,kmo_model=calculate_kmo(df)\n",
    "kmo_model"
   ]
  },
  {
   "cell_type": "markdown",
   "metadata": {},
   "source": [
    "# Choose number of factors"
   ]
  },
  {
   "cell_type": "code",
   "execution_count": 8,
   "metadata": {},
   "outputs": [
    {
     "data": {
      "text/plain": [
       "array([6.2568512 , 1.38103418, 1.16342854, 1.07478661, 0.84099805,\n",
       "       0.67547634, 0.65811988, 0.53415472, 0.37634368, 0.31191201,\n",
       "       0.28000167, 0.19605091, 0.16291821, 0.087924  ])"
      ]
     },
     "execution_count": 8,
     "metadata": {},
     "output_type": "execute_result"
    }
   ],
   "source": [
    "fa = FactorAnalyzer(rotation=None)\n",
    "fa.fit(df)\n",
    "ev, v = fa.get_eigenvalues()\n",
    "ev"
   ]
  },
  {
   "cell_type": "code",
   "execution_count": 9,
   "metadata": {},
   "outputs": [
    {
     "data": {
      "image/png": "[encoded data removed]",
      "text/plain": [
       "<Figure size 432x288 with 1 Axes>"
      ]
     },
     "metadata": {
      "needs_background": "light"
     },
     "output_type": "display_data"
    }
   ],
   "source": [
    "# Create scree plot\n",
    "plt.scatter(range(1,df.shape[1]+1),ev)\n",
    "plt.plot(range(1,df.shape[1]+1),ev)\n",
    "plt.title('Scree Plot')\n",
    "plt.xlabel('Number of Factors')\n",
    "plt.ylabel('Eigenvalue')\n",
    "plt.grid()\n",
    "#plt.savefig(os.path.join(base_dir,'figures','scree_plot.png'), dpi=300)\n",
    "plt.show()\n"
   ]
  },
  {
   "cell_type": "markdown",
   "metadata": {},
   "source": [
    "# Perform factor analysis"
   ]
  },
  {
   "cell_type": "code",
   "execution_count": 10,
   "metadata": {},
   "outputs": [
    {
     "data": {
      "text/plain": [
       "array([[ 0.86720403,  0.18111095,  0.02673762,  0.17974372],\n",
       "       [ 0.9214533 ,  0.18445479,  0.08336973,  0.1126667 ],\n",
       "       [ 0.8058161 ,  0.26430948,  0.30450626, -0.11885984],\n",
       "       [-0.03082225, -0.07524522, -0.02730887, -0.3482208 ],\n",
       "       [ 0.1127814 ,  0.46356016,  0.13949859, -0.01570687],\n",
       "       [ 0.24114082,  0.8852591 ,  0.12206855,  0.13391269],\n",
       "       [ 0.6487169 ,  0.33023512,  0.23495198, -0.244724  ],\n",
       "       [ 0.67915246,  0.27030882,  0.33059588, -0.29684147],\n",
       "       [ 0.33154332,  0.06420302,  0.58422257, -0.00816035],\n",
       "       [ 0.00243935,  0.06853594,  0.24556777,  0.01526219],\n",
       "       [ 0.46735329,  0.05960482,  0.41758829,  0.27833265],\n",
       "       [ 0.82685988,  0.14146879,  0.29177948,  0.23903195],\n",
       "       [ 0.19407825,  0.46037888,  0.02770929,  0.27559972],\n",
       "       [ 0.76799956,  0.16342509,  0.03359081,  0.13657399]])"
      ]
     },
     "execution_count": 10,
     "metadata": {},
     "output_type": "execute_result"
    }
   ],
   "source": [
    "fa = FactorAnalyzer(n_factors=4, rotation=\"varimax\")\n",
    "fa.fit(df)\n",
    "fa.loadings_"
   ]
  },
  {
   "cell_type": "code",
   "execution_count": 11,
   "metadata": {},
   "outputs": [],
   "source": [
    "loadings = pd.DataFrame(fa.loadings_)\n",
    "loadings['item'] = pd.DataFrame(df.columns)\n",
    "loadings = loadings.set_index('item')"
   ]
  },
  {
   "cell_type": "code",
   "execution_count": 12,
   "metadata": {},
   "outputs": [
    {
     "data": {
      "text/plain": [
       "Text(41.09374999999999, 0.5, 'item')"
      ]
     },
     "execution_count": 12,
     "metadata": {},
     "output_type": "execute_result"
    },
    {
     "data": {
      "image/png": "[encoded data removed]",
      "text/plain": [
       "<Figure size 504x504 with 2 Axes>"
      ]
     },
     "metadata": {
      "needs_background": "light"
     },
     "output_type": "display_data"
    }
   ],
   "source": [
    "plt.figure(figsize=(7,7))\n",
    "xticklabels = ['1', '2', '3', '4']\n",
    "ax = sns.heatmap(loadings, annot=True, cmap='RdBu', center=0, xticklabels=xticklabels)\n",
    "\n",
    "plt.title('Strangers', fontsize=16)\n",
    "plt.xlabel('factor number', fontsize=16)\n",
    "plt.ylabel('item', fontsize=16)\n",
    "\n",
    "plt.tight_layout()\n",
    "plt.savefig(os.path.join(base_dir, 'Figures', 'factor_loadings_strangers.png'), dpi=300)"
   ]
  },
  {
   "cell_type": "code",
   "execution_count": 13,
   "metadata": {},
   "outputs": [
    {
     "data": {
      "text/plain": [
       "(array([4.84389184, 1.5940817 , 0.96302285, 0.57608351]),\n",
       " array([0.34599227, 0.11386298, 0.06878735, 0.04114882]),\n",
       " array([0.34599227, 0.45985525, 0.5286426 , 0.56979142]))"
      ]
     },
     "execution_count": 13,
     "metadata": {},
     "output_type": "execute_result"
    }
   ],
   "source": [
    "fa.get_factor_variance()\n",
    "# SS Loadings\n",
    "# Proportion Variance\n",
    "# Cumulative Variance"
   ]
  },
  {
   "cell_type": "markdown",
   "metadata": {},
   "source": [
    "# Get scores per convo"
   ]
  },
  {
   "cell_type": "code",
   "execution_count": 14,
   "metadata": {},
   "outputs": [],
   "source": [
    "scores = fa.transform(df)\n",
    "factor_loadings = pd.DataFrame(scores)\n",
    "factor_loadings.columns = ['factor_1', 'factor_2', 'factor_3', 'factor_4']"
   ]
  },
  {
   "cell_type": "code",
   "execution_count": 15,
   "metadata": {},
   "outputs": [],
   "source": [
    "data = pd.read_csv(os.path.join(base_dir, 'Data', 'post_convo_survey',\n",
    "                              'strangers', 'data_common_questions.csv'))\n",
    "data.drop(['knew_before_text',],axis=1,inplace=True)\n"
   ]
  },
  {
   "cell_type": "code",
   "execution_count": 16,
   "metadata": {},
   "outputs": [],
   "source": [
    "data_with_factors = pd.concat([data, factor_loadings], axis=1)"
   ]
  },
  {
   "cell_type": "code",
   "execution_count": 17,
   "metadata": {},
   "outputs": [],
   "source": [
    "data_with_factors.to_csv(os.path.join(base_dir, 'Analyses',\n",
    "                              'post_convo_survey_with_factors_strangers.csv'),\n",
    "                        encoding='utf-8', index=False)"
   ]
  },
  {
   "cell_type": "code",
   "execution_count": 18,
   "metadata": {},
   "outputs": [
    {
     "data": {
      "text/html": [
       "<div>\n",
       "<style scoped>\n",
       "    .dataframe tbody tr th:only-of-type {\n",
       "        vertical-align: middle;\n",
       "    }\n",
       "\n",
       "    .dataframe tbody tr th {\n",
       "        vertical-align: top;\n",
       "    }\n",
       "\n",
       "    .dataframe thead th {\n",
       "        text-align: right;\n",
       "    }\n",
       "</style>\n",
       "<table border=\"1\" class=\"dataframe\">\n",
       "  <thead>\n",
       "    <tr style=\"text-align: right;\">\n",
       "      <th></th>\n",
       "      <th>subID</th>\n",
       "      <th>partnerID</th>\n",
       "      <th>convo_flow</th>\n",
       "      <th>convo_enjoy</th>\n",
       "      <th>friends</th>\n",
       "      <th>speak</th>\n",
       "      <th>knew_before</th>\n",
       "      <th>know_now</th>\n",
       "      <th>common</th>\n",
       "      <th>similar</th>\n",
       "      <th>...</th>\n",
       "      <th>fun</th>\n",
       "      <th>disclosed</th>\n",
       "      <th>comfortable_self</th>\n",
       "      <th>convo_order</th>\n",
       "      <th>round_robin_num</th>\n",
       "      <th>dyad</th>\n",
       "      <th>factor_1</th>\n",
       "      <th>factor_2</th>\n",
       "      <th>factor_3</th>\n",
       "      <th>factor_4</th>\n",
       "    </tr>\n",
       "  </thead>\n",
       "  <tbody>\n",
       "    <tr>\n",
       "      <th>0</th>\n",
       "      <td>1</td>\n",
       "      <td>2</td>\n",
       "      <td>66</td>\n",
       "      <td>58</td>\n",
       "      <td>63</td>\n",
       "      <td>10</td>\n",
       "      <td>58</td>\n",
       "      <td>69</td>\n",
       "      <td>44</td>\n",
       "      <td>58</td>\n",
       "      <td>...</td>\n",
       "      <td>62</td>\n",
       "      <td>57</td>\n",
       "      <td>57</td>\n",
       "      <td>1</td>\n",
       "      <td>1</td>\n",
       "      <td>14</td>\n",
       "      <td>-1.045410</td>\n",
       "      <td>1.414278</td>\n",
       "      <td>1.272922</td>\n",
       "      <td>0.661494</td>\n",
       "    </tr>\n",
       "    <tr>\n",
       "      <th>1</th>\n",
       "      <td>1</td>\n",
       "      <td>4</td>\n",
       "      <td>100</td>\n",
       "      <td>87</td>\n",
       "      <td>94</td>\n",
       "      <td>67</td>\n",
       "      <td>0</td>\n",
       "      <td>65</td>\n",
       "      <td>58</td>\n",
       "      <td>37</td>\n",
       "      <td>...</td>\n",
       "      <td>60</td>\n",
       "      <td>55</td>\n",
       "      <td>88</td>\n",
       "      <td>2</td>\n",
       "      <td>1</td>\n",
       "      <td>34</td>\n",
       "      <td>0.349721</td>\n",
       "      <td>1.244863</td>\n",
       "      <td>-0.757385</td>\n",
       "      <td>-0.067469</td>\n",
       "    </tr>\n",
       "    <tr>\n",
       "      <th>2</th>\n",
       "      <td>1</td>\n",
       "      <td>3</td>\n",
       "      <td>88</td>\n",
       "      <td>74</td>\n",
       "      <td>79</td>\n",
       "      <td>65</td>\n",
       "      <td>0</td>\n",
       "      <td>71</td>\n",
       "      <td>58</td>\n",
       "      <td>72</td>\n",
       "      <td>...</td>\n",
       "      <td>70</td>\n",
       "      <td>37</td>\n",
       "      <td>62</td>\n",
       "      <td>3</td>\n",
       "      <td>1</td>\n",
       "      <td>23</td>\n",
       "      <td>-0.161106</td>\n",
       "      <td>1.238062</td>\n",
       "      <td>0.993580</td>\n",
       "      <td>-0.383749</td>\n",
       "    </tr>\n",
       "    <tr>\n",
       "      <th>3</th>\n",
       "      <td>1</td>\n",
       "      <td>5</td>\n",
       "      <td>96</td>\n",
       "      <td>93</td>\n",
       "      <td>100</td>\n",
       "      <td>80</td>\n",
       "      <td>78</td>\n",
       "      <td>74</td>\n",
       "      <td>82</td>\n",
       "      <td>88</td>\n",
       "      <td>...</td>\n",
       "      <td>73</td>\n",
       "      <td>79</td>\n",
       "      <td>92</td>\n",
       "      <td>4</td>\n",
       "      <td>1</td>\n",
       "      <td>42</td>\n",
       "      <td>0.750656</td>\n",
       "      <td>1.781739</td>\n",
       "      <td>0.295518</td>\n",
       "      <td>-1.095975</td>\n",
       "    </tr>\n",
       "    <tr>\n",
       "      <th>4</th>\n",
       "      <td>1</td>\n",
       "      <td>6</td>\n",
       "      <td>90</td>\n",
       "      <td>87</td>\n",
       "      <td>89</td>\n",
       "      <td>44</td>\n",
       "      <td>66</td>\n",
       "      <td>68</td>\n",
       "      <td>28</td>\n",
       "      <td>27</td>\n",
       "      <td>...</td>\n",
       "      <td>65</td>\n",
       "      <td>92</td>\n",
       "      <td>61</td>\n",
       "      <td>5</td>\n",
       "      <td>1</td>\n",
       "      <td>54</td>\n",
       "      <td>-0.203720</td>\n",
       "      <td>1.266936</td>\n",
       "      <td>0.387775</td>\n",
       "      <td>1.439496</td>\n",
       "    </tr>\n",
       "  </tbody>\n",
       "</table>\n",
       "<p>5 rows × 23 columns</p>\n",
       "</div>"
      ],
      "text/plain": [
       "   subID  partnerID  convo_flow  convo_enjoy  friends  speak  knew_before  \\\n",
       "0      1          2          66           58       63     10           58   \n",
       "1      1          4         100           87       94     67            0   \n",
       "2      1          3          88           74       79     65            0   \n",
       "3      1          5          96           93      100     80           78   \n",
       "4      1          6          90           87       89     44           66   \n",
       "\n",
       "   know_now  common  similar  ...  fun  disclosed  comfortable_self  \\\n",
       "0        69      44       58  ...   62         57                57   \n",
       "1        65      58       37  ...   60         55                88   \n",
       "2        71      58       72  ...   70         37                62   \n",
       "3        74      82       88  ...   73         79                92   \n",
       "4        68      28       27  ...   65         92                61   \n",
       "\n",
       "   convo_order  round_robin_num  dyad  factor_1  factor_2  factor_3  factor_4  \n",
       "0            1                1    14 -1.045410  1.414278  1.272922  0.661494  \n",
       "1            2                1    34  0.349721  1.244863 -0.757385 -0.067469  \n",
       "2            3                1    23 -0.161106  1.238062  0.993580 -0.383749  \n",
       "3            4                1    42  0.750656  1.781739  0.295518 -1.095975  \n",
       "4            5                1    54 -0.203720  1.266936  0.387775  1.439496  \n",
       "\n",
       "[5 rows x 23 columns]"
      ]
     },
     "execution_count": 18,
     "metadata": {},
     "output_type": "execute_result"
    }
   ],
   "source": [
    "data_with_factors.head()"
   ]
  },
  {
   "cell_type": "code",
   "execution_count": null,
   "metadata": {},
   "outputs": [],
   "source": []
  }
 ],
 "metadata": {
  "kernelspec": {
   "display_name": "Python 3",
   "language": "python",
   "name": "python3"
  },
  "language_info": {
   "codemirror_mode": {
    "name": "ipython",
    "version": 3
   },
   "file_extension": ".py",
   "mimetype": "text/x-python",
   "name": "python",
   "nbconvert_exporter": "python",
   "pygments_lexer": "ipython3",
   "version": "3.6.7"
  }
 },
 "nbformat": 4,
 "nbformat_minor": 2
}
