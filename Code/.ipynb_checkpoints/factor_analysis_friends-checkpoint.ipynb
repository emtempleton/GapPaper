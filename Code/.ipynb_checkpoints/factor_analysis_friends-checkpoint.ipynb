{
 "cells": [
  {
   "cell_type": "code",
   "execution_count": 1,
   "metadata": {},
   "outputs": [],
   "source": [
    "import pandas as pd\n",
    "from sklearn.datasets import load_iris\n",
    "from factor_analyzer import FactorAnalyzer\n",
    "import matplotlib.pyplot as plt\n",
    "import os\n",
    "import seaborn as sns\n",
    "\n",
    "%matplotlib inline"
   ]
  },
  {
   "cell_type": "markdown",
   "metadata": {},
   "source": [
    "Sources\n",
    "\n",
    "1. https://www.datacamp.com/community/tutorials/introduction-factor-analysis\n",
    "2. https://buildmedia.readthedocs.org/media/pdf/factor-analyzer/latest/factor-analyzer.pdf"
   ]
  },
  {
   "cell_type": "markdown",
   "metadata": {},
   "source": [
    "# Prepare dataframe"
   ]
  },
  {
   "cell_type": "code",
   "execution_count": 2,
   "metadata": {},
   "outputs": [],
   "source": [
    "base_dir = os.path.dirname(os.getcwd())\n",
    "df = pd.read_csv(os.path.join(base_dir, 'Data', 'post_convo_survey',\n",
    "                              'friends', 'clean_data.csv'))\n"
   ]
  },
  {
   "cell_type": "code",
   "execution_count": 3,
   "metadata": {},
   "outputs": [
    {
     "data": {
      "text/html": [
       "<div>\n",
       "<style scoped>\n",
       "    .dataframe tbody tr th:only-of-type {\n",
       "        vertical-align: middle;\n",
       "    }\n",
       "\n",
       "    .dataframe tbody tr th {\n",
       "        vertical-align: top;\n",
       "    }\n",
       "\n",
       "    .dataframe thead th {\n",
       "        text-align: right;\n",
       "    }\n",
       "</style>\n",
       "<table border=\"1\" class=\"dataframe\">\n",
       "  <thead>\n",
       "    <tr style=\"text-align: right;\">\n",
       "      <th></th>\n",
       "      <th>subID</th>\n",
       "      <th>partnerID</th>\n",
       "      <th>convo_flow</th>\n",
       "      <th>convo_enjoy</th>\n",
       "      <th>speak</th>\n",
       "      <th>common</th>\n",
       "      <th>similar</th>\n",
       "      <th>attractive</th>\n",
       "      <th>attracted_to</th>\n",
       "      <th>extraverted</th>\n",
       "      <th>...</th>\n",
       "      <th>comfortable</th>\n",
       "      <th>extraverted_self</th>\n",
       "      <th>fun_self</th>\n",
       "      <th>disclosed_self</th>\n",
       "      <th>comfortable_self</th>\n",
       "      <th>friends_years</th>\n",
       "      <th>friends_years_extended</th>\n",
       "      <th>friends_talk</th>\n",
       "      <th>friends_nature</th>\n",
       "      <th>gender</th>\n",
       "    </tr>\n",
       "  </thead>\n",
       "  <tbody>\n",
       "    <tr>\n",
       "      <th>0</th>\n",
       "      <td>25</td>\n",
       "      <td>201</td>\n",
       "      <td>69</td>\n",
       "      <td>80</td>\n",
       "      <td>49</td>\n",
       "      <td>66</td>\n",
       "      <td>74</td>\n",
       "      <td>75</td>\n",
       "      <td>11</td>\n",
       "      <td>68</td>\n",
       "      <td>...</td>\n",
       "      <td>92</td>\n",
       "      <td>68</td>\n",
       "      <td>81</td>\n",
       "      <td>34</td>\n",
       "      <td>95</td>\n",
       "      <td>3.5</td>\n",
       "      <td>NaN</td>\n",
       "      <td>91</td>\n",
       "      <td>95</td>\n",
       "      <td>1</td>\n",
       "    </tr>\n",
       "    <tr>\n",
       "      <th>1</th>\n",
       "      <td>201</td>\n",
       "      <td>25</td>\n",
       "      <td>83</td>\n",
       "      <td>85</td>\n",
       "      <td>62</td>\n",
       "      <td>89</td>\n",
       "      <td>62</td>\n",
       "      <td>98</td>\n",
       "      <td>85</td>\n",
       "      <td>69</td>\n",
       "      <td>...</td>\n",
       "      <td>90</td>\n",
       "      <td>76</td>\n",
       "      <td>68</td>\n",
       "      <td>67</td>\n",
       "      <td>93</td>\n",
       "      <td>3.5</td>\n",
       "      <td>NaN</td>\n",
       "      <td>95</td>\n",
       "      <td>75</td>\n",
       "      <td>1</td>\n",
       "    </tr>\n",
       "    <tr>\n",
       "      <th>2</th>\n",
       "      <td>30</td>\n",
       "      <td>202</td>\n",
       "      <td>96</td>\n",
       "      <td>97</td>\n",
       "      <td>58</td>\n",
       "      <td>95</td>\n",
       "      <td>100</td>\n",
       "      <td>86</td>\n",
       "      <td>60</td>\n",
       "      <td>92</td>\n",
       "      <td>...</td>\n",
       "      <td>84</td>\n",
       "      <td>94</td>\n",
       "      <td>75</td>\n",
       "      <td>73</td>\n",
       "      <td>88</td>\n",
       "      <td>1.5</td>\n",
       "      <td>NaN</td>\n",
       "      <td>100</td>\n",
       "      <td>91</td>\n",
       "      <td>1</td>\n",
       "    </tr>\n",
       "    <tr>\n",
       "      <th>3</th>\n",
       "      <td>202</td>\n",
       "      <td>30</td>\n",
       "      <td>77</td>\n",
       "      <td>82</td>\n",
       "      <td>50</td>\n",
       "      <td>76</td>\n",
       "      <td>31</td>\n",
       "      <td>74</td>\n",
       "      <td>75</td>\n",
       "      <td>68</td>\n",
       "      <td>...</td>\n",
       "      <td>85</td>\n",
       "      <td>67</td>\n",
       "      <td>73</td>\n",
       "      <td>69</td>\n",
       "      <td>75</td>\n",
       "      <td>1.6</td>\n",
       "      <td>NaN</td>\n",
       "      <td>73</td>\n",
       "      <td>67</td>\n",
       "      <td>2</td>\n",
       "    </tr>\n",
       "    <tr>\n",
       "      <th>4</th>\n",
       "      <td>101</td>\n",
       "      <td>203</td>\n",
       "      <td>92</td>\n",
       "      <td>99</td>\n",
       "      <td>56</td>\n",
       "      <td>62</td>\n",
       "      <td>78</td>\n",
       "      <td>80</td>\n",
       "      <td>26</td>\n",
       "      <td>59</td>\n",
       "      <td>...</td>\n",
       "      <td>74</td>\n",
       "      <td>44</td>\n",
       "      <td>65</td>\n",
       "      <td>36</td>\n",
       "      <td>84</td>\n",
       "      <td>1.0</td>\n",
       "      <td>NaN</td>\n",
       "      <td>51</td>\n",
       "      <td>52</td>\n",
       "      <td>2</td>\n",
       "    </tr>\n",
       "  </tbody>\n",
       "</table>\n",
       "<p>5 rows × 22 columns</p>\n",
       "</div>"
      ],
      "text/plain": [
       "   subID  partnerID  convo_flow  convo_enjoy  speak  common  similar  \\\n",
       "0     25        201          69           80     49      66       74   \n",
       "1    201         25          83           85     62      89       62   \n",
       "2     30        202          96           97     58      95      100   \n",
       "3    202         30          77           82     50      76       31   \n",
       "4    101        203          92           99     56      62       78   \n",
       "\n",
       "   attractive  attracted_to  extraverted  ...  comfortable  extraverted_self  \\\n",
       "0          75            11           68  ...           92                68   \n",
       "1          98            85           69  ...           90                76   \n",
       "2          86            60           92  ...           84                94   \n",
       "3          74            75           68  ...           85                67   \n",
       "4          80            26           59  ...           74                44   \n",
       "\n",
       "   fun_self  disclosed_self  comfortable_self  friends_years  \\\n",
       "0        81              34                95            3.5   \n",
       "1        68              67                93            3.5   \n",
       "2        75              73                88            1.5   \n",
       "3        73              69                75            1.6   \n",
       "4        65              36                84            1.0   \n",
       "\n",
       "   friends_years_extended  friends_talk friends_nature  gender  \n",
       "0                     NaN            91             95       1  \n",
       "1                     NaN            95             75       1  \n",
       "2                     NaN           100             91       1  \n",
       "3                     NaN            73             67       2  \n",
       "4                     NaN            51             52       2  \n",
       "\n",
       "[5 rows x 22 columns]"
      ]
     },
     "execution_count": 3,
     "metadata": {},
     "output_type": "execute_result"
    }
   ],
   "source": [
    "df.head()"
   ]
  },
  {
   "cell_type": "code",
   "execution_count": 4,
   "metadata": {},
   "outputs": [
    {
     "data": {
      "text/plain": [
       "Index(['subID', 'partnerID', 'convo_flow', 'convo_enjoy', 'speak', 'common',\n",
       "       'similar', 'attractive', 'attracted_to', 'extraverted', 'fun',\n",
       "       'disclosed', 'comfortable', 'extraverted_self', 'fun_self',\n",
       "       'disclosed_self', 'comfortable_self', 'friends_years',\n",
       "       'friends_years_extended', 'friends_talk', 'friends_nature', 'gender'],\n",
       "      dtype='object')"
      ]
     },
     "execution_count": 4,
     "metadata": {},
     "output_type": "execute_result"
    }
   ],
   "source": [
    "df.columns"
   ]
  },
  {
   "cell_type": "code",
   "execution_count": 5,
   "metadata": {},
   "outputs": [],
   "source": [
    "df.drop(['friends_years_extended', 'gender',\n",
    "        'subID', 'partnerID'],axis=1,inplace=True)"
   ]
  },
  {
   "cell_type": "code",
   "execution_count": 6,
   "metadata": {},
   "outputs": [
    {
     "data": {
      "text/html": [
       "<div>\n",
       "<style scoped>\n",
       "    .dataframe tbody tr th:only-of-type {\n",
       "        vertical-align: middle;\n",
       "    }\n",
       "\n",
       "    .dataframe tbody tr th {\n",
       "        vertical-align: top;\n",
       "    }\n",
       "\n",
       "    .dataframe thead th {\n",
       "        text-align: right;\n",
       "    }\n",
       "</style>\n",
       "<table border=\"1\" class=\"dataframe\">\n",
       "  <thead>\n",
       "    <tr style=\"text-align: right;\">\n",
       "      <th></th>\n",
       "      <th>convo_flow</th>\n",
       "      <th>convo_enjoy</th>\n",
       "      <th>speak</th>\n",
       "      <th>common</th>\n",
       "      <th>similar</th>\n",
       "      <th>attractive</th>\n",
       "      <th>attracted_to</th>\n",
       "      <th>extraverted</th>\n",
       "      <th>fun</th>\n",
       "      <th>disclosed</th>\n",
       "      <th>comfortable</th>\n",
       "      <th>extraverted_self</th>\n",
       "      <th>fun_self</th>\n",
       "      <th>disclosed_self</th>\n",
       "      <th>comfortable_self</th>\n",
       "      <th>friends_years</th>\n",
       "      <th>friends_talk</th>\n",
       "      <th>friends_nature</th>\n",
       "    </tr>\n",
       "  </thead>\n",
       "  <tbody>\n",
       "    <tr>\n",
       "      <th>0</th>\n",
       "      <td>69</td>\n",
       "      <td>80</td>\n",
       "      <td>49</td>\n",
       "      <td>66</td>\n",
       "      <td>74</td>\n",
       "      <td>75</td>\n",
       "      <td>11</td>\n",
       "      <td>68</td>\n",
       "      <td>89</td>\n",
       "      <td>89</td>\n",
       "      <td>92</td>\n",
       "      <td>68</td>\n",
       "      <td>81</td>\n",
       "      <td>34</td>\n",
       "      <td>95</td>\n",
       "      <td>3.5</td>\n",
       "      <td>91</td>\n",
       "      <td>95</td>\n",
       "    </tr>\n",
       "    <tr>\n",
       "      <th>1</th>\n",
       "      <td>83</td>\n",
       "      <td>85</td>\n",
       "      <td>62</td>\n",
       "      <td>89</td>\n",
       "      <td>62</td>\n",
       "      <td>98</td>\n",
       "      <td>85</td>\n",
       "      <td>69</td>\n",
       "      <td>88</td>\n",
       "      <td>17</td>\n",
       "      <td>90</td>\n",
       "      <td>76</td>\n",
       "      <td>68</td>\n",
       "      <td>67</td>\n",
       "      <td>93</td>\n",
       "      <td>3.5</td>\n",
       "      <td>95</td>\n",
       "      <td>75</td>\n",
       "    </tr>\n",
       "    <tr>\n",
       "      <th>2</th>\n",
       "      <td>96</td>\n",
       "      <td>97</td>\n",
       "      <td>58</td>\n",
       "      <td>95</td>\n",
       "      <td>100</td>\n",
       "      <td>86</td>\n",
       "      <td>60</td>\n",
       "      <td>92</td>\n",
       "      <td>97</td>\n",
       "      <td>64</td>\n",
       "      <td>84</td>\n",
       "      <td>94</td>\n",
       "      <td>75</td>\n",
       "      <td>73</td>\n",
       "      <td>88</td>\n",
       "      <td>1.5</td>\n",
       "      <td>100</td>\n",
       "      <td>91</td>\n",
       "    </tr>\n",
       "    <tr>\n",
       "      <th>3</th>\n",
       "      <td>77</td>\n",
       "      <td>82</td>\n",
       "      <td>50</td>\n",
       "      <td>76</td>\n",
       "      <td>31</td>\n",
       "      <td>74</td>\n",
       "      <td>75</td>\n",
       "      <td>68</td>\n",
       "      <td>68</td>\n",
       "      <td>64</td>\n",
       "      <td>85</td>\n",
       "      <td>67</td>\n",
       "      <td>73</td>\n",
       "      <td>69</td>\n",
       "      <td>75</td>\n",
       "      <td>1.6</td>\n",
       "      <td>73</td>\n",
       "      <td>67</td>\n",
       "    </tr>\n",
       "    <tr>\n",
       "      <th>4</th>\n",
       "      <td>92</td>\n",
       "      <td>99</td>\n",
       "      <td>56</td>\n",
       "      <td>62</td>\n",
       "      <td>78</td>\n",
       "      <td>80</td>\n",
       "      <td>26</td>\n",
       "      <td>59</td>\n",
       "      <td>80</td>\n",
       "      <td>42</td>\n",
       "      <td>74</td>\n",
       "      <td>44</td>\n",
       "      <td>65</td>\n",
       "      <td>36</td>\n",
       "      <td>84</td>\n",
       "      <td>1.0</td>\n",
       "      <td>51</td>\n",
       "      <td>52</td>\n",
       "    </tr>\n",
       "  </tbody>\n",
       "</table>\n",
       "</div>"
      ],
      "text/plain": [
       "   convo_flow  convo_enjoy  speak  common  similar  attractive  attracted_to  \\\n",
       "0          69           80     49      66       74          75            11   \n",
       "1          83           85     62      89       62          98            85   \n",
       "2          96           97     58      95      100          86            60   \n",
       "3          77           82     50      76       31          74            75   \n",
       "4          92           99     56      62       78          80            26   \n",
       "\n",
       "   extraverted  fun  disclosed  comfortable  extraverted_self  fun_self  \\\n",
       "0           68   89         89           92                68        81   \n",
       "1           69   88         17           90                76        68   \n",
       "2           92   97         64           84                94        75   \n",
       "3           68   68         64           85                67        73   \n",
       "4           59   80         42           74                44        65   \n",
       "\n",
       "   disclosed_self  comfortable_self  friends_years  friends_talk  \\\n",
       "0              34                95            3.5            91   \n",
       "1              67                93            3.5            95   \n",
       "2              73                88            1.5           100   \n",
       "3              69                75            1.6            73   \n",
       "4              36                84            1.0            51   \n",
       "\n",
       "   friends_nature  \n",
       "0              95  \n",
       "1              75  \n",
       "2              91  \n",
       "3              67  \n",
       "4              52  "
      ]
     },
     "execution_count": 6,
     "metadata": {},
     "output_type": "execute_result"
    }
   ],
   "source": [
    "df.head()"
   ]
  },
  {
   "cell_type": "markdown",
   "metadata": {},
   "source": [
    "# Adequacy Test\n",
    "\n",
    "- Bartlett should be sig\n",
    "- KMO should be greater than .6"
   ]
  },
  {
   "cell_type": "code",
   "execution_count": 7,
   "metadata": {},
   "outputs": [
    {
     "data": {
      "text/plain": [
       "(1177.280426687862, 7.000657862210603e-158)"
      ]
     },
     "execution_count": 7,
     "metadata": {},
     "output_type": "execute_result"
    }
   ],
   "source": [
    "from factor_analyzer.factor_analyzer import calculate_bartlett_sphericity\n",
    "chi_square_value,p_value=calculate_bartlett_sphericity(df)\n",
    "chi_square_value, p_value"
   ]
  },
  {
   "cell_type": "code",
   "execution_count": 8,
   "metadata": {},
   "outputs": [
    {
     "data": {
      "text/plain": [
       "0.7393029309077818"
      ]
     },
     "execution_count": 8,
     "metadata": {},
     "output_type": "execute_result"
    }
   ],
   "source": [
    "from factor_analyzer.factor_analyzer import calculate_kmo\n",
    "kmo_all,kmo_model=calculate_kmo(df)\n",
    "kmo_model"
   ]
  },
  {
   "cell_type": "markdown",
   "metadata": {},
   "source": [
    "# Choose number of factors"
   ]
  },
  {
   "cell_type": "code",
   "execution_count": 9,
   "metadata": {},
   "outputs": [
    {
     "data": {
      "text/plain": [
       "array([5.60504498, 2.04921   , 1.76478082, 1.41959996, 1.18042151,\n",
       "       1.09061222, 0.91448982, 0.88353594, 0.57881315, 0.48694436,\n",
       "       0.40639647, 0.36670416, 0.3343246 , 0.24529632, 0.22280924,\n",
       "       0.17947892, 0.15115158, 0.12038595])"
      ]
     },
     "execution_count": 9,
     "metadata": {},
     "output_type": "execute_result"
    }
   ],
   "source": [
    "fa = FactorAnalyzer(rotation=None)\n",
    "fa.fit(df)\n",
    "ev, v = fa.get_eigenvalues()\n",
    "ev"
   ]
  },
  {
   "cell_type": "code",
   "execution_count": 10,
   "metadata": {},
   "outputs": [
    {
     "data": {
      "image/png": "[encoded data removed]",
      "text/plain": [
       "<Figure size 432x288 with 1 Axes>"
      ]
     },
     "metadata": {
      "needs_background": "light"
     },
     "output_type": "display_data"
    }
   ],
   "source": [
    "# Create scree plot\n",
    "plt.scatter(range(1,df.shape[1]+1),ev)\n",
    "plt.plot(range(1,df.shape[1]+1),ev)\n",
    "plt.title('Scree Plot')\n",
    "plt.xlabel('Number of Factors')\n",
    "plt.ylabel('Eigenvalue')\n",
    "plt.grid()\n",
    "#plt.savefig(os.path.join(base_dir,'figures','scree_plot.png'), dpi=300)\n",
    "plt.show()"
   ]
  },
  {
   "cell_type": "markdown",
   "metadata": {},
   "source": [
    "# Perform factor analysis"
   ]
  },
  {
   "cell_type": "code",
   "execution_count": 11,
   "metadata": {},
   "outputs": [
    {
     "data": {
      "text/plain": [
       "array([[ 8.12110222e-01,  1.02944037e-01,  1.89353816e-02,\n",
       "         9.58180940e-02,  4.84769303e-02, -2.22746514e-02],\n",
       "       [ 8.79194157e-01,  2.01763006e-01,  3.78379900e-02,\n",
       "         5.65635992e-02,  4.57632006e-03,  5.31476535e-02],\n",
       "       [-1.12540293e-01,  6.70448433e-02, -9.95897092e-03,\n",
       "         5.90902267e-01, -4.49849277e-01,  3.33791121e-02],\n",
       "       [ 2.85784008e-01,  7.84398408e-01,  1.94834992e-01,\n",
       "         1.54948025e-01, -3.82556623e-02,  5.71581207e-02],\n",
       "       [ 1.59901060e-01,  6.90075819e-01,  7.75616908e-02,\n",
       "         1.29703874e-01, -8.22677080e-03,  4.34330952e-02],\n",
       "       [ 2.13305605e-01,  2.73763674e-01,  1.73918367e-01,\n",
       "        -9.71698225e-02, -1.66678556e-02, -3.68196057e-03],\n",
       "       [ 1.16191969e-02, -3.26963532e-03,  2.04761515e-01,\n",
       "         9.35573226e-02, -3.25660355e-01,  8.07921882e-02],\n",
       "       [ 2.03759247e-01, -7.38317906e-04,  1.83242166e-01,\n",
       "         7.17104162e-02,  8.35106269e-01, -1.60531507e-02],\n",
       "       [ 6.38867402e-01,  4.32350411e-01,  3.91268674e-02,\n",
       "         1.25640429e-02,  3.36936496e-01,  6.95701451e-02],\n",
       "       [ 1.85990563e-01, -3.49069974e-02,  5.62465835e-02,\n",
       "        -1.59955164e-01,  2.05493887e-02,  7.98412402e-01],\n",
       "       [ 7.60004774e-01,  7.89512235e-02,  1.47066222e-01,\n",
       "        -4.39191743e-02,  1.14953309e-01,  1.83990034e-01],\n",
       "       [ 3.04946112e-01,  9.76743512e-02,  1.40526680e-01,\n",
       "         7.82160113e-01,  8.85731977e-02,  2.11762868e-03],\n",
       "       [ 6.61824148e-01,  2.26692663e-01,  5.15353983e-02,\n",
       "         3.92379789e-01,  1.80564642e-01,  9.30280995e-02],\n",
       "       [ 9.84581519e-02,  1.05207823e-01,  8.88172846e-02,\n",
       "         3.52936784e-01, -1.84299763e-01,  6.50842750e-01],\n",
       "       [ 8.07547105e-01,  1.13634572e-01,  2.06083134e-01,\n",
       "         7.35704949e-02, -3.14425337e-02,  1.57950659e-01],\n",
       "       [-6.11206379e-03,  3.03515774e-01,  2.60421898e-01,\n",
       "        -2.94278168e-02,  4.42570508e-02, -2.17690010e-01],\n",
       "       [ 6.18470234e-02,  8.61847510e-02,  5.98411485e-01,\n",
       "         6.58060981e-02,  9.21159123e-03,  7.73556797e-02],\n",
       "       [ 2.46458204e-01,  3.27198847e-01,  9.21656290e-01,\n",
       "         6.29757362e-02, -2.60330984e-02,  3.27715135e-02]])"
      ]
     },
     "execution_count": 11,
     "metadata": {},
     "output_type": "execute_result"
    }
   ],
   "source": [
    "fa = FactorAnalyzer(n_factors=6, rotation=\"varimax\")\n",
    "fa.fit(df)\n",
    "fa.loadings_"
   ]
  },
  {
   "cell_type": "code",
   "execution_count": 12,
   "metadata": {},
   "outputs": [],
   "source": [
    "loadings = pd.DataFrame(fa.loadings_)\n",
    "loadings['item'] = pd.DataFrame(df.columns)\n",
    "loadings = loadings.set_index('item')"
   ]
  },
  {
   "cell_type": "code",
   "execution_count": 13,
   "metadata": {},
   "outputs": [
    {
     "data": {
      "image/png": "[encoded data removed]",
      "text/plain": [
       "<Figure size 504x504 with 2 Axes>"
      ]
     },
     "metadata": {
      "needs_background": "light"
     },
     "output_type": "display_data"
    }
   ],
   "source": [
    "plt.figure(figsize=(7,7))\n",
    "xticklabels = ['1', '2', '3', '4', '5', '6']\n",
    "ax = sns.heatmap(loadings, annot=True, cmap='RdBu', center=0, xticklabels=xticklabels)\n",
    "\n",
    "plt.title('Friends', fontsize=16)\n",
    "plt.xlabel('factor number', fontsize=16)\n",
    "plt.ylabel('item', fontsize=16)\n",
    "\n",
    "plt.tight_layout()\n",
    "plt.savefig(os.path.join(base_dir, 'Figures', 'factor_loadings_friends'), dpi=300)"
   ]
  },
  {
   "cell_type": "code",
   "execution_count": 14,
   "metadata": {},
   "outputs": [
    {
     "data": {
      "text/plain": [
       "(array([3.91734869, 1.70814282, 1.52607016, 1.35826347, 1.21528931,\n",
       "        1.20419205]),\n",
       " array([0.21763048, 0.09489682, 0.08478168, 0.07545908, 0.06751607,\n",
       "        0.06689956]),\n",
       " array([0.21763048, 0.31252731, 0.39730898, 0.47276806, 0.54028414,\n",
       "        0.60718369]))"
      ]
     },
     "execution_count": 14,
     "metadata": {},
     "output_type": "execute_result"
    }
   ],
   "source": [
    "fa.get_factor_variance()\n",
    "# SS Loadings\n",
    "# Proportion Variance\n",
    "# Cumulative Variance"
   ]
  },
  {
   "cell_type": "markdown",
   "metadata": {},
   "source": [
    "# Get scores per convo"
   ]
  },
  {
   "cell_type": "code",
   "execution_count": 15,
   "metadata": {},
   "outputs": [],
   "source": [
    "scores = fa.transform(df)\n",
    "factor_loadings = pd.DataFrame(scores)\n",
    "factor_loadings.columns = ['factor_1', 'factor_2', 'factor_3', 'factor_4', 'factor_5', 'factor_6']"
   ]
  },
  {
   "cell_type": "code",
   "execution_count": 16,
   "metadata": {},
   "outputs": [],
   "source": [
    "data = pd.read_csv(os.path.join(base_dir, 'Data', 'post_convo_survey',\n",
    "                              'friends', 'clean_data.csv'))"
   ]
  },
  {
   "cell_type": "code",
   "execution_count": 17,
   "metadata": {},
   "outputs": [],
   "source": [
    "data_with_factors = pd.concat([data, factor_loadings], axis=1)"
   ]
  },
  {
   "cell_type": "code",
   "execution_count": 20,
   "metadata": {},
   "outputs": [],
   "source": [
    "data_with_factors.to_csv(os.path.join(base_dir, 'Analyses',\n",
    "                              'post_convo_survey_with_factors_friends.csv'),\n",
    "                        encoding='utf-8', index=False)"
   ]
  },
  {
   "cell_type": "code",
   "execution_count": 21,
   "metadata": {},
   "outputs": [
    {
     "data": {
      "text/html": [
       "<div>\n",
       "<style scoped>\n",
       "    .dataframe tbody tr th:only-of-type {\n",
       "        vertical-align: middle;\n",
       "    }\n",
       "\n",
       "    .dataframe tbody tr th {\n",
       "        vertical-align: top;\n",
       "    }\n",
       "\n",
       "    .dataframe thead th {\n",
       "        text-align: right;\n",
       "    }\n",
       "</style>\n",
       "<table border=\"1\" class=\"dataframe\">\n",
       "  <thead>\n",
       "    <tr style=\"text-align: right;\">\n",
       "      <th></th>\n",
       "      <th>subID</th>\n",
       "      <th>partnerID</th>\n",
       "      <th>convo_flow</th>\n",
       "      <th>convo_enjoy</th>\n",
       "      <th>speak</th>\n",
       "      <th>common</th>\n",
       "      <th>similar</th>\n",
       "      <th>attractive</th>\n",
       "      <th>attracted_to</th>\n",
       "      <th>extraverted</th>\n",
       "      <th>...</th>\n",
       "      <th>friends_years_extended</th>\n",
       "      <th>friends_talk</th>\n",
       "      <th>friends_nature</th>\n",
       "      <th>gender</th>\n",
       "      <th>factor_1</th>\n",
       "      <th>factor_2</th>\n",
       "      <th>factor_3</th>\n",
       "      <th>factor_4</th>\n",
       "      <th>factor_5</th>\n",
       "      <th>factor_6</th>\n",
       "    </tr>\n",
       "  </thead>\n",
       "  <tbody>\n",
       "    <tr>\n",
       "      <th>0</th>\n",
       "      <td>25</td>\n",
       "      <td>201</td>\n",
       "      <td>69</td>\n",
       "      <td>80</td>\n",
       "      <td>49</td>\n",
       "      <td>66</td>\n",
       "      <td>74</td>\n",
       "      <td>75</td>\n",
       "      <td>11</td>\n",
       "      <td>68</td>\n",
       "      <td>...</td>\n",
       "      <td>NaN</td>\n",
       "      <td>91</td>\n",
       "      <td>95</td>\n",
       "      <td>1</td>\n",
       "      <td>-0.308200</td>\n",
       "      <td>-0.087290</td>\n",
       "      <td>1.335019</td>\n",
       "      <td>-0.536253</td>\n",
       "      <td>0.328599</td>\n",
       "      <td>0.492113</td>\n",
       "    </tr>\n",
       "    <tr>\n",
       "      <th>1</th>\n",
       "      <td>201</td>\n",
       "      <td>25</td>\n",
       "      <td>83</td>\n",
       "      <td>85</td>\n",
       "      <td>62</td>\n",
       "      <td>89</td>\n",
       "      <td>62</td>\n",
       "      <td>98</td>\n",
       "      <td>85</td>\n",
       "      <td>69</td>\n",
       "      <td>...</td>\n",
       "      <td>NaN</td>\n",
       "      <td>95</td>\n",
       "      <td>75</td>\n",
       "      <td>1</td>\n",
       "      <td>-0.013250</td>\n",
       "      <td>0.356531</td>\n",
       "      <td>-0.653459</td>\n",
       "      <td>0.521182</td>\n",
       "      <td>-0.289183</td>\n",
       "      <td>-0.573040</td>\n",
       "    </tr>\n",
       "    <tr>\n",
       "      <th>2</th>\n",
       "      <td>30</td>\n",
       "      <td>202</td>\n",
       "      <td>96</td>\n",
       "      <td>97</td>\n",
       "      <td>58</td>\n",
       "      <td>95</td>\n",
       "      <td>100</td>\n",
       "      <td>86</td>\n",
       "      <td>60</td>\n",
       "      <td>92</td>\n",
       "      <td>...</td>\n",
       "      <td>NaN</td>\n",
       "      <td>100</td>\n",
       "      <td>91</td>\n",
       "      <td>1</td>\n",
       "      <td>0.092974</td>\n",
       "      <td>0.847730</td>\n",
       "      <td>0.713707</td>\n",
       "      <td>0.734823</td>\n",
       "      <td>0.552550</td>\n",
       "      <td>0.397309</td>\n",
       "    </tr>\n",
       "    <tr>\n",
       "      <th>3</th>\n",
       "      <td>202</td>\n",
       "      <td>30</td>\n",
       "      <td>77</td>\n",
       "      <td>82</td>\n",
       "      <td>50</td>\n",
       "      <td>76</td>\n",
       "      <td>31</td>\n",
       "      <td>74</td>\n",
       "      <td>75</td>\n",
       "      <td>68</td>\n",
       "      <td>...</td>\n",
       "      <td>NaN</td>\n",
       "      <td>73</td>\n",
       "      <td>67</td>\n",
       "      <td>2</td>\n",
       "      <td>-0.504380</td>\n",
       "      <td>-0.533085</td>\n",
       "      <td>-0.522414</td>\n",
       "      <td>0.178579</td>\n",
       "      <td>-0.091145</td>\n",
       "      <td>0.566868</td>\n",
       "    </tr>\n",
       "    <tr>\n",
       "      <th>4</th>\n",
       "      <td>101</td>\n",
       "      <td>203</td>\n",
       "      <td>92</td>\n",
       "      <td>99</td>\n",
       "      <td>56</td>\n",
       "      <td>62</td>\n",
       "      <td>78</td>\n",
       "      <td>80</td>\n",
       "      <td>26</td>\n",
       "      <td>59</td>\n",
       "      <td>...</td>\n",
       "      <td>NaN</td>\n",
       "      <td>51</td>\n",
       "      <td>52</td>\n",
       "      <td>2</td>\n",
       "      <td>0.334490</td>\n",
       "      <td>-0.254378</td>\n",
       "      <td>-1.423448</td>\n",
       "      <td>-0.758338</td>\n",
       "      <td>-0.482940</td>\n",
       "      <td>-0.538780</td>\n",
       "    </tr>\n",
       "  </tbody>\n",
       "</table>\n",
       "<p>5 rows × 28 columns</p>\n",
       "</div>"
      ],
      "text/plain": [
       "   subID  partnerID  convo_flow  convo_enjoy  speak  common  similar  \\\n",
       "0     25        201          69           80     49      66       74   \n",
       "1    201         25          83           85     62      89       62   \n",
       "2     30        202          96           97     58      95      100   \n",
       "3    202         30          77           82     50      76       31   \n",
       "4    101        203          92           99     56      62       78   \n",
       "\n",
       "   attractive  attracted_to  extraverted  ...  friends_years_extended  \\\n",
       "0          75            11           68  ...                     NaN   \n",
       "1          98            85           69  ...                     NaN   \n",
       "2          86            60           92  ...                     NaN   \n",
       "3          74            75           68  ...                     NaN   \n",
       "4          80            26           59  ...                     NaN   \n",
       "\n",
       "   friends_talk  friends_nature  gender  factor_1  factor_2  factor_3  \\\n",
       "0            91              95       1 -0.308200 -0.087290  1.335019   \n",
       "1            95              75       1 -0.013250  0.356531 -0.653459   \n",
       "2           100              91       1  0.092974  0.847730  0.713707   \n",
       "3            73              67       2 -0.504380 -0.533085 -0.522414   \n",
       "4            51              52       2  0.334490 -0.254378 -1.423448   \n",
       "\n",
       "   factor_4  factor_5  factor_6  \n",
       "0 -0.536253  0.328599  0.492113  \n",
       "1  0.521182 -0.289183 -0.573040  \n",
       "2  0.734823  0.552550  0.397309  \n",
       "3  0.178579 -0.091145  0.566868  \n",
       "4 -0.758338 -0.482940 -0.538780  \n",
       "\n",
       "[5 rows x 28 columns]"
      ]
     },
     "execution_count": 21,
     "metadata": {},
     "output_type": "execute_result"
    }
   ],
   "source": [
    "data_with_factors.head()"
   ]
  },
  {
   "cell_type": "code",
   "execution_count": 24,
   "metadata": {},
   "outputs": [
    {
     "data": {
      "text/plain": [
       "(array([ 2.,  0.,  2.,  1.,  0.,  8., 14., 13., 27., 63.]),\n",
       " array([ 25. ,  32.5,  40. ,  47.5,  55. ,  62.5,  70. ,  77.5,  85. ,\n",
       "         92.5, 100. ]),\n",
       " <a list of 10 Patch objects>)"
      ]
     },
     "execution_count": 24,
     "metadata": {},
     "output_type": "execute_result"
    },
    {
     "data": {
      "image/png": "[encoded data removed]",
      "text/plain": [
       "<Figure size 432x288 with 1 Axes>"
      ]
     },
     "metadata": {
      "needs_background": "light"
     },
     "output_type": "display_data"
    }
   ],
   "source": [
    "plt.hist(data_with_factors['convo_enjoy'])"
   ]
  },
  {
   "cell_type": "code",
   "execution_count": 31,
   "metadata": {},
   "outputs": [
    {
     "data": {
      "text/plain": [
       "(array([ 2.,  0.,  1.,  2.,  3., 13., 16., 28., 47., 18.]),\n",
       " array([-4.13089397, -3.58476127, -3.03862858, -2.49249588, -1.94636318,\n",
       "        -1.40023048, -0.85409778, -0.30796508,  0.23816762,  0.78430032,\n",
       "         1.33043302]),\n",
       " <a list of 10 Patch objects>)"
      ]
     },
     "execution_count": 31,
     "metadata": {},
     "output_type": "execute_result"
    },
    {
     "data": {
      "image/png": "[encoded data removed]",
      "text/plain": [
       "<Figure size 432x288 with 1 Axes>"
      ]
     },
     "metadata": {
      "needs_background": "light"
     },
     "output_type": "display_data"
    }
   ],
   "source": [
    "plt.hist(data_with_factors['factor_1'])"
   ]
  }
 ],
 "metadata": {
  "kernelspec": {
   "display_name": "Python 3",
   "language": "python",
   "name": "python3"
  },
  "language_info": {
   "codemirror_mode": {
    "name": "ipython",
    "version": 3
   },
   "file_extension": ".py",
   "mimetype": "text/x-python",
   "name": "python",
   "nbconvert_exporter": "python",
   "pygments_lexer": "ipython3",
   "version": "3.6.7"
  }
 },
 "nbformat": 4,
 "nbformat_minor": 2
}
