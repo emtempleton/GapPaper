{
 "cells": [
  {
   "cell_type": "markdown",
   "metadata": {},
   "source": [
    "Remember to cite Eshin pymer4 in supplement\n",
    "\n",
    "Might be able to change the color or shape if the p-value is sig for visualization"
   ]
  },
  {
   "cell_type": "code",
   "execution_count": 1,
   "metadata": {},
   "outputs": [
    {
     "name": "stderr",
     "output_type": "stream",
     "text": [
      "/Users/emma/anaconda3/lib/python3.6/site-packages/rpy2/robjects/pandas2ri.py:14: FutureWarning: pandas.core.index is deprecated and will be removed in a future version.  The public classes are available in the top-level namespace.\n",
      "  from pandas.core.index import Index as PandasIndex\n",
      "/Users/emma/anaconda3/lib/python3.6/site-packages/sklearn/utils/deprecation.py:144: FutureWarning: The sklearn.linear_model.base module is  deprecated in version 0.22 and will be removed in version 0.24. The corresponding classes / functions should instead be imported from sklearn.linear_model. Anything that cannot be imported from sklearn.linear_model is now part of the private API.\n",
      "  warnings.warn(message, FutureWarning)\n"
     ]
    }
   ],
   "source": [
    "import pandas as pd \n",
    "import numpy as np\n",
    "import os.path\n",
    "import matplotlib.pyplot as plt\n",
    "import seaborn as sns\n",
    "import glob\n",
    "from pymer4.models import Lmer\n",
    "from nltools.stats import circle_shift, zscore\n",
    "from tqdm import tqdm\n",
    "\n",
    "%matplotlib inline\n",
    "sns.set_style(\"white\")\n",
    "\n",
    "base_dir = os.path.dirname(os.getcwd())"
   ]
  },
  {
   "cell_type": "code",
   "execution_count": 2,
   "metadata": {},
   "outputs": [],
   "source": [
    "data = pd.read_csv(os.path.join(base_dir,'Analyses','binned_connection_and_gaps_strangers.csv'))"
   ]
  },
  {
   "cell_type": "code",
   "execution_count": 3,
   "metadata": {},
   "outputs": [
    {
     "data": {
      "text/html": [
       "<div>\n",
       "<style scoped>\n",
       "    .dataframe tbody tr th:only-of-type {\n",
       "        vertical-align: middle;\n",
       "    }\n",
       "\n",
       "    .dataframe tbody tr th {\n",
       "        vertical-align: top;\n",
       "    }\n",
       "\n",
       "    .dataframe thead th {\n",
       "        text-align: right;\n",
       "    }\n",
       "</style>\n",
       "<table border=\"1\" class=\"dataframe\">\n",
       "  <thead>\n",
       "    <tr style=\"text-align: right;\">\n",
       "      <th></th>\n",
       "      <th>subID</th>\n",
       "      <th>partnerID</th>\n",
       "      <th>dyad</th>\n",
       "      <th>bin_num</th>\n",
       "      <th>gap_length_mean_1</th>\n",
       "      <th>gap_length_median_1</th>\n",
       "      <th>connection_1</th>\n",
       "      <th>num_turns_1</th>\n",
       "      <th>gap_length_mean_2</th>\n",
       "      <th>gap_length_median_2</th>\n",
       "      <th>...</th>\n",
       "      <th>connection_40</th>\n",
       "      <th>num_turns_40</th>\n",
       "      <th>gap_length_mean_60</th>\n",
       "      <th>gap_length_median_60</th>\n",
       "      <th>connection_60</th>\n",
       "      <th>num_turns_60</th>\n",
       "      <th>gap_length_mean_120</th>\n",
       "      <th>gap_length_median_120</th>\n",
       "      <th>connection_120</th>\n",
       "      <th>num_turns_120</th>\n",
       "    </tr>\n",
       "  </thead>\n",
       "  <tbody>\n",
       "    <tr>\n",
       "      <th>0</th>\n",
       "      <td>100</td>\n",
       "      <td>101</td>\n",
       "      <td>100_101</td>\n",
       "      <td>0.0</td>\n",
       "      <td>350.018634</td>\n",
       "      <td>300.0</td>\n",
       "      <td>59.804833</td>\n",
       "      <td>161.0</td>\n",
       "      <td>345.333333</td>\n",
       "      <td>304.0</td>\n",
       "      <td>...</td>\n",
       "      <td>1.420000</td>\n",
       "      <td>8.0</td>\n",
       "      <td>425.000000</td>\n",
       "      <td>402.0</td>\n",
       "      <td>0.00</td>\n",
       "      <td>6.0</td>\n",
       "      <td>439.0</td>\n",
       "      <td>563.0</td>\n",
       "      <td>0.00</td>\n",
       "      <td>3.0</td>\n",
       "    </tr>\n",
       "    <tr>\n",
       "      <th>1</th>\n",
       "      <td>101</td>\n",
       "      <td>100</td>\n",
       "      <td>100_101</td>\n",
       "      <td>0.0</td>\n",
       "      <td>350.018634</td>\n",
       "      <td>300.0</td>\n",
       "      <td>65.760833</td>\n",
       "      <td>161.0</td>\n",
       "      <td>345.333333</td>\n",
       "      <td>304.0</td>\n",
       "      <td>...</td>\n",
       "      <td>31.293333</td>\n",
       "      <td>8.0</td>\n",
       "      <td>425.000000</td>\n",
       "      <td>402.0</td>\n",
       "      <td>14.69</td>\n",
       "      <td>6.0</td>\n",
       "      <td>439.0</td>\n",
       "      <td>563.0</td>\n",
       "      <td>0.56</td>\n",
       "      <td>3.0</td>\n",
       "    </tr>\n",
       "    <tr>\n",
       "      <th>2</th>\n",
       "      <td>100</td>\n",
       "      <td>101</td>\n",
       "      <td>100_101</td>\n",
       "      <td>1.0</td>\n",
       "      <td>NaN</td>\n",
       "      <td>NaN</td>\n",
       "      <td>NaN</td>\n",
       "      <td>NaN</td>\n",
       "      <td>356.426471</td>\n",
       "      <td>269.5</td>\n",
       "      <td>...</td>\n",
       "      <td>7.866667</td>\n",
       "      <td>5.0</td>\n",
       "      <td>453.750000</td>\n",
       "      <td>428.0</td>\n",
       "      <td>5.63</td>\n",
       "      <td>4.0</td>\n",
       "      <td>411.0</td>\n",
       "      <td>241.0</td>\n",
       "      <td>0.00</td>\n",
       "      <td>3.0</td>\n",
       "    </tr>\n",
       "    <tr>\n",
       "      <th>3</th>\n",
       "      <td>101</td>\n",
       "      <td>100</td>\n",
       "      <td>100_101</td>\n",
       "      <td>1.0</td>\n",
       "      <td>NaN</td>\n",
       "      <td>NaN</td>\n",
       "      <td>NaN</td>\n",
       "      <td>NaN</td>\n",
       "      <td>356.426471</td>\n",
       "      <td>269.5</td>\n",
       "      <td>...</td>\n",
       "      <td>74.380000</td>\n",
       "      <td>5.0</td>\n",
       "      <td>453.750000</td>\n",
       "      <td>428.0</td>\n",
       "      <td>68.25</td>\n",
       "      <td>4.0</td>\n",
       "      <td>411.0</td>\n",
       "      <td>241.0</td>\n",
       "      <td>28.82</td>\n",
       "      <td>3.0</td>\n",
       "    </tr>\n",
       "    <tr>\n",
       "      <th>4</th>\n",
       "      <td>100</td>\n",
       "      <td>101</td>\n",
       "      <td>100_101</td>\n",
       "      <td>2.0</td>\n",
       "      <td>NaN</td>\n",
       "      <td>NaN</td>\n",
       "      <td>NaN</td>\n",
       "      <td>NaN</td>\n",
       "      <td>NaN</td>\n",
       "      <td>NaN</td>\n",
       "      <td>...</td>\n",
       "      <td>21.993333</td>\n",
       "      <td>8.0</td>\n",
       "      <td>448.666667</td>\n",
       "      <td>460.0</td>\n",
       "      <td>8.30</td>\n",
       "      <td>3.0</td>\n",
       "      <td>315.0</td>\n",
       "      <td>315.0</td>\n",
       "      <td>4.26</td>\n",
       "      <td>2.0</td>\n",
       "    </tr>\n",
       "  </tbody>\n",
       "</table>\n",
       "<p>5 rows × 64 columns</p>\n",
       "</div>"
      ],
      "text/plain": [
       "   subID  partnerID     dyad  bin_num  gap_length_mean_1  gap_length_median_1  \\\n",
       "0    100        101  100_101      0.0         350.018634                300.0   \n",
       "1    101        100  100_101      0.0         350.018634                300.0   \n",
       "2    100        101  100_101      1.0                NaN                  NaN   \n",
       "3    101        100  100_101      1.0                NaN                  NaN   \n",
       "4    100        101  100_101      2.0                NaN                  NaN   \n",
       "\n",
       "   connection_1  num_turns_1  gap_length_mean_2  gap_length_median_2  ...  \\\n",
       "0     59.804833        161.0         345.333333                304.0  ...   \n",
       "1     65.760833        161.0         345.333333                304.0  ...   \n",
       "2           NaN          NaN         356.426471                269.5  ...   \n",
       "3           NaN          NaN         356.426471                269.5  ...   \n",
       "4           NaN          NaN                NaN                  NaN  ...   \n",
       "\n",
       "   connection_40  num_turns_40  gap_length_mean_60  gap_length_median_60  \\\n",
       "0       1.420000           8.0          425.000000                 402.0   \n",
       "1      31.293333           8.0          425.000000                 402.0   \n",
       "2       7.866667           5.0          453.750000                 428.0   \n",
       "3      74.380000           5.0          453.750000                 428.0   \n",
       "4      21.993333           8.0          448.666667                 460.0   \n",
       "\n",
       "   connection_60  num_turns_60  gap_length_mean_120  gap_length_median_120  \\\n",
       "0           0.00           6.0                439.0                  563.0   \n",
       "1          14.69           6.0                439.0                  563.0   \n",
       "2           5.63           4.0                411.0                  241.0   \n",
       "3          68.25           4.0                411.0                  241.0   \n",
       "4           8.30           3.0                315.0                  315.0   \n",
       "\n",
       "   connection_120  num_turns_120  \n",
       "0            0.00            3.0  \n",
       "1            0.56            3.0  \n",
       "2            0.00            3.0  \n",
       "3           28.82            3.0  \n",
       "4            4.26            2.0  \n",
       "\n",
       "[5 rows x 64 columns]"
      ]
     },
     "execution_count": 3,
     "metadata": {},
     "output_type": "execute_result"
    }
   ],
   "source": [
    "data.head()"
   ]
  },
  {
   "cell_type": "markdown",
   "metadata": {},
   "source": [
    "# Effect of gap length on connection for each bin size"
   ]
  },
  {
   "cell_type": "code",
   "execution_count": 4,
   "metadata": {},
   "outputs": [
    {
     "name": "stdout",
     "output_type": "stream",
     "text": [
      "Formula: connection_2_zscore~gap_length_mean_2_zscore+bin_num_zscore+(1|subID)+(1|dyad)\n",
      "\n",
      "Family: gaussian\t Inference: parametric\n",
      "\n",
      "Number of observations: 1288\t Groups: {'dyad': 322.0, 'subID': 66.0}\n",
      "\n",
      "Log-likelihood: -1413.796 \t AIC: 2827.592\n",
      "\n",
      "Random effects:\n",
      "\n",
      "                 Name    Var    Std\n",
      "dyad      (Intercept)  0.246  0.496\n",
      "subID     (Intercept)  0.327  0.572\n",
      "Residual               0.322  0.568\n",
      "\n",
      "No random effect correlations specified\n",
      "\n",
      "Fixed effects:\n",
      "\n",
      "Formula: connection_3_zscore~gap_length_mean_3_zscore+bin_num_zscore+(1|subID)+(1|dyad)\n",
      "\n",
      "Family: gaussian\t Inference: parametric\n",
      "\n",
      "Number of observations: 1932\t Groups: {'dyad': 322.0, 'subID': 66.0}\n",
      "\n",
      "Log-likelihood: -2044.330 \t AIC: 4088.660\n",
      "\n",
      "Random effects:\n",
      "\n",
      "                 Name    Var    Std\n",
      "dyad      (Intercept)  0.265  0.515\n",
      "subID     (Intercept)  0.314  0.560\n",
      "Residual               0.326  0.571\n",
      "\n",
      "No random effect correlations specified\n",
      "\n",
      "Fixed effects:\n",
      "\n",
      "Formula: connection_4_zscore~gap_length_mean_4_zscore+bin_num_zscore+(1|subID)+(1|dyad)\n",
      "\n",
      "Family: gaussian\t Inference: parametric\n",
      "\n",
      "Number of observations: 2576\t Groups: {'dyad': 322.0, 'subID': 66.0}\n",
      "\n",
      "Log-likelihood: -2680.550 \t AIC: 5361.100\n",
      "\n",
      "Random effects:\n",
      "\n",
      "                 Name    Var    Std\n",
      "dyad      (Intercept)  0.281  0.530\n",
      "subID     (Intercept)  0.309  0.556\n",
      "Residual               0.335  0.579\n",
      "\n",
      "No random effect correlations specified\n",
      "\n",
      "Fixed effects:\n",
      "\n",
      "Formula: connection_5_zscore~gap_length_mean_5_zscore+bin_num_zscore+(1|subID)+(1|dyad)\n",
      "\n",
      "Family: gaussian\t Inference: parametric\n",
      "\n",
      "Number of observations: 3220\t Groups: {'dyad': 322.0, 'subID': 66.0}\n",
      "\n",
      "Log-likelihood: -3302.476 \t AIC: 6604.952\n",
      "\n",
      "Random effects:\n",
      "\n",
      "                 Name    Var    Std\n",
      "dyad      (Intercept)  0.287  0.535\n",
      "subID     (Intercept)  0.305  0.552\n",
      "Residual               0.340  0.583\n",
      "\n",
      "No random effect correlations specified\n",
      "\n",
      "Fixed effects:\n",
      "\n",
      "Formula: connection_6_zscore~gap_length_mean_6_zscore+bin_num_zscore+(1|subID)+(1|dyad)\n",
      "\n",
      "Family: gaussian\t Inference: parametric\n",
      "\n",
      "Number of observations: 3864\t Groups: {'dyad': 322.0, 'subID': 66.0}\n",
      "\n",
      "Log-likelihood: -3918.553 \t AIC: 7837.105\n",
      "\n",
      "Random effects:\n",
      "\n",
      "                 Name    Var    Std\n",
      "dyad      (Intercept)  0.298  0.546\n",
      "subID     (Intercept)  0.304  0.552\n",
      "Residual               0.342  0.585\n",
      "\n",
      "No random effect correlations specified\n",
      "\n",
      "Fixed effects:\n",
      "\n",
      "Formula: connection_10_zscore~gap_length_mean_10_zscore+bin_num_zscore+(1|subID)+(1|dyad)\n",
      "\n",
      "Family: gaussian\t Inference: parametric\n",
      "\n",
      "Number of observations: 6432\t Groups: {'dyad': 322.0, 'subID': 66.0}\n",
      "\n",
      "Log-likelihood: -6406.789 \t AIC: 12813.579\n",
      "\n",
      "Random effects:\n",
      "\n",
      "                 Name    Var    Std\n",
      "dyad      (Intercept)  0.305  0.552\n",
      "subID     (Intercept)  0.298  0.545\n",
      "Residual               0.357  0.597\n",
      "\n",
      "No random effect correlations specified\n",
      "\n",
      "Fixed effects:\n",
      "\n",
      "Formula: connection_12_zscore~gap_length_mean_12_zscore+bin_num_zscore+(1|subID)+(1|dyad)\n",
      "\n",
      "Family: gaussian\t Inference: parametric\n",
      "\n",
      "Number of observations: 7710\t Groups: {'dyad': 322.0, 'subID': 66.0}\n",
      "\n",
      "Log-likelihood: -7634.090 \t AIC: 15268.180\n",
      "\n",
      "Random effects:\n",
      "\n",
      "                 Name    Var    Std\n",
      "dyad      (Intercept)  0.307  0.554\n",
      "subID     (Intercept)  0.296  0.544\n",
      "Residual               0.361  0.600\n",
      "\n",
      "No random effect correlations specified\n",
      "\n",
      "Fixed effects:\n",
      "\n",
      "Formula: connection_15_zscore~gap_length_mean_15_zscore+bin_num_zscore+(1|subID)+(1|dyad)\n",
      "\n",
      "Family: gaussian\t Inference: parametric\n",
      "\n",
      "Number of observations: 9550\t Groups: {'dyad': 322.0, 'subID': 66.0}\n",
      "\n",
      "Log-likelihood: -9427.562 \t AIC: 18855.124\n",
      "\n",
      "Random effects:\n",
      "\n",
      "                 Name    Var    Std\n",
      "dyad      (Intercept)  0.306  0.553\n",
      "subID     (Intercept)  0.294  0.543\n",
      "Residual               0.367  0.606\n",
      "\n",
      "No random effect correlations specified\n",
      "\n",
      "Fixed effects:\n",
      "\n",
      "Formula: connection_20_zscore~gap_length_mean_20_zscore+bin_num_zscore+(1|subID)+(1|dyad)\n",
      "\n",
      "Family: gaussian\t Inference: parametric\n",
      "\n",
      "Number of observations: 12546\t Groups: {'dyad': 322.0, 'subID': 66.0}\n",
      "\n",
      "Log-likelihood: -12326.700 \t AIC: 24653.399\n",
      "\n",
      "Random effects:\n",
      "\n",
      "                 Name    Var    Std\n",
      "dyad      (Intercept)  0.307  0.554\n",
      "subID     (Intercept)  0.292  0.541\n",
      "Residual               0.373  0.611\n",
      "\n",
      "No random effect correlations specified\n",
      "\n",
      "Fixed effects:\n",
      "\n",
      "Formula: connection_24_zscore~gap_length_mean_24_zscore+bin_num_zscore+(1|subID)+(1|dyad)\n",
      "\n",
      "Family: gaussian\t Inference: parametric\n",
      "\n",
      "Number of observations: 14826\t Groups: {'dyad': 322.0, 'subID': 66.0}\n",
      "\n",
      "Log-likelihood: -14564.077 \t AIC: 29128.154\n",
      "\n",
      "Random effects:\n",
      "\n",
      "                 Name    Var    Std\n",
      "dyad      (Intercept)  0.308  0.555\n",
      "subID     (Intercept)  0.291  0.540\n",
      "Residual               0.378  0.615\n",
      "\n",
      "No random effect correlations specified\n",
      "\n",
      "Fixed effects:\n",
      "\n",
      "Formula: connection_30_zscore~gap_length_mean_30_zscore+bin_num_zscore+(1|subID)+(1|dyad)\n",
      "\n",
      "Family: gaussian\t Inference: parametric\n",
      "\n",
      "Number of observations: 17976\t Groups: {'dyad': 322.0, 'subID': 66.0}\n",
      "\n",
      "Log-likelihood: -17643.941 \t AIC: 35287.883\n",
      "\n",
      "Random effects:\n",
      "\n",
      "                 Name    Var    Std\n",
      "dyad      (Intercept)  0.305  0.552\n",
      "subID     (Intercept)  0.290  0.539\n",
      "Residual               0.383  0.619\n",
      "\n",
      "No random effect correlations specified\n",
      "\n",
      "Fixed effects:\n",
      "\n",
      "Formula: connection_40_zscore~gap_length_mean_40_zscore+bin_num_zscore+(1|subID)+(1|dyad)\n",
      "\n",
      "Family: gaussian\t Inference: parametric\n",
      "\n",
      "Number of observations: 22910\t Groups: {'dyad': 322.0, 'subID': 66.0}\n",
      "\n",
      "Log-likelihood: -22516.500 \t AIC: 45033.000\n",
      "\n",
      "Random effects:\n",
      "\n",
      "                 Name    Var    Std\n",
      "dyad      (Intercept)  0.305  0.552\n",
      "subID     (Intercept)  0.288  0.537\n",
      "Residual               0.389  0.624\n",
      "\n",
      "No random effect correlations specified\n",
      "\n",
      "Fixed effects:\n",
      "\n",
      "Formula: connection_60_zscore~gap_length_mean_60_zscore+bin_num_zscore+(1|subID)+(1|dyad)\n",
      "\n",
      "Family: gaussian\t Inference: parametric\n",
      "\n",
      "Number of observations: 31142\t Groups: {'dyad': 322.0, 'subID': 66.0}\n",
      "\n",
      "Log-likelihood: -30635.764 \t AIC: 61271.528\n",
      "\n",
      "Random effects:\n",
      "\n",
      "                 Name    Var    Std\n",
      "dyad      (Intercept)  0.301  0.549\n",
      "subID     (Intercept)  0.286  0.535\n",
      "Residual               0.396  0.629\n",
      "\n",
      "No random effect correlations specified\n",
      "\n",
      "Fixed effects:\n",
      "\n",
      "Formula: connection_120_zscore~gap_length_mean_120_zscore+bin_num_zscore+(1|subID)+(1|dyad)\n",
      "\n",
      "Family: gaussian\t Inference: parametric\n",
      "\n",
      "Number of observations: 48176\t Groups: {'dyad': 322.0, 'subID': 66.0}\n",
      "\n",
      "Log-likelihood: -47404.296 \t AIC: 94808.592\n",
      "\n",
      "Random effects:\n",
      "\n",
      "                 Name    Var    Std\n",
      "dyad      (Intercept)  0.295  0.543\n",
      "subID     (Intercept)  0.279  0.528\n",
      "Residual               0.403  0.635\n",
      "\n",
      "No random effect correlations specified\n",
      "\n",
      "Fixed effects:\n",
      "\n"
     ]
    }
   ],
   "source": [
    "df_real = pd.DataFrame()\n",
    "df_real = df_real.fillna(0)\n",
    "counter = 0\n",
    "\n",
    "num_bins_list = [2, 3, 4, 5, 6, 10, 12,\n",
    "                15, 20, 24, 30, 40, 60, 120]\n",
    "\n",
    "for num_bins in num_bins_list:\n",
    "    \n",
    "    columns = [f'connection_{num_bins}', f'gap_length_mean_{num_bins}', 'bin_num', 'subID', 'dyad']\n",
    "    data_subset = data[columns]\n",
    "    data_subset_no_nans = data_subset.dropna().reset_index(drop=True)\n",
    "\n",
    "    variables = [f'connection_{num_bins}', f'gap_length_mean_{num_bins}', 'bin_num']\n",
    "    for variable in variables:\n",
    "        data_subset_no_nans[f'{variable}_zscore'] = zscore(data_subset_no_nans[variable])\n",
    "\n",
    "    model = Lmer(f\"connection_{num_bins}_zscore ~ gap_length_mean_{num_bins}_zscore + bin_num_zscore + (1|subID) + (1|dyad)\", data=data_subset_no_nans)\n",
    "    model.fit()\n",
    "        \n",
    "    df_real.at[counter, 'num_bins'] = num_bins\n",
    "    df_real.at[counter, 'bin_size'] = 600 / num_bins\n",
    "    df_real.at[counter, 'beta'] = model.coefs['Estimate'][1]\n",
    "    df_real.at[counter, 'p-val'] = model.coefs['P-val'][1]\n",
    "\n",
    "    counter += 1\n",
    "        \n",
    "df_real.to_csv(os.path.join(base_dir, 'Analyses', 'within_convo_analysis_different_bins_strangers.csv'), encoding='utf-8', index=False)\n",
    "    "
   ]
  },
  {
   "cell_type": "markdown",
   "metadata": {},
   "source": [
    "# Circle-shift each bin"
   ]
  },
  {
   "cell_type": "code",
   "execution_count": 5,
   "metadata": {},
   "outputs": [
    {
     "name": "stderr",
     "output_type": "stream",
     "text": [
      "  1%|          | 1/100 [00:00<01:34,  1.05it/s]"
     ]
    },
    {
     "name": "stdout",
     "output_type": "stream",
     "text": [
      "Formula: connection_2_zscore~gap_length_mean_2_shifted+bin_num_zscore+(1|subID)+(1|dyad)\n",
      "\n",
      "Family: gaussian\t Inference: parametric\n",
      "\n",
      "Number of observations: 1288\t Groups: {'dyad': 322.0, 'subID': 66.0}\n",
      "\n",
      "Log-likelihood: -1421.737 \t AIC: 2843.473\n",
      "\n",
      "Random effects:\n",
      "\n",
      "                 Name    Var    Std\n",
      "dyad      (Intercept)  0.249  0.499\n",
      "subID     (Intercept)  0.328  0.572\n",
      "Residual               0.326  0.571\n",
      "\n",
      "No random effect correlations specified\n",
      "\n",
      "Fixed effects:\n",
      "\n"
     ]
    },
    {
     "name": "stderr",
     "output_type": "stream",
     "text": [
      "\r",
      "  2%|▏         | 2/100 [00:01<01:32,  1.06it/s]"
     ]
    },
    {
     "name": "stdout",
     "output_type": "stream",
     "text": [
      "Formula: connection_2_zscore~gap_length_mean_2_shifted+bin_num_zscore+(1|subID)+(1|dyad)\n",
      "\n",
      "Family: gaussian\t Inference: parametric\n",
      "\n",
      "Number of observations: 1288\t Groups: {'dyad': 322.0, 'subID': 66.0}\n",
      "\n",
      "Log-likelihood: -1420.397 \t AIC: 2840.795\n",
      "\n",
      "Random effects:\n",
      "\n",
      "                 Name    Var    Std\n",
      "dyad      (Intercept)  0.248  0.498\n",
      "subID     (Intercept)  0.328  0.572\n",
      "Residual               0.326  0.571\n",
      "\n",
      "No random effect correlations specified\n",
      "\n",
      "Fixed effects:\n",
      "\n"
     ]
    },
    {
     "name": "stderr",
     "output_type": "stream",
     "text": [
      "\r",
      "  3%|▎         | 3/100 [00:02<01:32,  1.05it/s]"
     ]
    },
    {
     "name": "stdout",
     "output_type": "stream",
     "text": [
      "Formula: connection_2_zscore~gap_length_mean_2_shifted+bin_num_zscore+(1|subID)+(1|dyad)\n",
      "\n",
      "Family: gaussian\t Inference: parametric\n",
      "\n",
      "Number of observations: 1288\t Groups: {'dyad': 322.0, 'subID': 66.0}\n",
      "\n",
      "Log-likelihood: -1426.283 \t AIC: 2852.566\n",
      "\n",
      "Random effects:\n",
      "\n",
      "                 Name    Var    Std\n",
      "dyad      (Intercept)  0.252  0.502\n",
      "subID     (Intercept)  0.328  0.573\n",
      "Residual               0.328  0.573\n",
      "\n",
      "No random effect correlations specified\n",
      "\n",
      "Fixed effects:\n",
      "\n"
     ]
    },
    {
     "name": "stderr",
     "output_type": "stream",
     "text": [
      "\r",
      "  4%|▍         | 4/100 [00:03<01:31,  1.05it/s]"
     ]
    },
    {
     "name": "stdout",
     "output_type": "stream",
     "text": [
      "Formula: connection_2_zscore~gap_length_mean_2_shifted+bin_num_zscore+(1|subID)+(1|dyad)\n",
      "\n",
      "Family: gaussian\t Inference: parametric\n",
      "\n",
      "Number of observations: 1288\t Groups: {'dyad': 322.0, 'subID': 66.0}\n",
      "\n",
      "Log-likelihood: -1419.859 \t AIC: 2839.718\n",
      "\n",
      "Random effects:\n",
      "\n",
      "                 Name    Var    Std\n",
      "dyad      (Intercept)  0.248  0.498\n",
      "subID     (Intercept)  0.328  0.572\n",
      "Residual               0.325  0.570\n",
      "\n",
      "No random effect correlations specified\n",
      "\n",
      "Fixed effects:\n",
      "\n"
     ]
    },
    {
     "name": "stderr",
     "output_type": "stream",
     "text": [
      "\r",
      "  5%|▌         | 5/100 [00:04<01:30,  1.05it/s]"
     ]
    },
    {
     "name": "stdout",
     "output_type": "stream",
     "text": [
      "Formula: connection_2_zscore~gap_length_mean_2_shifted+bin_num_zscore+(1|subID)+(1|dyad)\n",
      "\n",
      "Family: gaussian\t Inference: parametric\n",
      "\n",
      "Number of observations: 1288\t Groups: {'dyad': 322.0, 'subID': 66.0}\n",
      "\n",
      "Log-likelihood: -1422.329 \t AIC: 2844.659\n",
      "\n",
      "Random effects:\n",
      "\n",
      "                 Name    Var    Std\n",
      "dyad      (Intercept)  0.249  0.499\n",
      "subID     (Intercept)  0.328  0.572\n",
      "Residual               0.327  0.572\n",
      "\n",
      "No random effect correlations specified\n",
      "\n",
      "Fixed effects:\n",
      "\n"
     ]
    },
    {
     "name": "stderr",
     "output_type": "stream",
     "text": [
      "\r",
      "  6%|▌         | 6/100 [00:05<01:30,  1.04it/s]"
     ]
    },
    {
     "name": "stdout",
     "output_type": "stream",
     "text": [
      "Formula: connection_2_zscore~gap_length_mean_2_shifted+bin_num_zscore+(1|subID)+(1|dyad)\n",
      "\n",
      "Family: gaussian\t Inference: parametric\n",
      "\n",
      "Number of observations: 1288\t Groups: {'dyad': 322.0, 'subID': 66.0}\n",
      "\n",
      "Log-likelihood: -1423.691 \t AIC: 2847.381\n",
      "\n",
      "Random effects:\n",
      "\n",
      "                 Name    Var    Std\n",
      "dyad      (Intercept)  0.250  0.500\n",
      "subID     (Intercept)  0.328  0.573\n",
      "Residual               0.327  0.572\n",
      "\n",
      "No random effect correlations specified\n",
      "\n",
      "Fixed effects:\n",
      "\n"
     ]
    },
    {
     "name": "stderr",
     "output_type": "stream",
     "text": [
      "\r",
      "  7%|▋         | 7/100 [00:06<01:29,  1.04it/s]"
     ]
    },
    {
     "name": "stdout",
     "output_type": "stream",
     "text": [
      "Formula: connection_2_zscore~gap_length_mean_2_shifted+bin_num_zscore+(1|subID)+(1|dyad)\n",
      "\n",
      "Family: gaussian\t Inference: parametric\n",
      "\n",
      "Number of observations: 1288\t Groups: {'dyad': 322.0, 'subID': 66.0}\n",
      "\n",
      "Log-likelihood: -1420.282 \t AIC: 2840.563\n",
      "\n",
      "Random effects:\n",
      "\n",
      "                 Name    Var    Std\n",
      "dyad      (Intercept)  0.248  0.498\n",
      "subID     (Intercept)  0.328  0.572\n",
      "Residual               0.326  0.571\n",
      "\n",
      "No random effect correlations specified\n",
      "\n",
      "Fixed effects:\n",
      "\n"
     ]
    },
    {
     "name": "stderr",
     "output_type": "stream",
     "text": [
      "\r",
      "  8%|▊         | 8/100 [00:07<01:28,  1.04it/s]"
     ]
    },
    {
     "name": "stdout",
     "output_type": "stream",
     "text": [
      "Formula: connection_2_zscore~gap_length_mean_2_shifted+bin_num_zscore+(1|subID)+(1|dyad)\n",
      "\n",
      "Family: gaussian\t Inference: parametric\n",
      "\n",
      "Number of observations: 1288\t Groups: {'dyad': 322.0, 'subID': 66.0}\n",
      "\n",
      "Log-likelihood: -1418.131 \t AIC: 2836.263\n",
      "\n",
      "Random effects:\n",
      "\n",
      "                 Name    Var    Std\n",
      "dyad      (Intercept)  0.247  0.497\n",
      "subID     (Intercept)  0.327  0.572\n",
      "Residual               0.325  0.570\n",
      "\n",
      "No random effect correlations specified\n",
      "\n",
      "Fixed effects:\n",
      "\n"
     ]
    },
    {
     "name": "stderr",
     "output_type": "stream",
     "text": [
      "\r",
      "  9%|▉         | 9/100 [00:08<01:26,  1.05it/s]"
     ]
    },
    {
     "name": "stdout",
     "output_type": "stream",
     "text": [
      "Formula: connection_2_zscore~gap_length_mean_2_shifted+bin_num_zscore+(1|subID)+(1|dyad)\n",
      "\n",
      "Family: gaussian\t Inference: parametric\n",
      "\n",
      "Number of observations: 1288\t Groups: {'dyad': 322.0, 'subID': 66.0}\n",
      "\n",
      "Log-likelihood: -1417.795 \t AIC: 2835.589\n",
      "\n",
      "Random effects:\n",
      "\n",
      "                 Name    Var    Std\n",
      "dyad      (Intercept)  0.247  0.497\n",
      "subID     (Intercept)  0.327  0.572\n",
      "Residual               0.324  0.569\n",
      "\n",
      "No random effect correlations specified\n",
      "\n",
      "Fixed effects:\n",
      "\n"
     ]
    },
    {
     "name": "stderr",
     "output_type": "stream",
     "text": [
      "\r",
      " 10%|█         | 10/100 [00:09<01:25,  1.05it/s]"
     ]
    },
    {
     "name": "stdout",
     "output_type": "stream",
     "text": [
      "Formula: connection_2_zscore~gap_length_mean_2_shifted+bin_num_zscore+(1|subID)+(1|dyad)\n",
      "\n",
      "Family: gaussian\t Inference: parametric\n",
      "\n",
      "Number of observations: 1288\t Groups: {'dyad': 322.0, 'subID': 66.0}\n",
      "\n",
      "Log-likelihood: -1426.792 \t AIC: 2853.585\n",
      "\n",
      "Random effects:\n",
      "\n",
      "                 Name    Var    Std\n",
      "dyad      (Intercept)  0.253  0.503\n",
      "subID     (Intercept)  0.328  0.573\n",
      "Residual               0.328  0.573\n",
      "\n",
      "No random effect correlations specified\n",
      "\n",
      "Fixed effects:\n",
      "\n"
     ]
    },
    {
     "name": "stderr",
     "output_type": "stream",
     "text": [
      "\r",
      " 11%|█         | 11/100 [00:10<01:24,  1.06it/s]"
     ]
    },
    {
     "name": "stdout",
     "output_type": "stream",
     "text": [
      "Formula: connection_2_zscore~gap_length_mean_2_shifted+bin_num_zscore+(1|subID)+(1|dyad)\n",
      "\n",
      "Family: gaussian\t Inference: parametric\n",
      "\n",
      "Number of observations: 1288\t Groups: {'dyad': 322.0, 'subID': 66.0}\n",
      "\n",
      "Log-likelihood: -1423.039 \t AIC: 2846.078\n",
      "\n",
      "Random effects:\n",
      "\n",
      "                 Name    Var    Std\n",
      "dyad      (Intercept)  0.249  0.499\n",
      "subID     (Intercept)  0.328  0.573\n",
      "Residual               0.327  0.572\n",
      "\n",
      "No random effect correlations specified\n",
      "\n",
      "Fixed effects:\n",
      "\n"
     ]
    },
    {
     "name": "stderr",
     "output_type": "stream",
     "text": [
      "\r",
      " 12%|█▏        | 12/100 [00:11<01:24,  1.04it/s]"
     ]
    },
    {
     "name": "stdout",
     "output_type": "stream",
     "text": [
      "Formula: connection_2_zscore~gap_length_mean_2_shifted+bin_num_zscore+(1|subID)+(1|dyad)\n",
      "\n",
      "Family: gaussian\t Inference: parametric\n",
      "\n",
      "Number of observations: 1288\t Groups: {'dyad': 322.0, 'subID': 66.0}\n",
      "\n",
      "Log-likelihood: -1421.868 \t AIC: 2843.737\n",
      "\n",
      "Random effects:\n",
      "\n",
      "                 Name    Var    Std\n",
      "dyad      (Intercept)  0.249  0.499\n",
      "subID     (Intercept)  0.328  0.572\n",
      "Residual               0.326  0.571\n",
      "\n",
      "No random effect correlations specified\n",
      "\n",
      "Fixed effects:\n",
      "\n"
     ]
    },
    {
     "name": "stderr",
     "output_type": "stream",
     "text": [
      "\r",
      " 13%|█▎        | 13/100 [00:12<01:22,  1.05it/s]"
     ]
    },
    {
     "name": "stdout",
     "output_type": "stream",
     "text": [
      "Formula: connection_2_zscore~gap_length_mean_2_shifted+bin_num_zscore+(1|subID)+(1|dyad)\n",
      "\n",
      "Family: gaussian\t Inference: parametric\n",
      "\n",
      "Number of observations: 1288\t Groups: {'dyad': 322.0, 'subID': 66.0}\n",
      "\n",
      "Log-likelihood: -1422.457 \t AIC: 2844.915\n",
      "\n",
      "Random effects:\n",
      "\n",
      "                 Name    Var    Std\n",
      "dyad      (Intercept)  0.249  0.499\n",
      "subID     (Intercept)  0.328  0.572\n",
      "Residual               0.327  0.572\n",
      "\n",
      "No random effect correlations specified\n",
      "\n",
      "Fixed effects:\n",
      "\n"
     ]
    },
    {
     "name": "stderr",
     "output_type": "stream",
     "text": [
      "\r",
      " 14%|█▍        | 14/100 [00:13<01:22,  1.05it/s]"
     ]
    },
    {
     "name": "stdout",
     "output_type": "stream",
     "text": [
      "Formula: connection_2_zscore~gap_length_mean_2_shifted+bin_num_zscore+(1|subID)+(1|dyad)\n",
      "\n",
      "Family: gaussian\t Inference: parametric\n",
      "\n",
      "Number of observations: 1288\t Groups: {'dyad': 322.0, 'subID': 66.0}\n",
      "\n",
      "Log-likelihood: -1425.811 \t AIC: 2851.622\n",
      "\n",
      "Random effects:\n",
      "\n",
      "                 Name    Var    Std\n",
      "dyad      (Intercept)  0.252  0.502\n",
      "subID     (Intercept)  0.328  0.573\n",
      "Residual               0.328  0.573\n",
      "\n",
      "No random effect correlations specified\n",
      "\n",
      "Fixed effects:\n",
      "\n"
     ]
    },
    {
     "name": "stderr",
     "output_type": "stream",
     "text": [
      "\r",
      " 15%|█▌        | 15/100 [00:14<01:20,  1.05it/s]"
     ]
    },
    {
     "name": "stdout",
     "output_type": "stream",
     "text": [
      "Formula: connection_2_zscore~gap_length_mean_2_shifted+bin_num_zscore+(1|subID)+(1|dyad)\n",
      "\n",
      "Family: gaussian\t Inference: parametric\n",
      "\n",
      "Number of observations: 1288\t Groups: {'dyad': 322.0, 'subID': 66.0}\n",
      "\n",
      "Log-likelihood: -1423.274 \t AIC: 2846.548\n",
      "\n",
      "Random effects:\n",
      "\n",
      "                 Name    Var    Std\n",
      "dyad      (Intercept)  0.250  0.500\n",
      "subID     (Intercept)  0.328  0.573\n",
      "Residual               0.327  0.572\n",
      "\n",
      "No random effect correlations specified\n",
      "\n",
      "Fixed effects:\n",
      "\n"
     ]
    },
    {
     "name": "stderr",
     "output_type": "stream",
     "text": [
      "\r",
      " 16%|█▌        | 16/100 [00:15<01:20,  1.05it/s]"
     ]
    },
    {
     "name": "stdout",
     "output_type": "stream",
     "text": [
      "Formula: connection_2_zscore~gap_length_mean_2_shifted+bin_num_zscore+(1|subID)+(1|dyad)\n",
      "\n",
      "Family: gaussian\t Inference: parametric\n",
      "\n",
      "Number of observations: 1288\t Groups: {'dyad': 322.0, 'subID': 66.0}\n",
      "\n",
      "Log-likelihood: -1423.088 \t AIC: 2846.176\n",
      "\n",
      "Random effects:\n",
      "\n",
      "                 Name    Var    Std\n",
      "dyad      (Intercept)  0.249  0.499\n",
      "subID     (Intercept)  0.328  0.573\n",
      "Residual               0.327  0.572\n",
      "\n",
      "No random effect correlations specified\n",
      "\n",
      "Fixed effects:\n",
      "\n"
     ]
    },
    {
     "name": "stderr",
     "output_type": "stream",
     "text": [
      "\r",
      " 17%|█▋        | 17/100 [00:16<01:19,  1.05it/s]"
     ]
    },
    {
     "name": "stdout",
     "output_type": "stream",
     "text": [
      "Formula: connection_2_zscore~gap_length_mean_2_shifted+bin_num_zscore+(1|subID)+(1|dyad)\n",
      "\n",
      "Family: gaussian\t Inference: parametric\n",
      "\n",
      "Number of observations: 1288\t Groups: {'dyad': 322.0, 'subID': 66.0}\n",
      "\n",
      "Log-likelihood: -1420.905 \t AIC: 2841.809\n",
      "\n",
      "Random effects:\n",
      "\n",
      "                 Name    Var    Std\n",
      "dyad      (Intercept)  0.248  0.498\n",
      "subID     (Intercept)  0.328  0.572\n",
      "Residual               0.326  0.571\n",
      "\n",
      "No random effect correlations specified\n",
      "\n",
      "Fixed effects:\n",
      "\n"
     ]
    },
    {
     "name": "stderr",
     "output_type": "stream",
     "text": [
      "\r",
      " 18%|█▊        | 18/100 [00:17<01:18,  1.05it/s]"
     ]
    },
    {
     "name": "stdout",
     "output_type": "stream",
     "text": [
      "Formula: connection_2_zscore~gap_length_mean_2_shifted+bin_num_zscore+(1|subID)+(1|dyad)\n",
      "\n",
      "Family: gaussian\t Inference: parametric\n",
      "\n",
      "Number of observations: 1288\t Groups: {'dyad': 322.0, 'subID': 66.0}\n",
      "\n",
      "Log-likelihood: -1421.939 \t AIC: 2843.877\n",
      "\n",
      "Random effects:\n",
      "\n",
      "                 Name    Var    Std\n",
      "dyad      (Intercept)  0.249  0.499\n",
      "subID     (Intercept)  0.328  0.572\n",
      "Residual               0.326  0.571\n",
      "\n",
      "No random effect correlations specified\n",
      "\n",
      "Fixed effects:\n",
      "\n"
     ]
    },
    {
     "name": "stderr",
     "output_type": "stream",
     "text": [
      "\r",
      " 19%|█▉        | 19/100 [00:18<01:17,  1.05it/s]"
     ]
    },
    {
     "name": "stdout",
     "output_type": "stream",
     "text": [
      "Formula: connection_2_zscore~gap_length_mean_2_shifted+bin_num_zscore+(1|subID)+(1|dyad)\n",
      "\n",
      "Family: gaussian\t Inference: parametric\n",
      "\n",
      "Number of observations: 1288\t Groups: {'dyad': 322.0, 'subID': 66.0}\n",
      "\n",
      "Log-likelihood: -1423.227 \t AIC: 2846.453\n",
      "\n",
      "Random effects:\n",
      "\n",
      "                 Name    Var    Std\n",
      "dyad      (Intercept)  0.250  0.500\n",
      "subID     (Intercept)  0.328  0.573\n",
      "Residual               0.327  0.572\n",
      "\n",
      "No random effect correlations specified\n",
      "\n",
      "Fixed effects:\n",
      "\n"
     ]
    },
    {
     "name": "stderr",
     "output_type": "stream",
     "text": [
      "\r",
      " 20%|██        | 20/100 [00:19<01:16,  1.05it/s]"
     ]
    },
    {
     "name": "stdout",
     "output_type": "stream",
     "text": [
      "Formula: connection_2_zscore~gap_length_mean_2_shifted+bin_num_zscore+(1|subID)+(1|dyad)\n",
      "\n",
      "Family: gaussian\t Inference: parametric\n",
      "\n",
      "Number of observations: 1288\t Groups: {'dyad': 322.0, 'subID': 66.0}\n",
      "\n",
      "Log-likelihood: -1423.293 \t AIC: 2846.586\n",
      "\n",
      "Random effects:\n",
      "\n",
      "                 Name    Var    Std\n",
      "dyad      (Intercept)  0.250  0.500\n",
      "subID     (Intercept)  0.328  0.573\n",
      "Residual               0.327  0.572\n",
      "\n",
      "No random effect correlations specified\n",
      "\n",
      "Fixed effects:\n",
      "\n"
     ]
    },
    {
     "name": "stderr",
     "output_type": "stream",
     "text": [
      "\r",
      " 21%|██        | 21/100 [00:20<01:15,  1.05it/s]"
     ]
    },
    {
     "name": "stdout",
     "output_type": "stream",
     "text": [
      "Formula: connection_2_zscore~gap_length_mean_2_shifted+bin_num_zscore+(1|subID)+(1|dyad)\n",
      "\n",
      "Family: gaussian\t Inference: parametric\n",
      "\n",
      "Number of observations: 1288\t Groups: {'dyad': 322.0, 'subID': 66.0}\n",
      "\n",
      "Log-likelihood: -1422.266 \t AIC: 2844.533\n",
      "\n",
      "Random effects:\n",
      "\n",
      "                 Name    Var    Std\n",
      "dyad      (Intercept)  0.249  0.499\n",
      "subID     (Intercept)  0.328  0.572\n",
      "Residual               0.327  0.572\n",
      "\n",
      "No random effect correlations specified\n",
      "\n",
      "Fixed effects:\n",
      "\n"
     ]
    },
    {
     "name": "stderr",
     "output_type": "stream",
     "text": [
      "\r",
      " 22%|██▏       | 22/100 [00:20<01:14,  1.05it/s]"
     ]
    },
    {
     "name": "stdout",
     "output_type": "stream",
     "text": [
      "Formula: connection_2_zscore~gap_length_mean_2_shifted+bin_num_zscore+(1|subID)+(1|dyad)\n",
      "\n",
      "Family: gaussian\t Inference: parametric\n",
      "\n",
      "Number of observations: 1288\t Groups: {'dyad': 322.0, 'subID': 66.0}\n",
      "\n",
      "Log-likelihood: -1419.576 \t AIC: 2839.151\n",
      "\n",
      "Random effects:\n",
      "\n",
      "                 Name    Var    Std\n",
      "dyad      (Intercept)  0.247  0.497\n",
      "subID     (Intercept)  0.328  0.572\n",
      "Residual               0.325  0.570\n",
      "\n",
      "No random effect correlations specified\n",
      "\n",
      "Fixed effects:\n",
      "\n"
     ]
    },
    {
     "name": "stderr",
     "output_type": "stream",
     "text": [
      "\r",
      " 23%|██▎       | 23/100 [00:21<01:13,  1.05it/s]"
     ]
    },
    {
     "name": "stdout",
     "output_type": "stream",
     "text": [
      "Formula: connection_2_zscore~gap_length_mean_2_shifted+bin_num_zscore+(1|subID)+(1|dyad)\n",
      "\n",
      "Family: gaussian\t Inference: parametric\n",
      "\n",
      "Number of observations: 1288\t Groups: {'dyad': 322.0, 'subID': 66.0}\n",
      "\n",
      "Log-likelihood: -1419.856 \t AIC: 2839.711\n",
      "\n",
      "Random effects:\n",
      "\n",
      "                 Name    Var    Std\n",
      "dyad      (Intercept)  0.248  0.498\n",
      "subID     (Intercept)  0.328  0.572\n",
      "Residual               0.325  0.570\n",
      "\n",
      "No random effect correlations specified\n",
      "\n",
      "Fixed effects:\n",
      "\n"
     ]
    },
    {
     "name": "stderr",
     "output_type": "stream",
     "text": [
      "\r",
      " 24%|██▍       | 24/100 [00:22<01:12,  1.05it/s]"
     ]
    },
    {
     "name": "stdout",
     "output_type": "stream",
     "text": [
      "Formula: connection_2_zscore~gap_length_mean_2_shifted+bin_num_zscore+(1|subID)+(1|dyad)\n",
      "\n",
      "Family: gaussian\t Inference: parametric\n",
      "\n",
      "Number of observations: 1288\t Groups: {'dyad': 322.0, 'subID': 66.0}\n",
      "\n",
      "Log-likelihood: -1420.464 \t AIC: 2840.928\n",
      "\n",
      "Random effects:\n",
      "\n",
      "                 Name    Var    Std\n",
      "dyad      (Intercept)  0.248  0.498\n",
      "subID     (Intercept)  0.328  0.572\n",
      "Residual               0.326  0.571\n",
      "\n",
      "No random effect correlations specified\n",
      "\n",
      "Fixed effects:\n",
      "\n"
     ]
    },
    {
     "name": "stderr",
     "output_type": "stream",
     "text": [
      "\r",
      " 25%|██▌       | 25/100 [00:23<01:10,  1.06it/s]"
     ]
    },
    {
     "name": "stdout",
     "output_type": "stream",
     "text": [
      "Formula: connection_2_zscore~gap_length_mean_2_shifted+bin_num_zscore+(1|subID)+(1|dyad)\n",
      "\n",
      "Family: gaussian\t Inference: parametric\n",
      "\n",
      "Number of observations: 1288\t Groups: {'dyad': 322.0, 'subID': 66.0}\n",
      "\n",
      "Log-likelihood: -1426.031 \t AIC: 2852.063\n",
      "\n",
      "Random effects:\n",
      "\n",
      "                 Name    Var    Std\n",
      "dyad      (Intercept)  0.252  0.502\n",
      "subID     (Intercept)  0.328  0.573\n",
      "Residual               0.328  0.573\n",
      "\n",
      "No random effect correlations specified\n",
      "\n",
      "Fixed effects:\n",
      "\n"
     ]
    },
    {
     "name": "stderr",
     "output_type": "stream",
     "text": [
      "\r",
      " 26%|██▌       | 26/100 [00:24<01:10,  1.06it/s]"
     ]
    },
    {
     "name": "stdout",
     "output_type": "stream",
     "text": [
      "Formula: connection_2_zscore~gap_length_mean_2_shifted+bin_num_zscore+(1|subID)+(1|dyad)\n",
      "\n",
      "Family: gaussian\t Inference: parametric\n",
      "\n",
      "Number of observations: 1288\t Groups: {'dyad': 322.0, 'subID': 66.0}\n",
      "\n",
      "Log-likelihood: -1419.543 \t AIC: 2839.086\n",
      "\n",
      "Random effects:\n",
      "\n",
      "                 Name    Var    Std\n",
      "dyad      (Intercept)  0.247  0.497\n",
      "subID     (Intercept)  0.328  0.572\n",
      "Residual               0.325  0.570\n",
      "\n",
      "No random effect correlations specified\n",
      "\n",
      "Fixed effects:\n",
      "\n"
     ]
    },
    {
     "name": "stderr",
     "output_type": "stream",
     "text": [
      "\r",
      " 27%|██▋       | 27/100 [00:25<01:09,  1.05it/s]"
     ]
    },
    {
     "name": "stdout",
     "output_type": "stream",
     "text": [
      "Formula: connection_2_zscore~gap_length_mean_2_shifted+bin_num_zscore+(1|subID)+(1|dyad)\n",
      "\n",
      "Family: gaussian\t Inference: parametric\n",
      "\n",
      "Number of observations: 1288\t Groups: {'dyad': 322.0, 'subID': 66.0}\n",
      "\n",
      "Log-likelihood: -1419.077 \t AIC: 2838.155\n",
      "\n",
      "Random effects:\n",
      "\n",
      "                 Name    Var    Std\n",
      "dyad      (Intercept)  0.247  0.497\n",
      "subID     (Intercept)  0.328  0.572\n",
      "Residual               0.325  0.570\n",
      "\n",
      "No random effect correlations specified\n",
      "\n",
      "Fixed effects:\n",
      "\n"
     ]
    },
    {
     "name": "stderr",
     "output_type": "stream",
     "text": [
      "\r",
      " 28%|██▊       | 28/100 [00:26<01:07,  1.06it/s]"
     ]
    },
    {
     "name": "stdout",
     "output_type": "stream",
     "text": [
      "Formula: connection_2_zscore~gap_length_mean_2_shifted+bin_num_zscore+(1|subID)+(1|dyad)\n",
      "\n",
      "Family: gaussian\t Inference: parametric\n",
      "\n",
      "Number of observations: 1288\t Groups: {'dyad': 322.0, 'subID': 66.0}\n",
      "\n",
      "Log-likelihood: -1426.160 \t AIC: 2852.319\n",
      "\n",
      "Random effects:\n",
      "\n",
      "                 Name    Var    Std\n",
      "dyad      (Intercept)  0.252  0.502\n",
      "subID     (Intercept)  0.328  0.573\n",
      "Residual               0.328  0.573\n",
      "\n",
      "No random effect correlations specified\n",
      "\n",
      "Fixed effects:\n",
      "\n"
     ]
    },
    {
     "name": "stderr",
     "output_type": "stream",
     "text": [
      "\r",
      " 29%|██▉       | 29/100 [00:27<01:07,  1.04it/s]"
     ]
    },
    {
     "name": "stdout",
     "output_type": "stream",
     "text": [
      "Formula: connection_2_zscore~gap_length_mean_2_shifted+bin_num_zscore+(1|subID)+(1|dyad)\n",
      "\n",
      "Family: gaussian\t Inference: parametric\n",
      "\n",
      "Number of observations: 1288\t Groups: {'dyad': 322.0, 'subID': 66.0}\n",
      "\n",
      "Log-likelihood: -1418.430 \t AIC: 2836.860\n",
      "\n",
      "Random effects:\n",
      "\n",
      "                 Name    Var    Std\n",
      "dyad      (Intercept)  0.247  0.497\n",
      "subID     (Intercept)  0.327  0.572\n",
      "Residual               0.325  0.570\n",
      "\n",
      "No random effect correlations specified\n",
      "\n",
      "Fixed effects:\n",
      "\n"
     ]
    },
    {
     "name": "stderr",
     "output_type": "stream",
     "text": [
      "\r",
      " 30%|███       | 30/100 [00:28<01:06,  1.05it/s]"
     ]
    },
    {
     "name": "stdout",
     "output_type": "stream",
     "text": [
      "Formula: connection_2_zscore~gap_length_mean_2_shifted+bin_num_zscore+(1|subID)+(1|dyad)\n",
      "\n",
      "Family: gaussian\t Inference: parametric\n",
      "\n",
      "Number of observations: 1288\t Groups: {'dyad': 322.0, 'subID': 66.0}\n",
      "\n",
      "Log-likelihood: -1424.626 \t AIC: 2849.253\n",
      "\n",
      "Random effects:\n",
      "\n",
      "                 Name    Var    Std\n",
      "dyad      (Intercept)  0.251  0.501\n",
      "subID     (Intercept)  0.328  0.573\n",
      "Residual               0.328  0.572\n",
      "\n",
      "No random effect correlations specified\n",
      "\n",
      "Fixed effects:\n",
      "\n"
     ]
    },
    {
     "name": "stderr",
     "output_type": "stream",
     "text": [
      "\r",
      " 31%|███       | 31/100 [00:29<01:05,  1.05it/s]"
     ]
    },
    {
     "name": "stdout",
     "output_type": "stream",
     "text": [
      "Formula: connection_2_zscore~gap_length_mean_2_shifted+bin_num_zscore+(1|subID)+(1|dyad)\n",
      "\n",
      "Family: gaussian\t Inference: parametric\n",
      "\n",
      "Number of observations: 1288\t Groups: {'dyad': 322.0, 'subID': 66.0}\n",
      "\n",
      "Log-likelihood: -1421.467 \t AIC: 2842.934\n",
      "\n",
      "Random effects:\n",
      "\n",
      "                 Name    Var    Std\n",
      "dyad      (Intercept)  0.248  0.498\n",
      "subID     (Intercept)  0.328  0.572\n",
      "Residual               0.326  0.571\n",
      "\n",
      "No random effect correlations specified\n",
      "\n",
      "Fixed effects:\n",
      "\n"
     ]
    },
    {
     "name": "stderr",
     "output_type": "stream",
     "text": [
      "\r",
      " 32%|███▏      | 32/100 [00:30<01:06,  1.03it/s]"
     ]
    },
    {
     "name": "stdout",
     "output_type": "stream",
     "text": [
      "Formula: connection_2_zscore~gap_length_mean_2_shifted+bin_num_zscore+(1|subID)+(1|dyad)\n",
      "\n",
      "Family: gaussian\t Inference: parametric\n",
      "\n",
      "Number of observations: 1288\t Groups: {'dyad': 322.0, 'subID': 66.0}\n",
      "\n",
      "Log-likelihood: -1419.647 \t AIC: 2839.295\n",
      "\n",
      "Random effects:\n",
      "\n",
      "                 Name    Var    Std\n",
      "dyad      (Intercept)  0.248  0.498\n",
      "subID     (Intercept)  0.328  0.572\n",
      "Residual               0.325  0.570\n",
      "\n",
      "No random effect correlations specified\n",
      "\n",
      "Fixed effects:\n",
      "\n"
     ]
    },
    {
     "name": "stderr",
     "output_type": "stream",
     "text": [
      "\r",
      " 33%|███▎      | 33/100 [00:31<01:04,  1.04it/s]"
     ]
    },
    {
     "name": "stdout",
     "output_type": "stream",
     "text": [
      "Formula: connection_2_zscore~gap_length_mean_2_shifted+bin_num_zscore+(1|subID)+(1|dyad)\n",
      "\n",
      "Family: gaussian\t Inference: parametric\n",
      "\n",
      "Number of observations: 1288\t Groups: {'dyad': 322.0, 'subID': 66.0}\n",
      "\n",
      "Log-likelihood: -1422.016 \t AIC: 2844.032\n",
      "\n",
      "Random effects:\n",
      "\n",
      "                 Name    Var    Std\n",
      "dyad      (Intercept)  0.249  0.499\n",
      "subID     (Intercept)  0.328  0.572\n",
      "Residual               0.326  0.571\n",
      "\n",
      "No random effect correlations specified\n",
      "\n",
      "Fixed effects:\n",
      "\n"
     ]
    },
    {
     "name": "stderr",
     "output_type": "stream",
     "text": [
      "\r",
      " 34%|███▍      | 34/100 [00:32<01:03,  1.04it/s]"
     ]
    },
    {
     "name": "stdout",
     "output_type": "stream",
     "text": [
      "Formula: connection_2_zscore~gap_length_mean_2_shifted+bin_num_zscore+(1|subID)+(1|dyad)\n",
      "\n",
      "Family: gaussian\t Inference: parametric\n",
      "\n",
      "Number of observations: 1288\t Groups: {'dyad': 322.0, 'subID': 66.0}\n",
      "\n",
      "Log-likelihood: -1418.047 \t AIC: 2836.094\n",
      "\n",
      "Random effects:\n",
      "\n",
      "                 Name    Var    Std\n",
      "dyad      (Intercept)  0.247  0.497\n",
      "subID     (Intercept)  0.327  0.572\n",
      "Residual               0.324  0.570\n",
      "\n",
      "No random effect correlations specified\n",
      "\n",
      "Fixed effects:\n",
      "\n"
     ]
    },
    {
     "name": "stderr",
     "output_type": "stream",
     "text": [
      "\r",
      " 35%|███▌      | 35/100 [00:33<01:01,  1.05it/s]"
     ]
    },
    {
     "name": "stdout",
     "output_type": "stream",
     "text": [
      "Formula: connection_2_zscore~gap_length_mean_2_shifted+bin_num_zscore+(1|subID)+(1|dyad)\n",
      "\n",
      "Family: gaussian\t Inference: parametric\n",
      "\n",
      "Number of observations: 1288\t Groups: {'dyad': 322.0, 'subID': 66.0}\n",
      "\n",
      "Log-likelihood: -1423.672 \t AIC: 2847.343\n",
      "\n",
      "Random effects:\n",
      "\n",
      "                 Name    Var    Std\n",
      "dyad      (Intercept)  0.250  0.500\n",
      "subID     (Intercept)  0.328  0.573\n",
      "Residual               0.327  0.572\n",
      "\n",
      "No random effect correlations specified\n",
      "\n",
      "Fixed effects:\n",
      "\n"
     ]
    },
    {
     "name": "stderr",
     "output_type": "stream",
     "text": [
      "\r",
      " 36%|███▌      | 36/100 [00:34<01:01,  1.05it/s]"
     ]
    },
    {
     "name": "stdout",
     "output_type": "stream",
     "text": [
      "Model failed to converge with max|grad| = 0.0021451 (tol = 0.002, component 1) \n",
      "\n",
      "Formula: connection_2_zscore~gap_length_mean_2_shifted+bin_num_zscore+(1|subID)+(1|dyad)\n",
      "\n",
      "Family: gaussian\t Inference: parametric\n",
      "\n",
      "Number of observations: 1288\t Groups: {'dyad': 322.0, 'subID': 66.0}\n",
      "\n",
      "Log-likelihood: -1418.305 \t AIC: 2836.609\n",
      "\n",
      "Random effects:\n",
      "\n",
      "                 Name    Var    Std\n",
      "dyad      (Intercept)  0.247  0.497\n",
      "subID     (Intercept)  0.327  0.572\n",
      "Residual               0.325  0.570\n",
      "\n",
      "No random effect correlations specified\n",
      "\n",
      "Fixed effects:\n",
      "\n"
     ]
    },
    {
     "name": "stderr",
     "output_type": "stream",
     "text": [
      "\r",
      " 37%|███▋      | 37/100 [00:35<00:59,  1.06it/s]"
     ]
    },
    {
     "name": "stdout",
     "output_type": "stream",
     "text": [
      "Formula: connection_2_zscore~gap_length_mean_2_shifted+bin_num_zscore+(1|subID)+(1|dyad)\n",
      "\n",
      "Family: gaussian\t Inference: parametric\n",
      "\n",
      "Number of observations: 1288\t Groups: {'dyad': 322.0, 'subID': 66.0}\n",
      "\n",
      "Log-likelihood: -1420.548 \t AIC: 2841.096\n",
      "\n",
      "Random effects:\n",
      "\n",
      "                 Name    Var    Std\n",
      "dyad      (Intercept)  0.248  0.498\n",
      "subID     (Intercept)  0.328  0.572\n",
      "Residual               0.326  0.571\n",
      "\n",
      "No random effect correlations specified\n",
      "\n",
      "Fixed effects:\n",
      "\n"
     ]
    },
    {
     "name": "stderr",
     "output_type": "stream",
     "text": [
      "\r",
      " 38%|███▊      | 38/100 [00:36<00:59,  1.05it/s]"
     ]
    },
    {
     "name": "stdout",
     "output_type": "stream",
     "text": [
      "Formula: connection_2_zscore~gap_length_mean_2_shifted+bin_num_zscore+(1|subID)+(1|dyad)\n",
      "\n",
      "Family: gaussian\t Inference: parametric\n",
      "\n",
      "Number of observations: 1288\t Groups: {'dyad': 322.0, 'subID': 66.0}\n",
      "\n",
      "Log-likelihood: -1418.505 \t AIC: 2837.011\n",
      "\n",
      "Random effects:\n",
      "\n",
      "                 Name    Var    Std\n",
      "dyad      (Intercept)  0.247  0.497\n",
      "subID     (Intercept)  0.327  0.572\n",
      "Residual               0.325  0.570\n",
      "\n",
      "No random effect correlations specified\n",
      "\n",
      "Fixed effects:\n",
      "\n"
     ]
    },
    {
     "name": "stderr",
     "output_type": "stream",
     "text": [
      "\r",
      " 39%|███▉      | 39/100 [00:37<00:58,  1.05it/s]"
     ]
    },
    {
     "name": "stdout",
     "output_type": "stream",
     "text": [
      "Formula: connection_2_zscore~gap_length_mean_2_shifted+bin_num_zscore+(1|subID)+(1|dyad)\n",
      "\n",
      "Family: gaussian\t Inference: parametric\n",
      "\n",
      "Number of observations: 1288\t Groups: {'dyad': 322.0, 'subID': 66.0}\n",
      "\n",
      "Log-likelihood: -1424.942 \t AIC: 2849.884\n",
      "\n",
      "Random effects:\n",
      "\n",
      "                 Name    Var    Std\n",
      "dyad      (Intercept)  0.251  0.501\n",
      "subID     (Intercept)  0.328  0.573\n",
      "Residual               0.328  0.572\n",
      "\n",
      "No random effect correlations specified\n",
      "\n",
      "Fixed effects:\n",
      "\n"
     ]
    },
    {
     "name": "stderr",
     "output_type": "stream",
     "text": [
      "\r",
      " 40%|████      | 40/100 [00:38<00:57,  1.05it/s]"
     ]
    },
    {
     "name": "stdout",
     "output_type": "stream",
     "text": [
      "Formula: connection_2_zscore~gap_length_mean_2_shifted+bin_num_zscore+(1|subID)+(1|dyad)\n",
      "\n",
      "Family: gaussian\t Inference: parametric\n",
      "\n",
      "Number of observations: 1288\t Groups: {'dyad': 322.0, 'subID': 66.0}\n",
      "\n",
      "Log-likelihood: -1423.940 \t AIC: 2847.880\n",
      "\n",
      "Random effects:\n",
      "\n",
      "                 Name    Var    Std\n",
      "dyad      (Intercept)  0.250  0.500\n",
      "subID     (Intercept)  0.328  0.573\n",
      "Residual               0.327  0.572\n",
      "\n",
      "No random effect correlations specified\n",
      "\n",
      "Fixed effects:\n",
      "\n"
     ]
    },
    {
     "name": "stderr",
     "output_type": "stream",
     "text": [
      "\r",
      " 41%|████      | 41/100 [00:39<00:55,  1.06it/s]"
     ]
    },
    {
     "name": "stdout",
     "output_type": "stream",
     "text": [
      "Model failed to converge with max|grad| = 0.00458481 (tol = 0.002, component 1) \n",
      "\n",
      "Formula: connection_2_zscore~gap_length_mean_2_shifted+bin_num_zscore+(1|subID)+(1|dyad)\n",
      "\n",
      "Family: gaussian\t Inference: parametric\n",
      "\n",
      "Number of observations: 1288\t Groups: {'dyad': 322.0, 'subID': 66.0}\n",
      "\n",
      "Log-likelihood: -1424.863 \t AIC: 2849.725\n",
      "\n",
      "Random effects:\n",
      "\n",
      "                 Name    Var    Std\n",
      "dyad      (Intercept)  0.251  0.501\n",
      "subID     (Intercept)  0.328  0.573\n",
      "Residual               0.328  0.572\n",
      "\n",
      "No random effect correlations specified\n",
      "\n",
      "Fixed effects:\n",
      "\n"
     ]
    },
    {
     "name": "stderr",
     "output_type": "stream",
     "text": [
      "\r",
      " 42%|████▏     | 42/100 [00:40<00:54,  1.06it/s]"
     ]
    },
    {
     "name": "stdout",
     "output_type": "stream",
     "text": [
      "Formula: connection_2_zscore~gap_length_mean_2_shifted+bin_num_zscore+(1|subID)+(1|dyad)\n",
      "\n",
      "Family: gaussian\t Inference: parametric\n",
      "\n",
      "Number of observations: 1288\t Groups: {'dyad': 322.0, 'subID': 66.0}\n",
      "\n",
      "Log-likelihood: -1417.484 \t AIC: 2834.969\n",
      "\n",
      "Random effects:\n",
      "\n",
      "                 Name    Var    Std\n",
      "dyad      (Intercept)  0.247  0.497\n",
      "subID     (Intercept)  0.327  0.572\n",
      "Residual               0.324  0.569\n",
      "\n",
      "No random effect correlations specified\n",
      "\n",
      "Fixed effects:\n",
      "\n"
     ]
    },
    {
     "name": "stderr",
     "output_type": "stream",
     "text": [
      "\r",
      " 43%|████▎     | 43/100 [00:40<00:54,  1.06it/s]"
     ]
    },
    {
     "name": "stdout",
     "output_type": "stream",
     "text": [
      "Formula: connection_2_zscore~gap_length_mean_2_shifted+bin_num_zscore+(1|subID)+(1|dyad)\n",
      "\n",
      "Family: gaussian\t Inference: parametric\n",
      "\n",
      "Number of observations: 1288\t Groups: {'dyad': 322.0, 'subID': 66.0}\n",
      "\n",
      "Log-likelihood: -1417.302 \t AIC: 2834.605\n",
      "\n",
      "Random effects:\n",
      "\n",
      "                 Name    Var    Std\n",
      "dyad      (Intercept)  0.247  0.497\n",
      "subID     (Intercept)  0.327  0.572\n",
      "Residual               0.324  0.569\n",
      "\n",
      "No random effect correlations specified\n",
      "\n",
      "Fixed effects:\n",
      "\n"
     ]
    },
    {
     "name": "stderr",
     "output_type": "stream",
     "text": [
      "\r",
      " 44%|████▍     | 44/100 [00:41<00:52,  1.06it/s]"
     ]
    },
    {
     "name": "stdout",
     "output_type": "stream",
     "text": [
      "Formula: connection_2_zscore~gap_length_mean_2_shifted+bin_num_zscore+(1|subID)+(1|dyad)\n",
      "\n",
      "Family: gaussian\t Inference: parametric\n",
      "\n",
      "Number of observations: 1288\t Groups: {'dyad': 322.0, 'subID': 66.0}\n",
      "\n",
      "Log-likelihood: -1422.126 \t AIC: 2844.252\n",
      "\n",
      "Random effects:\n",
      "\n",
      "                 Name    Var    Std\n",
      "dyad      (Intercept)  0.249  0.499\n",
      "subID     (Intercept)  0.328  0.572\n",
      "Residual               0.327  0.571\n",
      "\n",
      "No random effect correlations specified\n",
      "\n",
      "Fixed effects:\n",
      "\n"
     ]
    },
    {
     "name": "stderr",
     "output_type": "stream",
     "text": [
      "\r",
      " 45%|████▌     | 45/100 [00:42<00:51,  1.06it/s]"
     ]
    },
    {
     "name": "stdout",
     "output_type": "stream",
     "text": [
      "Formula: connection_2_zscore~gap_length_mean_2_shifted+bin_num_zscore+(1|subID)+(1|dyad)\n",
      "\n",
      "Family: gaussian\t Inference: parametric\n",
      "\n",
      "Number of observations: 1288\t Groups: {'dyad': 322.0, 'subID': 66.0}\n",
      "\n",
      "Log-likelihood: -1420.650 \t AIC: 2841.300\n",
      "\n",
      "Random effects:\n",
      "\n",
      "                 Name    Var    Std\n",
      "dyad      (Intercept)  0.248  0.498\n",
      "subID     (Intercept)  0.328  0.572\n",
      "Residual               0.326  0.571\n",
      "\n",
      "No random effect correlations specified\n",
      "\n",
      "Fixed effects:\n",
      "\n"
     ]
    },
    {
     "name": "stderr",
     "output_type": "stream",
     "text": [
      "\r",
      " 46%|████▌     | 46/100 [00:43<00:51,  1.05it/s]"
     ]
    },
    {
     "name": "stdout",
     "output_type": "stream",
     "text": [
      "Formula: connection_2_zscore~gap_length_mean_2_shifted+bin_num_zscore+(1|subID)+(1|dyad)\n",
      "\n",
      "Family: gaussian\t Inference: parametric\n",
      "\n",
      "Number of observations: 1288\t Groups: {'dyad': 322.0, 'subID': 66.0}\n",
      "\n",
      "Log-likelihood: -1425.094 \t AIC: 2850.188\n",
      "\n",
      "Random effects:\n",
      "\n",
      "                 Name    Var    Std\n",
      "dyad      (Intercept)  0.251  0.501\n",
      "subID     (Intercept)  0.328  0.573\n",
      "Residual               0.328  0.573\n",
      "\n",
      "No random effect correlations specified\n",
      "\n",
      "Fixed effects:\n",
      "\n"
     ]
    },
    {
     "name": "stderr",
     "output_type": "stream",
     "text": [
      "\r",
      " 47%|████▋     | 47/100 [00:44<00:50,  1.06it/s]"
     ]
    },
    {
     "name": "stdout",
     "output_type": "stream",
     "text": [
      "Formula: connection_2_zscore~gap_length_mean_2_shifted+bin_num_zscore+(1|subID)+(1|dyad)\n",
      "\n",
      "Family: gaussian\t Inference: parametric\n",
      "\n",
      "Number of observations: 1288\t Groups: {'dyad': 322.0, 'subID': 66.0}\n",
      "\n",
      "Log-likelihood: -1428.577 \t AIC: 2857.154\n",
      "\n",
      "Random effects:\n",
      "\n",
      "                 Name    Var    Std\n",
      "dyad      (Intercept)  0.255  0.505\n",
      "subID     (Intercept)  0.329  0.573\n",
      "Residual               0.329  0.573\n",
      "\n",
      "No random effect correlations specified\n",
      "\n",
      "Fixed effects:\n",
      "\n"
     ]
    },
    {
     "name": "stderr",
     "output_type": "stream",
     "text": [
      "\r",
      " 48%|████▊     | 48/100 [00:45<00:49,  1.05it/s]"
     ]
    },
    {
     "name": "stdout",
     "output_type": "stream",
     "text": [
      "Formula: connection_2_zscore~gap_length_mean_2_shifted+bin_num_zscore+(1|subID)+(1|dyad)\n",
      "\n",
      "Family: gaussian\t Inference: parametric\n",
      "\n",
      "Number of observations: 1288\t Groups: {'dyad': 322.0, 'subID': 66.0}\n",
      "\n",
      "Log-likelihood: -1423.807 \t AIC: 2847.613\n",
      "\n",
      "Random effects:\n",
      "\n",
      "                 Name    Var    Std\n",
      "dyad      (Intercept)  0.250  0.500\n",
      "subID     (Intercept)  0.328  0.573\n",
      "Residual               0.327  0.572\n",
      "\n",
      "No random effect correlations specified\n",
      "\n",
      "Fixed effects:\n",
      "\n"
     ]
    },
    {
     "name": "stderr",
     "output_type": "stream",
     "text": [
      "\r",
      " 49%|████▉     | 49/100 [00:46<00:48,  1.05it/s]"
     ]
    },
    {
     "name": "stdout",
     "output_type": "stream",
     "text": [
      "Formula: connection_2_zscore~gap_length_mean_2_shifted+bin_num_zscore+(1|subID)+(1|dyad)\n",
      "\n",
      "Family: gaussian\t Inference: parametric\n",
      "\n",
      "Number of observations: 1288\t Groups: {'dyad': 322.0, 'subID': 66.0}\n",
      "\n",
      "Log-likelihood: -1420.838 \t AIC: 2841.676\n",
      "\n",
      "Random effects:\n",
      "\n",
      "                 Name    Var    Std\n",
      "dyad      (Intercept)  0.248  0.498\n",
      "subID     (Intercept)  0.328  0.572\n",
      "Residual               0.326  0.571\n",
      "\n",
      "No random effect correlations specified\n",
      "\n",
      "Fixed effects:\n",
      "\n"
     ]
    },
    {
     "name": "stderr",
     "output_type": "stream",
     "text": [
      "\r",
      " 50%|█████     | 50/100 [00:47<00:47,  1.06it/s]"
     ]
    },
    {
     "name": "stdout",
     "output_type": "stream",
     "text": [
      "Formula: connection_2_zscore~gap_length_mean_2_shifted+bin_num_zscore+(1|subID)+(1|dyad)\n",
      "\n",
      "Family: gaussian\t Inference: parametric\n",
      "\n",
      "Number of observations: 1288\t Groups: {'dyad': 322.0, 'subID': 66.0}\n",
      "\n",
      "Log-likelihood: -1422.967 \t AIC: 2845.934\n",
      "\n",
      "Random effects:\n",
      "\n",
      "                 Name    Var    Std\n",
      "dyad      (Intercept)  0.249  0.499\n",
      "subID     (Intercept)  0.328  0.573\n",
      "Residual               0.327  0.572\n",
      "\n",
      "No random effect correlations specified\n",
      "\n",
      "Fixed effects:\n",
      "\n"
     ]
    },
    {
     "name": "stderr",
     "output_type": "stream",
     "text": [
      "\r",
      " 51%|█████     | 51/100 [00:48<00:46,  1.06it/s]"
     ]
    },
    {
     "name": "stdout",
     "output_type": "stream",
     "text": [
      "Formula: connection_2_zscore~gap_length_mean_2_shifted+bin_num_zscore+(1|subID)+(1|dyad)\n",
      "\n",
      "Family: gaussian\t Inference: parametric\n",
      "\n",
      "Number of observations: 1288\t Groups: {'dyad': 322.0, 'subID': 66.0}\n",
      "\n",
      "Log-likelihood: -1419.651 \t AIC: 2839.302\n",
      "\n",
      "Random effects:\n",
      "\n",
      "                 Name    Var    Std\n",
      "dyad      (Intercept)  0.248  0.498\n",
      "subID     (Intercept)  0.328  0.572\n",
      "Residual               0.325  0.570\n",
      "\n",
      "No random effect correlations specified\n",
      "\n",
      "Fixed effects:\n",
      "\n"
     ]
    },
    {
     "name": "stderr",
     "output_type": "stream",
     "text": [
      "\r",
      " 52%|█████▏    | 52/100 [00:49<00:45,  1.06it/s]"
     ]
    },
    {
     "name": "stdout",
     "output_type": "stream",
     "text": [
      "Formula: connection_2_zscore~gap_length_mean_2_shifted+bin_num_zscore+(1|subID)+(1|dyad)\n",
      "\n",
      "Family: gaussian\t Inference: parametric\n",
      "\n",
      "Number of observations: 1288\t Groups: {'dyad': 322.0, 'subID': 66.0}\n",
      "\n",
      "Log-likelihood: -1424.303 \t AIC: 2848.606\n",
      "\n",
      "Random effects:\n",
      "\n",
      "                 Name    Var    Std\n",
      "dyad      (Intercept)  0.250  0.500\n",
      "subID     (Intercept)  0.328  0.573\n",
      "Residual               0.327  0.572\n",
      "\n",
      "No random effect correlations specified\n",
      "\n",
      "Fixed effects:\n",
      "\n"
     ]
    },
    {
     "name": "stderr",
     "output_type": "stream",
     "text": [
      "\r",
      " 53%|█████▎    | 53/100 [00:50<00:44,  1.06it/s]"
     ]
    },
    {
     "name": "stdout",
     "output_type": "stream",
     "text": [
      "Formula: connection_2_zscore~gap_length_mean_2_shifted+bin_num_zscore+(1|subID)+(1|dyad)\n",
      "\n",
      "Family: gaussian\t Inference: parametric\n",
      "\n",
      "Number of observations: 1288\t Groups: {'dyad': 322.0, 'subID': 66.0}\n",
      "\n",
      "Log-likelihood: -1427.629 \t AIC: 2855.258\n",
      "\n",
      "Random effects:\n",
      "\n",
      "                 Name    Var    Std\n",
      "dyad      (Intercept)  0.254  0.504\n",
      "subID     (Intercept)  0.328  0.573\n",
      "Residual               0.329  0.573\n",
      "\n",
      "No random effect correlations specified\n",
      "\n",
      "Fixed effects:\n",
      "\n"
     ]
    },
    {
     "name": "stderr",
     "output_type": "stream",
     "text": [
      "From cffi callback <function _processevents at 0x144063840>:\n",
      "Traceback (most recent call last):\n",
      "  File \"/Users/emma/anaconda3/lib/python3.6/site-packages/rpy2/rinterface_lib/callbacks.py\", line 262, in _processevents\n",
      "    @ffi_proxy.callback(ffi_proxy._processevents_def,\n",
      "KeyboardInterrupt\n",
      " 54%|█████▍    | 54/100 [00:51<00:43,  1.05it/s]"
     ]
    },
    {
     "name": "stdout",
     "output_type": "stream",
     "text": [
      "Formula: connection_2_zscore~gap_length_mean_2_shifted+bin_num_zscore+(1|subID)+(1|dyad)\n",
      "\n",
      "Family: gaussian\t Inference: parametric\n",
      "\n",
      "Number of observations: 1288\t Groups: {'dyad': 322.0, 'subID': 66.0}\n",
      "\n",
      "Log-likelihood: -1416.688 \t AIC: 2833.375\n",
      "\n",
      "Random effects:\n",
      "\n",
      "                 Name    Var    Std\n",
      "dyad      (Intercept)  0.246  0.496\n",
      "subID     (Intercept)  0.327  0.572\n",
      "Residual               0.324  0.569\n",
      "\n",
      "No random effect correlations specified\n",
      "\n",
      "Fixed effects:\n",
      "\n"
     ]
    },
    {
     "name": "stderr",
     "output_type": "stream",
     "text": [
      "\r",
      " 55%|█████▌    | 55/100 [00:52<00:43,  1.04it/s]"
     ]
    },
    {
     "name": "stdout",
     "output_type": "stream",
     "text": [
      "Formula: connection_2_zscore~gap_length_mean_2_shifted+bin_num_zscore+(1|subID)+(1|dyad)\n",
      "\n",
      "Family: gaussian\t Inference: parametric\n",
      "\n",
      "Number of observations: 1288\t Groups: {'dyad': 322.0, 'subID': 66.0}\n",
      "\n",
      "Log-likelihood: -1423.912 \t AIC: 2847.824\n",
      "\n",
      "Random effects:\n",
      "\n",
      "                 Name    Var    Std\n",
      "dyad      (Intercept)  0.250  0.500\n",
      "subID     (Intercept)  0.328  0.573\n",
      "Residual               0.327  0.572\n",
      "\n",
      "No random effect correlations specified\n",
      "\n",
      "Fixed effects:\n",
      "\n"
     ]
    },
    {
     "name": "stderr",
     "output_type": "stream",
     "text": [
      "\r",
      " 56%|█████▌    | 56/100 [00:53<00:41,  1.05it/s]"
     ]
    },
    {
     "name": "stdout",
     "output_type": "stream",
     "text": [
      "Formula: connection_2_zscore~gap_length_mean_2_shifted+bin_num_zscore+(1|subID)+(1|dyad)\n",
      "\n",
      "Family: gaussian\t Inference: parametric\n",
      "\n",
      "Number of observations: 1288\t Groups: {'dyad': 322.0, 'subID': 66.0}\n",
      "\n",
      "Log-likelihood: -1420.844 \t AIC: 2841.687\n",
      "\n",
      "Random effects:\n",
      "\n",
      "                 Name    Var    Std\n",
      "dyad      (Intercept)  0.248  0.498\n",
      "subID     (Intercept)  0.328  0.572\n",
      "Residual               0.326  0.571\n",
      "\n",
      "No random effect correlations specified\n",
      "\n",
      "Fixed effects:\n",
      "\n"
     ]
    },
    {
     "name": "stderr",
     "output_type": "stream",
     "text": [
      "\r",
      " 57%|█████▋    | 57/100 [00:54<00:41,  1.05it/s]"
     ]
    },
    {
     "name": "stdout",
     "output_type": "stream",
     "text": [
      "Formula: connection_2_zscore~gap_length_mean_2_shifted+bin_num_zscore+(1|subID)+(1|dyad)\n",
      "\n",
      "Family: gaussian\t Inference: parametric\n",
      "\n",
      "Number of observations: 1288\t Groups: {'dyad': 322.0, 'subID': 66.0}\n",
      "\n",
      "Log-likelihood: -1418.170 \t AIC: 2836.340\n",
      "\n",
      "Random effects:\n",
      "\n",
      "                 Name    Var    Std\n",
      "dyad      (Intercept)  0.247  0.497\n",
      "subID     (Intercept)  0.327  0.572\n",
      "Residual               0.325  0.570\n",
      "\n",
      "No random effect correlations specified\n",
      "\n",
      "Fixed effects:\n",
      "\n"
     ]
    },
    {
     "name": "stderr",
     "output_type": "stream",
     "text": [
      "\r",
      " 58%|█████▊    | 58/100 [00:55<00:39,  1.06it/s]"
     ]
    },
    {
     "name": "stdout",
     "output_type": "stream",
     "text": [
      "Formula: connection_2_zscore~gap_length_mean_2_shifted+bin_num_zscore+(1|subID)+(1|dyad)\n",
      "\n",
      "Family: gaussian\t Inference: parametric\n",
      "\n",
      "Number of observations: 1288\t Groups: {'dyad': 322.0, 'subID': 66.0}\n",
      "\n",
      "Log-likelihood: -1421.159 \t AIC: 2842.318\n",
      "\n",
      "Random effects:\n",
      "\n",
      "                 Name    Var    Std\n",
      "dyad      (Intercept)  0.248  0.498\n",
      "subID     (Intercept)  0.328  0.572\n",
      "Residual               0.326  0.571\n",
      "\n",
      "No random effect correlations specified\n",
      "\n",
      "Fixed effects:\n",
      "\n"
     ]
    },
    {
     "name": "stderr",
     "output_type": "stream",
     "text": [
      "\r",
      " 59%|█████▉    | 59/100 [00:56<00:39,  1.04it/s]"
     ]
    },
    {
     "name": "stdout",
     "output_type": "stream",
     "text": [
      "Formula: connection_2_zscore~gap_length_mean_2_shifted+bin_num_zscore+(1|subID)+(1|dyad)\n",
      "\n",
      "Family: gaussian\t Inference: parametric\n",
      "\n",
      "Number of observations: 1288\t Groups: {'dyad': 322.0, 'subID': 66.0}\n",
      "\n",
      "Log-likelihood: -1424.365 \t AIC: 2848.730\n",
      "\n",
      "Random effects:\n",
      "\n",
      "                 Name    Var    Std\n",
      "dyad      (Intercept)  0.250  0.500\n",
      "subID     (Intercept)  0.328  0.573\n",
      "Residual               0.328  0.572\n",
      "\n",
      "No random effect correlations specified\n",
      "\n",
      "Fixed effects:\n",
      "\n"
     ]
    },
    {
     "name": "stderr",
     "output_type": "stream",
     "text": [
      "\r",
      " 60%|██████    | 60/100 [00:57<00:38,  1.03it/s]"
     ]
    },
    {
     "name": "stdout",
     "output_type": "stream",
     "text": [
      "Formula: connection_2_zscore~gap_length_mean_2_shifted+bin_num_zscore+(1|subID)+(1|dyad)\n",
      "\n",
      "Family: gaussian\t Inference: parametric\n",
      "\n",
      "Number of observations: 1288\t Groups: {'dyad': 322.0, 'subID': 66.0}\n",
      "\n",
      "Log-likelihood: -1419.454 \t AIC: 2838.908\n",
      "\n",
      "Random effects:\n",
      "\n",
      "                 Name    Var    Std\n",
      "dyad      (Intercept)  0.247  0.497\n",
      "subID     (Intercept)  0.328  0.572\n",
      "Residual               0.325  0.570\n",
      "\n",
      "No random effect correlations specified\n",
      "\n",
      "Fixed effects:\n",
      "\n"
     ]
    },
    {
     "name": "stderr",
     "output_type": "stream",
     "text": [
      "\r",
      " 61%|██████    | 61/100 [00:58<00:37,  1.04it/s]"
     ]
    },
    {
     "name": "stdout",
     "output_type": "stream",
     "text": [
      "Formula: connection_2_zscore~gap_length_mean_2_shifted+bin_num_zscore+(1|subID)+(1|dyad)\n",
      "\n",
      "Family: gaussian\t Inference: parametric\n",
      "\n",
      "Number of observations: 1288\t Groups: {'dyad': 322.0, 'subID': 66.0}\n",
      "\n",
      "Log-likelihood: -1422.492 \t AIC: 2844.984\n",
      "\n",
      "Random effects:\n",
      "\n",
      "                 Name    Var    Std\n",
      "dyad      (Intercept)  0.249  0.499\n",
      "subID     (Intercept)  0.328  0.572\n",
      "Residual               0.327  0.572\n",
      "\n",
      "No random effect correlations specified\n",
      "\n",
      "Fixed effects:\n",
      "\n"
     ]
    },
    {
     "name": "stderr",
     "output_type": "stream",
     "text": [
      "\r",
      " 62%|██████▏   | 62/100 [00:59<00:36,  1.04it/s]"
     ]
    },
    {
     "name": "stdout",
     "output_type": "stream",
     "text": [
      "Formula: connection_2_zscore~gap_length_mean_2_shifted+bin_num_zscore+(1|subID)+(1|dyad)\n",
      "\n",
      "Family: gaussian\t Inference: parametric\n",
      "\n",
      "Number of observations: 1288\t Groups: {'dyad': 322.0, 'subID': 66.0}\n",
      "\n",
      "Log-likelihood: -1421.748 \t AIC: 2843.496\n",
      "\n",
      "Random effects:\n",
      "\n",
      "                 Name    Var    Std\n",
      "dyad      (Intercept)  0.249  0.499\n",
      "subID     (Intercept)  0.328  0.572\n",
      "Residual               0.326  0.571\n",
      "\n",
      "No random effect correlations specified\n",
      "\n",
      "Fixed effects:\n",
      "\n"
     ]
    },
    {
     "name": "stderr",
     "output_type": "stream",
     "text": [
      "\r",
      " 63%|██████▎   | 63/100 [01:00<00:35,  1.04it/s]"
     ]
    },
    {
     "name": "stdout",
     "output_type": "stream",
     "text": [
      "Formula: connection_2_zscore~gap_length_mean_2_shifted+bin_num_zscore+(1|subID)+(1|dyad)\n",
      "\n",
      "Family: gaussian\t Inference: parametric\n",
      "\n",
      "Number of observations: 1288\t Groups: {'dyad': 322.0, 'subID': 66.0}\n",
      "\n",
      "Log-likelihood: -1420.320 \t AIC: 2840.641\n",
      "\n",
      "Random effects:\n",
      "\n",
      "                 Name    Var    Std\n",
      "dyad      (Intercept)  0.248  0.498\n",
      "subID     (Intercept)  0.328  0.572\n",
      "Residual               0.326  0.571\n",
      "\n",
      "No random effect correlations specified\n",
      "\n",
      "Fixed effects:\n",
      "\n"
     ]
    },
    {
     "name": "stderr",
     "output_type": "stream",
     "text": [
      "\r",
      " 64%|██████▍   | 64/100 [01:01<00:34,  1.03it/s]"
     ]
    },
    {
     "name": "stdout",
     "output_type": "stream",
     "text": [
      "Formula: connection_2_zscore~gap_length_mean_2_shifted+bin_num_zscore+(1|subID)+(1|dyad)\n",
      "\n",
      "Family: gaussian\t Inference: parametric\n",
      "\n",
      "Number of observations: 1288\t Groups: {'dyad': 322.0, 'subID': 66.0}\n",
      "\n",
      "Log-likelihood: -1425.513 \t AIC: 2851.026\n",
      "\n",
      "Random effects:\n",
      "\n",
      "                 Name    Var    Std\n",
      "dyad      (Intercept)  0.251  0.501\n",
      "subID     (Intercept)  0.328  0.573\n",
      "Residual               0.328  0.573\n",
      "\n",
      "No random effect correlations specified\n",
      "\n",
      "Fixed effects:\n",
      "\n"
     ]
    },
    {
     "name": "stderr",
     "output_type": "stream",
     "text": [
      "\r",
      " 65%|██████▌   | 65/100 [01:01<00:33,  1.04it/s]"
     ]
    },
    {
     "name": "stdout",
     "output_type": "stream",
     "text": [
      "Formula: connection_2_zscore~gap_length_mean_2_shifted+bin_num_zscore+(1|subID)+(1|dyad)\n",
      "\n",
      "Family: gaussian\t Inference: parametric\n",
      "\n",
      "Number of observations: 1288\t Groups: {'dyad': 322.0, 'subID': 66.0}\n",
      "\n",
      "Log-likelihood: -1418.291 \t AIC: 2836.582\n",
      "\n",
      "Random effects:\n",
      "\n",
      "                 Name    Var    Std\n",
      "dyad      (Intercept)  0.247  0.497\n",
      "subID     (Intercept)  0.327  0.572\n",
      "Residual               0.325  0.570\n",
      "\n",
      "No random effect correlations specified\n",
      "\n",
      "Fixed effects:\n",
      "\n"
     ]
    },
    {
     "name": "stderr",
     "output_type": "stream",
     "text": [
      "\r",
      " 66%|██████▌   | 66/100 [01:02<00:32,  1.05it/s]"
     ]
    },
    {
     "name": "stdout",
     "output_type": "stream",
     "text": [
      "Formula: connection_2_zscore~gap_length_mean_2_shifted+bin_num_zscore+(1|subID)+(1|dyad)\n",
      "\n",
      "Family: gaussian\t Inference: parametric\n",
      "\n",
      "Number of observations: 1288\t Groups: {'dyad': 322.0, 'subID': 66.0}\n",
      "\n",
      "Log-likelihood: -1422.465 \t AIC: 2844.931\n",
      "\n",
      "Random effects:\n",
      "\n",
      "                 Name    Var    Std\n",
      "dyad      (Intercept)  0.249  0.499\n",
      "subID     (Intercept)  0.328  0.572\n",
      "Residual               0.327  0.572\n",
      "\n",
      "No random effect correlations specified\n",
      "\n",
      "Fixed effects:\n",
      "\n"
     ]
    },
    {
     "ename": "KeyboardInterrupt",
     "evalue": "",
     "output_type": "error",
     "traceback": [
      "\u001b[0;31m---------------------------------------------------------------------------\u001b[0m",
      "\u001b[0;31mKeyboardInterrupt\u001b[0m                         Traceback (most recent call last)",
      "\u001b[0;32m<ipython-input-5-29f73a0e0372>\u001b[0m in \u001b[0;36m<module>\u001b[0;34m\u001b[0m\n\u001b[1;32m     23\u001b[0m         \u001b[0mdata_subset_no_nans\u001b[0m\u001b[0;34m[\u001b[0m\u001b[0;34mf'gap_length_mean_{num_bins}_shifted'\u001b[0m\u001b[0;34m]\u001b[0m \u001b[0;34m=\u001b[0m \u001b[0mdata_subset_no_nans\u001b[0m\u001b[0;34m[\u001b[0m\u001b[0;34mf'gap_length_mean_{num_bins}_zscore'\u001b[0m\u001b[0;34m]\u001b[0m\u001b[0;34m.\u001b[0m\u001b[0mgroupby\u001b[0m\u001b[0;34m(\u001b[0m\u001b[0mdata_subset_no_nans\u001b[0m\u001b[0;34m[\u001b[0m\u001b[0;34m'dyad'\u001b[0m\u001b[0;34m]\u001b[0m\u001b[0;34m)\u001b[0m\u001b[0;34m.\u001b[0m\u001b[0mtransform\u001b[0m\u001b[0;34m(\u001b[0m\u001b[0mcircle_shift\u001b[0m\u001b[0;34m)\u001b[0m\u001b[0;34m\u001b[0m\u001b[0;34m\u001b[0m\u001b[0m\n\u001b[1;32m     24\u001b[0m         \u001b[0mmodel\u001b[0m \u001b[0;34m=\u001b[0m \u001b[0mLmer\u001b[0m\u001b[0;34m(\u001b[0m\u001b[0;34mf\"connection_{num_bins}_zscore ~ gap_length_mean_{num_bins}_shifted + bin_num_zscore + (1|subID) + (1|dyad)\"\u001b[0m\u001b[0;34m,\u001b[0m \u001b[0mdata\u001b[0m\u001b[0;34m=\u001b[0m\u001b[0mdata_subset_no_nans\u001b[0m\u001b[0;34m)\u001b[0m\u001b[0;34m\u001b[0m\u001b[0;34m\u001b[0m\u001b[0m\n\u001b[0;32m---> 25\u001b[0;31m         \u001b[0mmodel\u001b[0m\u001b[0;34m.\u001b[0m\u001b[0mfit\u001b[0m\u001b[0;34m(\u001b[0m\u001b[0;34m)\u001b[0m\u001b[0;34m\u001b[0m\u001b[0;34m\u001b[0m\u001b[0m\n\u001b[0m\u001b[1;32m     26\u001b[0m \u001b[0;34m\u001b[0m\u001b[0m\n\u001b[1;32m     27\u001b[0m         \u001b[0mshifted_betas\u001b[0m\u001b[0;34m.\u001b[0m\u001b[0mappend\u001b[0m\u001b[0;34m(\u001b[0m\u001b[0mmodel\u001b[0m\u001b[0;34m.\u001b[0m\u001b[0mcoefs\u001b[0m\u001b[0;34m[\u001b[0m\u001b[0;34m'Estimate'\u001b[0m\u001b[0;34m]\u001b[0m\u001b[0;34m[\u001b[0m\u001b[0;36m1\u001b[0m\u001b[0;34m]\u001b[0m\u001b[0;34m)\u001b[0m\u001b[0;34m\u001b[0m\u001b[0;34m\u001b[0m\u001b[0m\n",
      "\u001b[0;32m~/anaconda3/lib/python3.6/site-packages/pymer4/models/Lmer.py\u001b[0m in \u001b[0;36mfit\u001b[0;34m(self, conf_int, n_boot, factors, permute, ordered, verbose, REML, rank, rank_group, rank_exclude_cols, no_warnings, control, old_optimizer, **kwargs)\u001b[0m\n\u001b[1;32m    823\u001b[0m         \u001b[0mself\u001b[0m\u001b[0;34m.\u001b[0m\u001b[0mfits\u001b[0m \u001b[0;34m=\u001b[0m \u001b[0mfit_func\u001b[0m\u001b[0;34m(\u001b[0m\u001b[0mself\u001b[0m\u001b[0;34m.\u001b[0m\u001b[0mmodel_obj\u001b[0m\u001b[0;34m)\u001b[0m\u001b[0;34m\u001b[0m\u001b[0;34m\u001b[0m\u001b[0m\n\u001b[1;32m    824\u001b[0m         \u001b[0;32mtry\u001b[0m\u001b[0;34m:\u001b[0m\u001b[0;34m\u001b[0m\u001b[0;34m\u001b[0m\u001b[0m\n\u001b[0;32m--> 825\u001b[0;31m             \u001b[0mself\u001b[0m\u001b[0;34m.\u001b[0m\u001b[0mdata\u001b[0m\u001b[0;34m[\u001b[0m\u001b[0;34m\"fits\"\u001b[0m\u001b[0;34m]\u001b[0m \u001b[0;34m=\u001b[0m \u001b[0mcopy\u001b[0m\u001b[0;34m(\u001b[0m\u001b[0mself\u001b[0m\u001b[0;34m.\u001b[0m\u001b[0mfits\u001b[0m\u001b[0;34m)\u001b[0m\u001b[0;34m\u001b[0m\u001b[0;34m\u001b[0m\u001b[0m\n\u001b[0m\u001b[1;32m    826\u001b[0m         \u001b[0;32mexcept\u001b[0m \u001b[0mValueError\u001b[0m \u001b[0;32mas\u001b[0m \u001b[0me\u001b[0m\u001b[0;34m:\u001b[0m  \u001b[0;31m# NOQA\u001b[0m\u001b[0;34m\u001b[0m\u001b[0;34m\u001b[0m\u001b[0m\n\u001b[1;32m    827\u001b[0m             print(\n",
      "\u001b[0;32m~/anaconda3/lib/python3.6/site-packages/pandas/core/frame.py\u001b[0m in \u001b[0;36m__setitem__\u001b[0;34m(self, key, value)\u001b[0m\n\u001b[1;32m   3042\u001b[0m         \u001b[0;32melse\u001b[0m\u001b[0;34m:\u001b[0m\u001b[0;34m\u001b[0m\u001b[0;34m\u001b[0m\u001b[0m\n\u001b[1;32m   3043\u001b[0m             \u001b[0;31m# set column\u001b[0m\u001b[0;34m\u001b[0m\u001b[0;34m\u001b[0m\u001b[0;34m\u001b[0m\u001b[0m\n\u001b[0;32m-> 3044\u001b[0;31m             \u001b[0mself\u001b[0m\u001b[0;34m.\u001b[0m\u001b[0m_set_item\u001b[0m\u001b[0;34m(\u001b[0m\u001b[0mkey\u001b[0m\u001b[0;34m,\u001b[0m \u001b[0mvalue\u001b[0m\u001b[0;34m)\u001b[0m\u001b[0;34m\u001b[0m\u001b[0;34m\u001b[0m\u001b[0m\n\u001b[0m\u001b[1;32m   3045\u001b[0m \u001b[0;34m\u001b[0m\u001b[0m\n\u001b[1;32m   3046\u001b[0m     \u001b[0;32mdef\u001b[0m \u001b[0m_setitem_slice\u001b[0m\u001b[0;34m(\u001b[0m\u001b[0mself\u001b[0m\u001b[0;34m,\u001b[0m \u001b[0mkey\u001b[0m\u001b[0;34m:\u001b[0m \u001b[0mslice\u001b[0m\u001b[0;34m,\u001b[0m \u001b[0mvalue\u001b[0m\u001b[0;34m)\u001b[0m\u001b[0;34m:\u001b[0m\u001b[0;34m\u001b[0m\u001b[0;34m\u001b[0m\u001b[0m\n",
      "\u001b[0;32m~/anaconda3/lib/python3.6/site-packages/pandas/core/frame.py\u001b[0m in \u001b[0;36m_set_item\u001b[0;34m(self, key, value)\u001b[0m\n\u001b[1;32m   3118\u001b[0m         \"\"\"\n\u001b[1;32m   3119\u001b[0m         \u001b[0mself\u001b[0m\u001b[0;34m.\u001b[0m\u001b[0m_ensure_valid_index\u001b[0m\u001b[0;34m(\u001b[0m\u001b[0mvalue\u001b[0m\u001b[0;34m)\u001b[0m\u001b[0;34m\u001b[0m\u001b[0;34m\u001b[0m\u001b[0m\n\u001b[0;32m-> 3120\u001b[0;31m         \u001b[0mvalue\u001b[0m \u001b[0;34m=\u001b[0m \u001b[0mself\u001b[0m\u001b[0;34m.\u001b[0m\u001b[0m_sanitize_column\u001b[0m\u001b[0;34m(\u001b[0m\u001b[0mkey\u001b[0m\u001b[0;34m,\u001b[0m \u001b[0mvalue\u001b[0m\u001b[0;34m)\u001b[0m\u001b[0;34m\u001b[0m\u001b[0;34m\u001b[0m\u001b[0m\n\u001b[0m\u001b[1;32m   3121\u001b[0m         \u001b[0mNDFrame\u001b[0m\u001b[0;34m.\u001b[0m\u001b[0m_set_item\u001b[0m\u001b[0;34m(\u001b[0m\u001b[0mself\u001b[0m\u001b[0;34m,\u001b[0m \u001b[0mkey\u001b[0m\u001b[0;34m,\u001b[0m \u001b[0mvalue\u001b[0m\u001b[0;34m)\u001b[0m\u001b[0;34m\u001b[0m\u001b[0;34m\u001b[0m\u001b[0m\n\u001b[1;32m   3122\u001b[0m \u001b[0;34m\u001b[0m\u001b[0m\n",
      "\u001b[0;32m~/anaconda3/lib/python3.6/site-packages/pandas/core/frame.py\u001b[0m in \u001b[0;36m_sanitize_column\u001b[0;34m(self, key, value, broadcast)\u001b[0m\n\u001b[1;32m   3771\u001b[0m                     \u001b[0mvalue\u001b[0m \u001b[0;34m=\u001b[0m \u001b[0mmaybe_convert_platform\u001b[0m\u001b[0;34m(\u001b[0m\u001b[0mvalue\u001b[0m\u001b[0;34m)\u001b[0m\u001b[0;34m\u001b[0m\u001b[0;34m\u001b[0m\u001b[0m\n\u001b[1;32m   3772\u001b[0m                 \u001b[0;32melse\u001b[0m\u001b[0;34m:\u001b[0m\u001b[0;34m\u001b[0m\u001b[0;34m\u001b[0m\u001b[0m\n\u001b[0;32m-> 3773\u001b[0;31m                     \u001b[0mvalue\u001b[0m \u001b[0;34m=\u001b[0m \u001b[0mcom\u001b[0m\u001b[0;34m.\u001b[0m\u001b[0masarray_tuplesafe\u001b[0m\u001b[0;34m(\u001b[0m\u001b[0mvalue\u001b[0m\u001b[0;34m)\u001b[0m\u001b[0;34m\u001b[0m\u001b[0;34m\u001b[0m\u001b[0m\n\u001b[0m\u001b[1;32m   3774\u001b[0m             \u001b[0;32melif\u001b[0m \u001b[0mvalue\u001b[0m\u001b[0;34m.\u001b[0m\u001b[0mndim\u001b[0m \u001b[0;34m==\u001b[0m \u001b[0;36m2\u001b[0m\u001b[0;34m:\u001b[0m\u001b[0;34m\u001b[0m\u001b[0;34m\u001b[0m\u001b[0m\n\u001b[1;32m   3775\u001b[0m                 \u001b[0mvalue\u001b[0m \u001b[0;34m=\u001b[0m \u001b[0mvalue\u001b[0m\u001b[0;34m.\u001b[0m\u001b[0mcopy\u001b[0m\u001b[0;34m(\u001b[0m\u001b[0;34m)\u001b[0m\u001b[0;34m.\u001b[0m\u001b[0mT\u001b[0m\u001b[0;34m\u001b[0m\u001b[0;34m\u001b[0m\u001b[0m\n",
      "\u001b[0;32m~/anaconda3/lib/python3.6/site-packages/pandas/core/common.py\u001b[0m in \u001b[0;36masarray_tuplesafe\u001b[0;34m(values, dtype)\u001b[0m\n\u001b[1;32m    219\u001b[0m \u001b[0;34m\u001b[0m\u001b[0m\n\u001b[1;32m    220\u001b[0m     \u001b[0;32mif\u001b[0m \u001b[0;32mnot\u001b[0m \u001b[0;34m(\u001b[0m\u001b[0misinstance\u001b[0m\u001b[0;34m(\u001b[0m\u001b[0mvalues\u001b[0m\u001b[0;34m,\u001b[0m \u001b[0;34m(\u001b[0m\u001b[0mlist\u001b[0m\u001b[0;34m,\u001b[0m \u001b[0mtuple\u001b[0m\u001b[0;34m)\u001b[0m\u001b[0;34m)\u001b[0m \u001b[0;32mor\u001b[0m \u001b[0mhasattr\u001b[0m\u001b[0;34m(\u001b[0m\u001b[0mvalues\u001b[0m\u001b[0;34m,\u001b[0m \u001b[0;34m\"__array__\"\u001b[0m\u001b[0;34m)\u001b[0m\u001b[0;34m)\u001b[0m\u001b[0;34m:\u001b[0m\u001b[0;34m\u001b[0m\u001b[0;34m\u001b[0m\u001b[0m\n\u001b[0;32m--> 221\u001b[0;31m         \u001b[0mvalues\u001b[0m \u001b[0;34m=\u001b[0m \u001b[0mlist\u001b[0m\u001b[0;34m(\u001b[0m\u001b[0mvalues\u001b[0m\u001b[0;34m)\u001b[0m\u001b[0;34m\u001b[0m\u001b[0;34m\u001b[0m\u001b[0m\n\u001b[0m\u001b[1;32m    222\u001b[0m     \u001b[0;32melif\u001b[0m \u001b[0misinstance\u001b[0m\u001b[0;34m(\u001b[0m\u001b[0mvalues\u001b[0m\u001b[0;34m,\u001b[0m \u001b[0mABCIndexClass\u001b[0m\u001b[0;34m)\u001b[0m\u001b[0;34m:\u001b[0m\u001b[0;34m\u001b[0m\u001b[0;34m\u001b[0m\u001b[0m\n\u001b[1;32m    223\u001b[0m         \u001b[0;32mreturn\u001b[0m \u001b[0mvalues\u001b[0m\u001b[0;34m.\u001b[0m\u001b[0m_values\u001b[0m\u001b[0;34m\u001b[0m\u001b[0;34m\u001b[0m\u001b[0m\n",
      "\u001b[0;32m~/anaconda3/lib/python3.6/site-packages/rpy2/robjects/vectors.py\u001b[0m in \u001b[0;36m__getitem__\u001b[0;34m(self, i)\u001b[0m\n\u001b[1;32m    262\u001b[0m \u001b[0;34m\u001b[0m\u001b[0m\n\u001b[1;32m    263\u001b[0m     \u001b[0;32mdef\u001b[0m \u001b[0m__getitem__\u001b[0m\u001b[0;34m(\u001b[0m\u001b[0mself\u001b[0m\u001b[0;34m,\u001b[0m \u001b[0mi\u001b[0m\u001b[0;34m)\u001b[0m\u001b[0;34m:\u001b[0m\u001b[0;34m\u001b[0m\u001b[0;34m\u001b[0m\u001b[0m\n\u001b[0;32m--> 264\u001b[0;31m         \u001b[0mres\u001b[0m \u001b[0;34m=\u001b[0m \u001b[0msuper\u001b[0m\u001b[0;34m(\u001b[0m\u001b[0;34m)\u001b[0m\u001b[0;34m.\u001b[0m\u001b[0m__getitem__\u001b[0m\u001b[0;34m(\u001b[0m\u001b[0mi\u001b[0m\u001b[0;34m)\u001b[0m\u001b[0;34m\u001b[0m\u001b[0;34m\u001b[0m\u001b[0m\n\u001b[0m\u001b[1;32m    265\u001b[0m \u001b[0;34m\u001b[0m\u001b[0m\n\u001b[1;32m    266\u001b[0m         \u001b[0;32mif\u001b[0m \u001b[0misinstance\u001b[0m\u001b[0;34m(\u001b[0m\u001b[0mres\u001b[0m\u001b[0;34m,\u001b[0m \u001b[0mSexp\u001b[0m\u001b[0;34m)\u001b[0m\u001b[0;34m:\u001b[0m\u001b[0;34m\u001b[0m\u001b[0;34m\u001b[0m\u001b[0m\n",
      "\u001b[0;32m~/anaconda3/lib/python3.6/site-packages/rpy2/rinterface.py\u001b[0m in \u001b[0;36m__getitem__\u001b[0;34m(self, i)\u001b[0m\n\u001b[1;32m    559\u001b[0m \u001b[0;34m\u001b[0m\u001b[0m\n\u001b[1;32m    560\u001b[0m     \u001b[0;32mdef\u001b[0m \u001b[0m__getitem__\u001b[0m\u001b[0;34m(\u001b[0m\u001b[0mself\u001b[0m\u001b[0;34m,\u001b[0m \u001b[0mi\u001b[0m\u001b[0;34m:\u001b[0m \u001b[0mint\u001b[0m\u001b[0;34m)\u001b[0m \u001b[0;34m->\u001b[0m \u001b[0mtyping\u001b[0m\u001b[0;34m.\u001b[0m\u001b[0mUnion\u001b[0m\u001b[0;34m[\u001b[0m\u001b[0mfloat\u001b[0m\u001b[0;34m,\u001b[0m \u001b[0;34m'FloatSexpVector'\u001b[0m\u001b[0;34m]\u001b[0m\u001b[0;34m:\u001b[0m\u001b[0;34m\u001b[0m\u001b[0;34m\u001b[0m\u001b[0m\n\u001b[0;32m--> 561\u001b[0;31m         \u001b[0mcdata\u001b[0m \u001b[0;34m=\u001b[0m \u001b[0mself\u001b[0m\u001b[0;34m.\u001b[0m\u001b[0m__sexp__\u001b[0m\u001b[0;34m.\u001b[0m\u001b[0m_cdata\u001b[0m\u001b[0;34m\u001b[0m\u001b[0;34m\u001b[0m\u001b[0m\n\u001b[0m\u001b[1;32m    562\u001b[0m         \u001b[0;32mif\u001b[0m \u001b[0misinstance\u001b[0m\u001b[0;34m(\u001b[0m\u001b[0mi\u001b[0m\u001b[0;34m,\u001b[0m \u001b[0mint\u001b[0m\u001b[0;34m)\u001b[0m\u001b[0;34m:\u001b[0m\u001b[0;34m\u001b[0m\u001b[0;34m\u001b[0m\u001b[0m\n\u001b[1;32m    563\u001b[0m             \u001b[0mi_c\u001b[0m \u001b[0;34m=\u001b[0m \u001b[0m_rinterface\u001b[0m\u001b[0;34m.\u001b[0m\u001b[0m_python_index_to_c\u001b[0m\u001b[0;34m(\u001b[0m\u001b[0mcdata\u001b[0m\u001b[0;34m,\u001b[0m \u001b[0mi\u001b[0m\u001b[0;34m)\u001b[0m\u001b[0;34m\u001b[0m\u001b[0;34m\u001b[0m\u001b[0m\n",
      "\u001b[0;31mKeyboardInterrupt\u001b[0m: "
     ]
    }
   ],
   "source": [
    "df_shifted = pd.DataFrame()\n",
    "df_shifted = df_shifted.fillna(0)\n",
    "counter = 0\n",
    "\n",
    "num_bins_list = [2, 3, 4, 5, 6, 10, 12,\n",
    "                15, 20, 24, 30, 40, 60, 120]\n",
    "\n",
    "for num_bins in num_bins_list:\n",
    "    \n",
    "    columns = [f'connection_{num_bins}', f'gap_length_mean_{num_bins}', 'bin_num', 'subID', 'dyad']\n",
    "    data_subset = data[columns]\n",
    "    data_subset_no_nans = data_subset.dropna().reset_index(drop=True)\n",
    "\n",
    "    variables = [f'connection_{num_bins}', f'gap_length_mean_{num_bins}', 'bin_num']\n",
    "    for variable in variables:\n",
    "        data_subset_no_nans[f'{variable}_zscore'] = zscore(data_subset_no_nans[variable])\n",
    "\n",
    "    shifted_betas = []\n",
    "    shifted_p_vals = []\n",
    "\n",
    "    for _ in tqdm(range(2)): # change to 100 on cluster\n",
    "\n",
    "        data_subset_no_nans[f'gap_length_mean_{num_bins}_shifted'] = data_subset_no_nans[f'gap_length_mean_{num_bins}_zscore'].groupby(data_subset_no_nans['dyad']).transform(circle_shift)\n",
    "        model = Lmer(f\"connection_{num_bins}_zscore ~ gap_length_mean_{num_bins}_shifted + bin_num_zscore + (1|subID) + (1|dyad)\", data=data_subset_no_nans)\n",
    "        model.fit()\n",
    "\n",
    "        shifted_betas.append(model.coefs['Estimate'][1])\n",
    "        shifted_p_vals.append(model.coefs['P-val'][1])\n",
    "        \n",
    "    for i in range(len(shifted_betas)):\n",
    "        df_shifted.at[counter, 'num_bins'] = num_bins\n",
    "        df_shifted.at[counter, 'bin_size'] = 600 / num_bins\n",
    "        df_shifted.at[counter, 'betas'] = shifted_betas[i]\n",
    "        df_shifted.at[counter, 'p-val'] = shifted_p_vals[i]\n",
    "        \n",
    "        counter += 1\n",
    "        \n",
    "df_shifted.to_csv(os.path.join(base_dir, 'Analyses', 'within_convo_analysis_circle_shifted_strangers.csv'), encoding='utf-8', index=False)\n",
    "    "
   ]
  },
  {
   "cell_type": "code",
   "execution_count": 58,
   "metadata": {},
   "outputs": [
    {
     "data": {
      "image/png": "[encoded data removed]",
      "text/plain": [
       "<Figure size 432x288 with 1 Axes>"
      ]
     },
     "metadata": {
      "needs_background": "light"
     },
     "output_type": "display_data"
    }
   ],
   "source": [
    "marker_real = 'D'\n",
    "marker_shuffled = '.'\n",
    "\n",
    "sns.scatterplot(x=\"bin_size\", y=\"beta\", data=df_real, marker=marker_real, color='r', label=\"real data\")\n",
    "sns.scatterplot(x=\"bin_size\", y=\"betas\", data=df_shifted, marker=marker_shuffled, color='b', alpha=0.5, label=\"circle-shifted data\")\n",
    "\n",
    "plt.xlabel('bin size (seconds)', fontsize=15, labelpad=10)\n",
    "plt.ylabel('beta coefficient (standardized)', fontsize=15, labelpad=10)\n",
    "\n",
    "plt.tick_params(labelsize=12)\n",
    "\n",
    "sns.despine()\n",
    "plt.tight_layout()\n",
    "\n",
    "#plt.savefig(os.path.join(base_dir,'Study1_within_convo_analysis_figure_median.png'), dpi=300)"
   ]
  },
  {
   "cell_type": "code",
   "execution_count": 50,
   "metadata": {},
   "outputs": [
    {
     "data": {
      "text/plain": [
       "<matplotlib.axes._subplots.AxesSubplot at 0x15594ff60>"
      ]
     },
     "execution_count": 50,
     "metadata": {},
     "output_type": "execute_result"
    },
    {
     "data": {
      "image/png": "[encoded data removed]",
      "text/plain": [
       "<Figure size 432x288 with 1 Axes>"
      ]
     },
     "metadata": {
      "needs_background": "light"
     },
     "output_type": "display_data"
    }
   ],
   "source": [
    "sns.scatterplot(x=\"bin_size\", y=\"beta\", data=df_real, color='r', alpha=0.5)\n",
    "sns.scatterplot(x=\"bin_size\", y=\"betas\", data=df_shifted, color='b', alpha=0.5)"
   ]
  },
  {
   "cell_type": "markdown",
   "metadata": {},
   "source": [
    "For each iteration and each bin, save the beta, the p-value and the beta and p-value for the real data for that bin\n",
    "\n",
    "Also for each bin size, do the z-scoring\n",
    "\n",
    "I can also store the real values in a separate dataframe. This makes more sense"
   ]
  },
  {
   "cell_type": "code",
   "execution_count": 5,
   "metadata": {},
   "outputs": [],
   "source": [
    "variables = ['connection_20', 'gap_length_mean_20', 'bin_num']\n",
    "for variable in variables:\n",
    "    data[f'{variable}_zscore'] = zscore(data[variable])"
   ]
  },
  {
   "cell_type": "code",
   "execution_count": 6,
   "metadata": {},
   "outputs": [
    {
     "name": "stdout",
     "output_type": "stream",
     "text": [
      "**NOTE**: Column for 'residuals' not created in model.data, but saved in model.resid only. This is because you have rows with NaNs in your data.\n",
      "\n",
      "**NOTE** Column for 'fits' not created in model.data, but saved in model.fits only. This is because you have rows with NaNs in your data.\n",
      "\n",
      "Formula: connection_20_zscore~gap_length_mean_20_zscore+bin_num_zscore+(1|subID)+(1|dyad)\n",
      "\n",
      "Family: gaussian\t Inference: parametric\n",
      "\n",
      "Number of observations: 77280\t Groups: {'dyad': 322.0, 'subID': 66.0}\n",
      "\n",
      "Log-likelihood: -12323.956 \t AIC: 24647.913\n",
      "\n",
      "Random effects:\n",
      "\n",
      "                 Name    Var    Std\n",
      "dyad      (Intercept)  0.307  0.554\n",
      "subID     (Intercept)  0.292  0.541\n",
      "Residual               0.373  0.611\n",
      "\n",
      "No random effect correlations specified\n",
      "\n",
      "Fixed effects:\n",
      "\n",
      "                           Estimate  2.5_ci  97.5_ci     SE         DF  \\\n",
      "(Intercept)                   2.381   2.210    2.553  0.087    183.987   \n",
      "gap_length_mean_20_zscore    -0.034  -0.046   -0.021  0.006  12374.631   \n",
      "bin_num_zscore                1.653   1.589    1.717  0.033  12156.861   \n",
      "\n",
      "                           T-stat  P-val  Sig  \n",
      "(Intercept)                27.218    0.0  ***  \n",
      "gap_length_mean_20_zscore  -5.205    0.0  ***  \n",
      "bin_num_zscore             50.476    0.0  ***  \n"
     ]
    }
   ],
   "source": [
    "model = Lmer(\"connection_20_zscore ~ gap_length_mean_20_zscore + bin_num_zscore + (1|subID) + (1|dyad)\", data=data)\n",
    "\n",
    "# Fit it\n",
    "print(model.fit())"
   ]
  },
  {
   "cell_type": "code",
   "execution_count": 7,
   "metadata": {},
   "outputs": [
    {
     "data": {
      "text/plain": [
       "-0.03362748053535687"
      ]
     },
     "execution_count": 7,
     "metadata": {},
     "output_type": "execute_result"
    }
   ],
   "source": [
    "model.coefs['Estimate'][1]"
   ]
  },
  {
   "cell_type": "code",
   "execution_count": 10,
   "metadata": {},
   "outputs": [
    {
     "data": {
      "text/plain": [
       "1.9712836409024007e-07"
      ]
     },
     "execution_count": 10,
     "metadata": {},
     "output_type": "execute_result"
    }
   ],
   "source": [
    "model.coefs['P-val'][1]"
   ]
  },
  {
   "cell_type": "code",
   "execution_count": 25,
   "metadata": {},
   "outputs": [
    {
     "name": "stderr",
     "output_type": "stream",
     "text": [
      "\n",
      "  0%|          | 0/4 [00:00<?, ?it/s]\u001b[A\n",
      " 25%|██▌       | 1/4 [00:16<00:50, 16.68s/it]\u001b[A"
     ]
    },
    {
     "name": "stdout",
     "output_type": "stream",
     "text": [
      "boundary (singular) fit: see ?isSingular \n",
      "\n",
      "**NOTE**: Column for 'residuals' not created in model.data, but saved in model.resid only. This is because you have rows with NaNs in your data.\n",
      "\n",
      "**NOTE** Column for 'fits' not created in model.data, but saved in model.fits only. This is because you have rows with NaNs in your data.\n",
      "\n",
      "Formula: connection_2_zscore~gap_length_mean_2_shifted+bin_num_zscore+(1|subID)+(1|dyad)\n",
      "\n",
      "Family: gaussian\t Inference: parametric\n",
      "\n",
      "Number of observations: 77280\t Groups: {'subID': 21.0, 'dyad': 13.0}\n",
      "\n",
      "Log-likelihood: -41.402 \t AIC: 82.803\n",
      "\n",
      "Random effects:\n",
      "\n",
      "                 Name    Var    Std\n",
      "subID     (Intercept)  0.000  0.000\n",
      "dyad      (Intercept)  0.078  0.279\n",
      "Residual               0.686  0.828\n",
      "\n",
      "No random effect correlations specified\n",
      "\n",
      "Fixed effects:\n",
      "\n"
     ]
    },
    {
     "name": "stderr",
     "output_type": "stream",
     "text": [
      "\n",
      " 50%|█████     | 2/4 [00:33<00:33, 16.61s/it]\u001b[A"
     ]
    },
    {
     "name": "stdout",
     "output_type": "stream",
     "text": [
      "**NOTE**: Column for 'residuals' not created in model.data, but saved in model.resid only. This is because you have rows with NaNs in your data.\n",
      "\n",
      "**NOTE** Column for 'fits' not created in model.data, but saved in model.fits only. This is because you have rows with NaNs in your data.\n",
      "\n",
      "Formula: connection_2_zscore~gap_length_mean_2_shifted+bin_num_zscore+(1|subID)+(1|dyad)\n",
      "\n",
      "Family: gaussian\t Inference: parametric\n",
      "\n",
      "Number of observations: 77280\t Groups: {'subID': 14.0, 'dyad': 9.0}\n",
      "\n",
      "Log-likelihood: -18.678 \t AIC: 37.356\n",
      "\n",
      "Random effects:\n",
      "\n",
      "                 Name    Var    Std\n",
      "subID     (Intercept)  0.404  0.635\n",
      "dyad      (Intercept)  0.518  0.720\n",
      "Residual               0.140  0.374\n",
      "\n",
      "No random effect correlations specified\n",
      "\n",
      "Fixed effects:\n",
      "\n"
     ]
    },
    {
     "name": "stderr",
     "output_type": "stream",
     "text": [
      "\n",
      " 75%|███████▌  | 3/4 [00:49<00:16, 16.50s/it]\u001b[A"
     ]
    },
    {
     "name": "stdout",
     "output_type": "stream",
     "text": [
      "**NOTE**: Column for 'residuals' not created in model.data, but saved in model.resid only. This is because you have rows with NaNs in your data.\n",
      "\n",
      "**NOTE** Column for 'fits' not created in model.data, but saved in model.fits only. This is because you have rows with NaNs in your data.\n",
      "\n",
      "Formula: connection_2_zscore~gap_length_mean_2_shifted+bin_num_zscore+(1|subID)+(1|dyad)\n",
      "\n",
      "Family: gaussian\t Inference: parametric\n",
      "\n",
      "Number of observations: 77280\t Groups: {'subID': 11.0, 'dyad': 7.0}\n",
      "\n",
      "Log-likelihood: -12.497 \t AIC: 24.994\n",
      "\n",
      "Random effects:\n",
      "\n",
      "                 Name    Var    Std\n",
      "subID     (Intercept)  0.000  0.000\n",
      "dyad      (Intercept)  0.392  0.626\n",
      "Residual               0.218  0.467\n",
      "\n",
      "No random effect correlations specified\n",
      "\n",
      "Fixed effects:\n",
      "\n"
     ]
    },
    {
     "name": "stderr",
     "output_type": "stream",
     "text": [
      "\n",
      "100%|██████████| 4/4 [01:05<00:00, 16.45s/it]\u001b[A\n",
      "\u001b[A\n",
      "  0%|          | 0/4 [00:00<?, ?it/s]\u001b[A"
     ]
    },
    {
     "name": "stdout",
     "output_type": "stream",
     "text": [
      "**NOTE**: Column for 'residuals' not created in model.data, but saved in model.resid only. This is because you have rows with NaNs in your data.\n",
      "\n",
      "**NOTE** Column for 'fits' not created in model.data, but saved in model.fits only. This is because you have rows with NaNs in your data.\n",
      "\n",
      "Formula: connection_2_zscore~gap_length_mean_2_shifted+bin_num_zscore+(1|subID)+(1|dyad)\n",
      "\n",
      "Family: gaussian\t Inference: parametric\n",
      "\n",
      "Number of observations: 77280\t Groups: {'subID': 16.0, 'dyad': 11.0}\n",
      "\n",
      "Log-likelihood: -24.164 \t AIC: 48.329\n",
      "\n",
      "Random effects:\n",
      "\n",
      "                 Name    Var    Std\n",
      "subID     (Intercept)  1.126  1.061\n",
      "dyad      (Intercept)  0.232  0.482\n",
      "Residual               0.146  0.382\n",
      "\n",
      "No random effect correlations specified\n",
      "\n",
      "Fixed effects:\n",
      "\n"
     ]
    },
    {
     "name": "stderr",
     "output_type": "stream",
     "text": [
      "\n",
      " 25%|██▌       | 1/4 [00:17<00:51, 17.22s/it]\u001b[A"
     ]
    },
    {
     "name": "stdout",
     "output_type": "stream",
     "text": [
      "**NOTE**: Column for 'residuals' not created in model.data, but saved in model.resid only. This is because you have rows with NaNs in your data.\n",
      "\n",
      "**NOTE** Column for 'fits' not created in model.data, but saved in model.fits only. This is because you have rows with NaNs in your data.\n",
      "\n",
      "Formula: connection_3_zscore~gap_length_mean_3_shifted+bin_num_zscore+(1|subID)+(1|dyad)\n",
      "\n",
      "Family: gaussian\t Inference: parametric\n",
      "\n",
      "Number of observations: 77280\t Groups: {'subID': 28.0, 'dyad': 17.0}\n",
      "\n",
      "Log-likelihood: -71.836 \t AIC: 143.672\n",
      "\n",
      "Random effects:\n",
      "\n",
      "                 Name    Var    Std\n",
      "subID     (Intercept)  0.451  0.672\n",
      "dyad      (Intercept)  0.126  0.355\n",
      "Residual               0.299  0.547\n",
      "\n",
      "No random effect correlations specified\n",
      "\n",
      "Fixed effects:\n",
      "\n"
     ]
    },
    {
     "name": "stderr",
     "output_type": "stream",
     "text": [
      "\n",
      " 50%|█████     | 2/4 [00:34<00:34, 17.26s/it]\u001b[A"
     ]
    },
    {
     "name": "stdout",
     "output_type": "stream",
     "text": [
      "**NOTE**: Column for 'residuals' not created in model.data, but saved in model.resid only. This is because you have rows with NaNs in your data.\n",
      "\n",
      "**NOTE** Column for 'fits' not created in model.data, but saved in model.fits only. This is because you have rows with NaNs in your data.\n",
      "\n",
      "Formula: connection_3_zscore~gap_length_mean_3_shifted+bin_num_zscore+(1|subID)+(1|dyad)\n",
      "\n",
      "Family: gaussian\t Inference: parametric\n",
      "\n",
      "Number of observations: 77280\t Groups: {'subID': 24.0, 'dyad': 16.0}\n",
      "\n",
      "Log-likelihood: -62.095 \t AIC: 124.191\n",
      "\n",
      "Random effects:\n",
      "\n",
      "                 Name    Var    Std\n",
      "subID     (Intercept)  0.482  0.694\n",
      "dyad      (Intercept)  0.493  0.702\n",
      "Residual               0.258  0.508\n",
      "\n",
      "No random effect correlations specified\n",
      "\n",
      "Fixed effects:\n",
      "\n"
     ]
    },
    {
     "name": "stderr",
     "output_type": "stream",
     "text": [
      "\n",
      " 75%|███████▌  | 3/4 [00:51<00:17, 17.19s/it]\u001b[A"
     ]
    },
    {
     "name": "stdout",
     "output_type": "stream",
     "text": [
      "boundary (singular) fit: see ?isSingular \n",
      "\n",
      "**NOTE**: Column for 'residuals' not created in model.data, but saved in model.resid only. This is because you have rows with NaNs in your data.\n",
      "\n",
      "**NOTE** Column for 'fits' not created in model.data, but saved in model.fits only. This is because you have rows with NaNs in your data.\n",
      "\n",
      "Formula: connection_3_zscore~gap_length_mean_3_shifted+bin_num_zscore+(1|subID)+(1|dyad)\n",
      "\n",
      "Family: gaussian\t Inference: parametric\n",
      "\n",
      "Number of observations: 77280\t Groups: {'subID': 29.0, 'dyad': 18.0}\n",
      "\n",
      "Log-likelihood: -66.504 \t AIC: 133.008\n",
      "\n",
      "Random effects:\n",
      "\n",
      "                 Name    Var    Std\n",
      "subID     (Intercept)  0.000  0.000\n",
      "dyad      (Intercept)  0.447  0.669\n",
      "Residual               0.355  0.596\n",
      "\n",
      "No random effect correlations specified\n",
      "\n",
      "Fixed effects:\n",
      "\n"
     ]
    },
    {
     "name": "stderr",
     "output_type": "stream",
     "text": [
      "\n",
      "100%|██████████| 4/4 [01:08<00:00, 17.24s/it]\u001b[A\n",
      "\u001b[A\n",
      "  0%|          | 0/4 [00:00<?, ?it/s]\u001b[A"
     ]
    },
    {
     "name": "stdout",
     "output_type": "stream",
     "text": [
      "**NOTE**: Column for 'residuals' not created in model.data, but saved in model.resid only. This is because you have rows with NaNs in your data.\n",
      "\n",
      "**NOTE** Column for 'fits' not created in model.data, but saved in model.fits only. This is because you have rows with NaNs in your data.\n",
      "\n",
      "Formula: connection_3_zscore~gap_length_mean_3_shifted+bin_num_zscore+(1|subID)+(1|dyad)\n",
      "\n",
      "Family: gaussian\t Inference: parametric\n",
      "\n",
      "Number of observations: 77280\t Groups: {'subID': 20.0, 'dyad': 13.0}\n",
      "\n",
      "Log-likelihood: -45.031 \t AIC: 90.061\n",
      "\n",
      "Random effects:\n",
      "\n",
      "                 Name    Var    Std\n",
      "subID     (Intercept)  0.000  0.000\n",
      "dyad      (Intercept)  0.868  0.932\n",
      "Residual               0.268  0.518\n",
      "\n",
      "No random effect correlations specified\n",
      "\n",
      "Fixed effects:\n",
      "\n"
     ]
    },
    {
     "name": "stderr",
     "output_type": "stream",
     "text": [
      "\n",
      " 25%|██▌       | 1/4 [00:18<00:54, 18.08s/it]\u001b[A"
     ]
    },
    {
     "name": "stdout",
     "output_type": "stream",
     "text": [
      "**NOTE**: Column for 'residuals' not created in model.data, but saved in model.resid only. This is because you have rows with NaNs in your data.\n",
      "\n",
      "**NOTE** Column for 'fits' not created in model.data, but saved in model.fits only. This is because you have rows with NaNs in your data.\n",
      "\n",
      "Formula: connection_4_zscore~gap_length_mean_4_shifted+bin_num_zscore+(1|subID)+(1|dyad)\n",
      "\n",
      "Family: gaussian\t Inference: parametric\n",
      "\n",
      "Number of observations: 77280\t Groups: {'subID': 24.0, 'dyad': 16.0}\n",
      "\n",
      "Log-likelihood: -75.805 \t AIC: 151.610\n",
      "\n",
      "Random effects:\n",
      "\n",
      "                 Name    Var    Std\n",
      "subID     (Intercept)  0.414  0.643\n",
      "dyad      (Intercept)  0.519  0.721\n",
      "Residual               0.162  0.403\n",
      "\n",
      "No random effect correlations specified\n",
      "\n",
      "Fixed effects:\n",
      "\n"
     ]
    },
    {
     "name": "stderr",
     "output_type": "stream",
     "text": [
      "\n",
      " 50%|█████     | 2/4 [00:35<00:35, 17.94s/it]\u001b[A"
     ]
    },
    {
     "name": "stdout",
     "output_type": "stream",
     "text": [
      "**NOTE**: Column for 'residuals' not created in model.data, but saved in model.resid only. This is because you have rows with NaNs in your data.\n",
      "\n",
      "**NOTE** Column for 'fits' not created in model.data, but saved in model.fits only. This is because you have rows with NaNs in your data.\n",
      "\n",
      "Formula: connection_4_zscore~gap_length_mean_4_shifted+bin_num_zscore+(1|subID)+(1|dyad)\n",
      "\n",
      "Family: gaussian\t Inference: parametric\n",
      "\n",
      "Number of observations: 77280\t Groups: {'subID': 30.0, 'dyad': 22.0}\n",
      "\n",
      "Log-likelihood: -96.209 \t AIC: 192.418\n",
      "\n",
      "Random effects:\n",
      "\n",
      "                 Name    Var    Std\n",
      "subID     (Intercept)  0.555  0.745\n",
      "dyad      (Intercept)  0.196  0.442\n",
      "Residual               0.177  0.421\n",
      "\n",
      "No random effect correlations specified\n",
      "\n",
      "Fixed effects:\n",
      "\n"
     ]
    },
    {
     "name": "stderr",
     "output_type": "stream",
     "text": [
      "\n",
      " 75%|███████▌  | 3/4 [00:53<00:17, 17.84s/it]\u001b[A"
     ]
    },
    {
     "name": "stdout",
     "output_type": "stream",
     "text": [
      "**NOTE**: Column for 'residuals' not created in model.data, but saved in model.resid only. This is because you have rows with NaNs in your data.\n",
      "\n",
      "**NOTE** Column for 'fits' not created in model.data, but saved in model.fits only. This is because you have rows with NaNs in your data.\n",
      "\n",
      "Formula: connection_4_zscore~gap_length_mean_4_shifted+bin_num_zscore+(1|subID)+(1|dyad)\n",
      "\n",
      "Family: gaussian\t Inference: parametric\n",
      "\n",
      "Number of observations: 77280\t Groups: {'subID': 28.0, 'dyad': 20.0}\n",
      "\n",
      "Log-likelihood: -100.543 \t AIC: 201.086\n",
      "\n",
      "Random effects:\n",
      "\n",
      "                 Name    Var    Std\n",
      "subID     (Intercept)  0.556  0.745\n",
      "dyad      (Intercept)  0.375  0.612\n",
      "Residual               0.195  0.442\n",
      "\n",
      "No random effect correlations specified\n",
      "\n",
      "Fixed effects:\n",
      "\n"
     ]
    },
    {
     "name": "stderr",
     "output_type": "stream",
     "text": [
      "\n",
      "100%|██████████| 4/4 [01:11<00:00, 17.80s/it]\u001b[A\n",
      "\u001b[A\n",
      "  0%|          | 0/4 [00:00<?, ?it/s]\u001b[A"
     ]
    },
    {
     "name": "stdout",
     "output_type": "stream",
     "text": [
      "**NOTE**: Column for 'residuals' not created in model.data, but saved in model.resid only. This is because you have rows with NaNs in your data.\n",
      "\n",
      "**NOTE** Column for 'fits' not created in model.data, but saved in model.fits only. This is because you have rows with NaNs in your data.\n",
      "\n",
      "Formula: connection_4_zscore~gap_length_mean_4_shifted+bin_num_zscore+(1|subID)+(1|dyad)\n",
      "\n",
      "Family: gaussian\t Inference: parametric\n",
      "\n",
      "Number of observations: 77280\t Groups: {'subID': 34.0, 'dyad': 25.0}\n",
      "\n",
      "Log-likelihood: -119.267 \t AIC: 238.534\n",
      "\n",
      "Random effects:\n",
      "\n",
      "                 Name    Var    Std\n",
      "subID     (Intercept)  0.118  0.343\n",
      "dyad      (Intercept)  0.155  0.393\n",
      "Residual               0.330  0.575\n",
      "\n",
      "No random effect correlations specified\n",
      "\n",
      "Fixed effects:\n",
      "\n"
     ]
    },
    {
     "name": "stderr",
     "output_type": "stream",
     "text": [
      "\n",
      " 25%|██▌       | 1/4 [00:18<00:54, 18.26s/it]\u001b[A"
     ]
    },
    {
     "name": "stdout",
     "output_type": "stream",
     "text": [
      "**NOTE**: Column for 'residuals' not created in model.data, but saved in model.resid only. This is because you have rows with NaNs in your data.\n",
      "\n",
      "**NOTE** Column for 'fits' not created in model.data, but saved in model.fits only. This is because you have rows with NaNs in your data.\n",
      "\n",
      "Formula: connection_5_zscore~gap_length_mean_5_shifted+bin_num_zscore+(1|subID)+(1|dyad)\n",
      "\n",
      "Family: gaussian\t Inference: parametric\n",
      "\n",
      "Number of observations: 77280\t Groups: {'subID': 35.0, 'dyad': 24.0}\n",
      "\n",
      "Log-likelihood: -134.178 \t AIC: 268.355\n",
      "\n",
      "Random effects:\n",
      "\n",
      "                 Name    Var    Std\n",
      "subID     (Intercept)  0.561  0.749\n",
      "dyad      (Intercept)  0.819  0.905\n",
      "Residual               0.157  0.397\n",
      "\n",
      "No random effect correlations specified\n",
      "\n",
      "Fixed effects:\n",
      "\n"
     ]
    },
    {
     "name": "stderr",
     "output_type": "stream",
     "text": [
      "\n",
      " 50%|█████     | 2/4 [00:36<00:36, 18.38s/it]\u001b[A"
     ]
    },
    {
     "name": "stdout",
     "output_type": "stream",
     "text": [
      "**NOTE**: Column for 'residuals' not created in model.data, but saved in model.resid only. This is because you have rows with NaNs in your data.\n",
      "\n",
      "**NOTE** Column for 'fits' not created in model.data, but saved in model.fits only. This is because you have rows with NaNs in your data.\n",
      "\n",
      "Formula: connection_5_zscore~gap_length_mean_5_shifted+bin_num_zscore+(1|subID)+(1|dyad)\n",
      "\n",
      "Family: gaussian\t Inference: parametric\n",
      "\n",
      "Number of observations: 77280\t Groups: {'subID': 30.0, 'dyad': 20.0}\n",
      "\n",
      "Log-likelihood: -100.270 \t AIC: 200.539\n",
      "\n",
      "Random effects:\n",
      "\n",
      "                 Name    Var    Std\n",
      "subID     (Intercept)  0.719  0.848\n",
      "dyad      (Intercept)  0.530  0.728\n",
      "Residual               0.153  0.391\n",
      "\n",
      "No random effect correlations specified\n",
      "\n",
      "Fixed effects:\n",
      "\n"
     ]
    },
    {
     "name": "stderr",
     "output_type": "stream",
     "text": [
      "\n",
      " 75%|███████▌  | 3/4 [00:55<00:18, 18.31s/it]\u001b[A"
     ]
    },
    {
     "name": "stdout",
     "output_type": "stream",
     "text": [
      "**NOTE**: Column for 'residuals' not created in model.data, but saved in model.resid only. This is because you have rows with NaNs in your data.\n",
      "\n",
      "**NOTE** Column for 'fits' not created in model.data, but saved in model.fits only. This is because you have rows with NaNs in your data.\n",
      "\n",
      "Formula: connection_5_zscore~gap_length_mean_5_shifted+bin_num_zscore+(1|subID)+(1|dyad)\n",
      "\n",
      "Family: gaussian\t Inference: parametric\n",
      "\n",
      "Number of observations: 77280\t Groups: {'subID': 43.0, 'dyad': 28.0}\n",
      "\n",
      "Log-likelihood: -148.601 \t AIC: 297.202\n",
      "\n",
      "Random effects:\n",
      "\n",
      "                 Name    Var    Std\n",
      "subID     (Intercept)  0.408  0.638\n",
      "dyad      (Intercept)  0.403  0.635\n",
      "Residual               0.167  0.408\n",
      "\n",
      "No random effect correlations specified\n",
      "\n",
      "Fixed effects:\n",
      "\n"
     ]
    },
    {
     "name": "stderr",
     "output_type": "stream",
     "text": [
      "\n",
      "100%|██████████| 4/4 [01:13<00:00, 18.31s/it]\u001b[A\n",
      "\u001b[A\n",
      "  0%|          | 0/4 [00:00<?, ?it/s]\u001b[A"
     ]
    },
    {
     "name": "stdout",
     "output_type": "stream",
     "text": [
      "**NOTE**: Column for 'residuals' not created in model.data, but saved in model.resid only. This is because you have rows with NaNs in your data.\n",
      "\n",
      "**NOTE** Column for 'fits' not created in model.data, but saved in model.fits only. This is because you have rows with NaNs in your data.\n",
      "\n",
      "Formula: connection_5_zscore~gap_length_mean_5_shifted+bin_num_zscore+(1|subID)+(1|dyad)\n",
      "\n",
      "Family: gaussian\t Inference: parametric\n",
      "\n",
      "Number of observations: 77280\t Groups: {'subID': 45.0, 'dyad': 35.0}\n",
      "\n",
      "Log-likelihood: -242.089 \t AIC: 484.178\n",
      "\n",
      "Random effects:\n",
      "\n",
      "                 Name    Var    Std\n",
      "subID     (Intercept)  0.530  0.728\n",
      "dyad      (Intercept)  0.635  0.797\n",
      "Residual               0.244  0.494\n",
      "\n",
      "No random effect correlations specified\n",
      "\n",
      "Fixed effects:\n",
      "\n"
     ]
    },
    {
     "name": "stderr",
     "output_type": "stream",
     "text": [
      "\n",
      " 25%|██▌       | 1/4 [00:19<00:57, 19.09s/it]\u001b[A"
     ]
    },
    {
     "name": "stdout",
     "output_type": "stream",
     "text": [
      "**NOTE**: Column for 'residuals' not created in model.data, but saved in model.resid only. This is because you have rows with NaNs in your data.\n",
      "\n",
      "**NOTE** Column for 'fits' not created in model.data, but saved in model.fits only. This is because you have rows with NaNs in your data.\n",
      "\n",
      "Formula: connection_6_zscore~gap_length_mean_6_shifted+bin_num_zscore+(1|subID)+(1|dyad)\n",
      "\n",
      "Family: gaussian\t Inference: parametric\n",
      "\n",
      "Number of observations: 77280\t Groups: {'subID': 33.0, 'dyad': 25.0}\n",
      "\n",
      "Log-likelihood: -153.828 \t AIC: 307.657\n",
      "\n",
      "Random effects:\n",
      "\n",
      "                 Name    Var    Std\n",
      "subID     (Intercept)  0.291  0.539\n",
      "dyad      (Intercept)  0.312  0.558\n",
      "Residual               0.204  0.452\n",
      "\n",
      "No random effect correlations specified\n",
      "\n",
      "Fixed effects:\n",
      "\n"
     ]
    },
    {
     "name": "stderr",
     "output_type": "stream",
     "text": [
      "\n",
      " 50%|█████     | 2/4 [00:38<00:38, 19.12s/it]\u001b[A"
     ]
    },
    {
     "name": "stdout",
     "output_type": "stream",
     "text": [
      "**NOTE**: Column for 'residuals' not created in model.data, but saved in model.resid only. This is because you have rows with NaNs in your data.\n",
      "\n",
      "**NOTE** Column for 'fits' not created in model.data, but saved in model.fits only. This is because you have rows with NaNs in your data.\n",
      "\n",
      "Formula: connection_6_zscore~gap_length_mean_6_shifted+bin_num_zscore+(1|subID)+(1|dyad)\n",
      "\n",
      "Family: gaussian\t Inference: parametric\n",
      "\n",
      "Number of observations: 77280\t Groups: {'subID': 38.0, 'dyad': 26.0}\n",
      "\n",
      "Log-likelihood: -151.464 \t AIC: 302.929\n",
      "\n",
      "Random effects:\n",
      "\n",
      "                 Name    Var    Std\n",
      "subID     (Intercept)  0.749  0.865\n",
      "dyad      (Intercept)  0.109  0.331\n",
      "Residual               0.199  0.446\n",
      "\n",
      "No random effect correlations specified\n",
      "\n",
      "Fixed effects:\n",
      "\n"
     ]
    },
    {
     "name": "stderr",
     "output_type": "stream",
     "text": [
      "\n",
      " 75%|███████▌  | 3/4 [00:57<00:19, 19.18s/it]\u001b[A"
     ]
    },
    {
     "name": "stdout",
     "output_type": "stream",
     "text": [
      "**NOTE**: Column for 'residuals' not created in model.data, but saved in model.resid only. This is because you have rows with NaNs in your data.\n",
      "\n",
      "**NOTE** Column for 'fits' not created in model.data, but saved in model.fits only. This is because you have rows with NaNs in your data.\n",
      "\n",
      "Formula: connection_6_zscore~gap_length_mean_6_shifted+bin_num_zscore+(1|subID)+(1|dyad)\n",
      "\n",
      "Family: gaussian\t Inference: parametric\n",
      "\n",
      "Number of observations: 77280\t Groups: {'subID': 39.0, 'dyad': 28.0}\n",
      "\n",
      "Log-likelihood: -182.742 \t AIC: 365.483\n",
      "\n",
      "Random effects:\n",
      "\n",
      "                 Name    Var    Std\n",
      "subID     (Intercept)  0.407  0.638\n",
      "dyad      (Intercept)  0.270  0.519\n",
      "Residual               0.311  0.557\n",
      "\n",
      "No random effect correlations specified\n",
      "\n",
      "Fixed effects:\n",
      "\n"
     ]
    },
    {
     "name": "stderr",
     "output_type": "stream",
     "text": [
      "\n",
      "100%|██████████| 4/4 [01:16<00:00, 19.22s/it]\u001b[A\n",
      "\u001b[A\n",
      "  0%|          | 0/4 [00:00<?, ?it/s]\u001b[A"
     ]
    },
    {
     "name": "stdout",
     "output_type": "stream",
     "text": [
      "**NOTE**: Column for 'residuals' not created in model.data, but saved in model.resid only. This is because you have rows with NaNs in your data.\n",
      "\n",
      "**NOTE** Column for 'fits' not created in model.data, but saved in model.fits only. This is because you have rows with NaNs in your data.\n",
      "\n",
      "Formula: connection_6_zscore~gap_length_mean_6_shifted+bin_num_zscore+(1|subID)+(1|dyad)\n",
      "\n",
      "Family: gaussian\t Inference: parametric\n",
      "\n",
      "Number of observations: 77280\t Groups: {'subID': 47.0, 'dyad': 38.0}\n",
      "\n",
      "Log-likelihood: -283.575 \t AIC: 567.149\n",
      "\n",
      "Random effects:\n",
      "\n",
      "                 Name    Var    Std\n",
      "subID     (Intercept)  0.655  0.809\n",
      "dyad      (Intercept)  0.555  0.745\n",
      "Residual               0.250  0.500\n",
      "\n",
      "No random effect correlations specified\n",
      "\n",
      "Fixed effects:\n",
      "\n"
     ]
    },
    {
     "name": "stderr",
     "output_type": "stream",
     "text": [
      "\n",
      " 25%|██▌       | 1/4 [00:19<00:57, 19.01s/it]\u001b[A"
     ]
    },
    {
     "name": "stdout",
     "output_type": "stream",
     "text": [
      "**NOTE**: Column for 'residuals' not created in model.data, but saved in model.resid only. This is because you have rows with NaNs in your data.\n",
      "\n",
      "**NOTE** Column for 'fits' not created in model.data, but saved in model.fits only. This is because you have rows with NaNs in your data.\n",
      "\n",
      "Formula: connection_10_zscore~gap_length_mean_10_shifted+bin_num_zscore+(1|subID)+(1|dyad)\n",
      "\n",
      "Family: gaussian\t Inference: parametric\n",
      "\n",
      "Number of observations: 77280\t Groups: {'subID': 48.0, 'dyad': 47.0}\n",
      "\n",
      "Log-likelihood: -442.812 \t AIC: 885.623\n",
      "\n",
      "Random effects:\n",
      "\n",
      "                 Name    Var    Std\n",
      "subID     (Intercept)  0.383  0.619\n",
      "dyad      (Intercept)  0.221  0.470\n",
      "Residual               0.265  0.514\n",
      "\n",
      "No random effect correlations specified\n",
      "\n",
      "Fixed effects:\n",
      "\n"
     ]
    },
    {
     "name": "stderr",
     "output_type": "stream",
     "text": [
      "\n",
      " 50%|█████     | 2/4 [00:39<00:38, 19.46s/it]\u001b[A"
     ]
    },
    {
     "name": "stdout",
     "output_type": "stream",
     "text": [
      "**NOTE**: Column for 'residuals' not created in model.data, but saved in model.resid only. This is because you have rows with NaNs in your data.\n",
      "\n",
      "**NOTE** Column for 'fits' not created in model.data, but saved in model.fits only. This is because you have rows with NaNs in your data.\n",
      "\n",
      "Formula: connection_10_zscore~gap_length_mean_10_shifted+bin_num_zscore+(1|subID)+(1|dyad)\n",
      "\n",
      "Family: gaussian\t Inference: parametric\n",
      "\n",
      "Number of observations: 77280\t Groups: {'subID': 52.0, 'dyad': 49.0}\n",
      "\n",
      "Log-likelihood: -437.639 \t AIC: 875.279\n",
      "\n",
      "Random effects:\n",
      "\n",
      "                 Name    Var    Std\n",
      "subID     (Intercept)  0.778  0.882\n",
      "dyad      (Intercept)  0.455  0.675\n",
      "Residual               0.216  0.464\n",
      "\n",
      "No random effect correlations specified\n",
      "\n",
      "Fixed effects:\n",
      "\n"
     ]
    },
    {
     "name": "stderr",
     "output_type": "stream",
     "text": [
      "\n",
      " 75%|███████▌  | 3/4 [00:59<00:19, 19.48s/it]\u001b[A"
     ]
    },
    {
     "name": "stdout",
     "output_type": "stream",
     "text": [
      "**NOTE**: Column for 'residuals' not created in model.data, but saved in model.resid only. This is because you have rows with NaNs in your data.\n",
      "\n",
      "**NOTE** Column for 'fits' not created in model.data, but saved in model.fits only. This is because you have rows with NaNs in your data.\n",
      "\n",
      "Formula: connection_10_zscore~gap_length_mean_10_shifted+bin_num_zscore+(1|subID)+(1|dyad)\n",
      "\n",
      "Family: gaussian\t Inference: parametric\n",
      "\n",
      "Number of observations: 77280\t Groups: {'dyad': 55.0, 'subID': 49.0}\n",
      "\n",
      "Log-likelihood: -551.479 \t AIC: 1102.958\n",
      "\n",
      "Random effects:\n",
      "\n",
      "                 Name    Var    Std\n",
      "dyad      (Intercept)  0.494  0.703\n",
      "subID     (Intercept)  0.463  0.680\n",
      "Residual               0.232  0.482\n",
      "\n",
      "No random effect correlations specified\n",
      "\n",
      "Fixed effects:\n",
      "\n"
     ]
    },
    {
     "name": "stderr",
     "output_type": "stream",
     "text": [
      "\n",
      "100%|██████████| 4/4 [01:18<00:00, 19.56s/it]\u001b[A\n",
      "\u001b[A\n",
      "  0%|          | 0/4 [00:00<?, ?it/s]\u001b[A"
     ]
    },
    {
     "name": "stdout",
     "output_type": "stream",
     "text": [
      "**NOTE**: Column for 'residuals' not created in model.data, but saved in model.resid only. This is because you have rows with NaNs in your data.\n",
      "\n",
      "**NOTE** Column for 'fits' not created in model.data, but saved in model.fits only. This is because you have rows with NaNs in your data.\n",
      "\n",
      "Formula: connection_10_zscore~gap_length_mean_10_shifted+bin_num_zscore+(1|subID)+(1|dyad)\n",
      "\n",
      "Family: gaussian\t Inference: parametric\n",
      "\n",
      "Number of observations: 77280\t Groups: {'subID': 61.0, 'dyad': 61.0}\n",
      "\n",
      "Log-likelihood: -565.728 \t AIC: 1131.456\n",
      "\n",
      "Random effects:\n",
      "\n",
      "                 Name    Var    Std\n",
      "subID     (Intercept)  0.474  0.688\n",
      "dyad      (Intercept)  0.317  0.563\n",
      "Residual               0.231  0.481\n",
      "\n",
      "No random effect correlations specified\n",
      "\n",
      "Fixed effects:\n",
      "\n"
     ]
    },
    {
     "name": "stderr",
     "output_type": "stream",
     "text": [
      "\n",
      " 25%|██▌       | 1/4 [00:20<01:01, 20.52s/it]\u001b[A"
     ]
    },
    {
     "name": "stdout",
     "output_type": "stream",
     "text": [
      "**NOTE**: Column for 'residuals' not created in model.data, but saved in model.resid only. This is because you have rows with NaNs in your data.\n",
      "\n",
      "**NOTE** Column for 'fits' not created in model.data, but saved in model.fits only. This is because you have rows with NaNs in your data.\n",
      "\n",
      "Formula: connection_12_zscore~gap_length_mean_12_shifted+bin_num_zscore+(1|subID)+(1|dyad)\n",
      "\n",
      "Family: gaussian\t Inference: parametric\n",
      "\n",
      "Number of observations: 77280\t Groups: {'dyad': 71.0, 'subID': 62.0}\n",
      "\n",
      "Log-likelihood: -732.566 \t AIC: 1465.132\n",
      "\n",
      "Random effects:\n",
      "\n",
      "                 Name    Var    Std\n",
      "dyad      (Intercept)  0.612  0.782\n",
      "subID     (Intercept)  0.376  0.613\n",
      "Residual               0.220  0.469\n",
      "\n",
      "No random effect correlations specified\n",
      "\n",
      "Fixed effects:\n",
      "\n"
     ]
    },
    {
     "name": "stderr",
     "output_type": "stream",
     "text": [
      "\n",
      " 50%|█████     | 2/4 [00:40<00:40, 20.41s/it]\u001b[A"
     ]
    },
    {
     "name": "stdout",
     "output_type": "stream",
     "text": [
      "**NOTE**: Column for 'residuals' not created in model.data, but saved in model.resid only. This is because you have rows with NaNs in your data.\n",
      "\n",
      "**NOTE** Column for 'fits' not created in model.data, but saved in model.fits only. This is because you have rows with NaNs in your data.\n",
      "\n",
      "Formula: connection_12_zscore~gap_length_mean_12_shifted+bin_num_zscore+(1|subID)+(1|dyad)\n",
      "\n",
      "Family: gaussian\t Inference: parametric\n",
      "\n",
      "Number of observations: 77280\t Groups: {'dyad': 61.0, 'subID': 56.0}\n",
      "\n",
      "Log-likelihood: -682.216 \t AIC: 1364.431\n",
      "\n",
      "Random effects:\n",
      "\n",
      "                 Name    Var    Std\n",
      "dyad      (Intercept)  0.362  0.601\n",
      "subID     (Intercept)  0.385  0.621\n",
      "Residual               0.264  0.514\n",
      "\n",
      "No random effect correlations specified\n",
      "\n",
      "Fixed effects:\n",
      "\n"
     ]
    },
    {
     "name": "stderr",
     "output_type": "stream",
     "text": [
      "\n",
      " 75%|███████▌  | 3/4 [01:00<00:20, 20.37s/it]\u001b[A"
     ]
    },
    {
     "name": "stdout",
     "output_type": "stream",
     "text": [
      "**NOTE**: Column for 'residuals' not created in model.data, but saved in model.resid only. This is because you have rows with NaNs in your data.\n",
      "\n",
      "**NOTE** Column for 'fits' not created in model.data, but saved in model.fits only. This is because you have rows with NaNs in your data.\n",
      "\n",
      "Formula: connection_12_zscore~gap_length_mean_12_shifted+bin_num_zscore+(1|subID)+(1|dyad)\n",
      "\n",
      "Family: gaussian\t Inference: parametric\n",
      "\n",
      "Number of observations: 77280\t Groups: {'dyad': 73.0, 'subID': 62.0}\n",
      "\n",
      "Log-likelihood: -749.375 \t AIC: 1498.750\n",
      "\n",
      "Random effects:\n",
      "\n",
      "                 Name    Var    Std\n",
      "dyad      (Intercept)  0.794  0.891\n",
      "subID     (Intercept)  0.645  0.803\n",
      "Residual               0.217  0.465\n",
      "\n",
      "No random effect correlations specified\n",
      "\n",
      "Fixed effects:\n",
      "\n"
     ]
    },
    {
     "name": "stderr",
     "output_type": "stream",
     "text": [
      "\n",
      "100%|██████████| 4/4 [01:21<00:00, 20.52s/it]\u001b[A\n",
      "\u001b[A\n",
      "  0%|          | 0/4 [00:00<?, ?it/s]\u001b[A"
     ]
    },
    {
     "name": "stdout",
     "output_type": "stream",
     "text": [
      "**NOTE**: Column for 'residuals' not created in model.data, but saved in model.resid only. This is because you have rows with NaNs in your data.\n",
      "\n",
      "**NOTE** Column for 'fits' not created in model.data, but saved in model.fits only. This is because you have rows with NaNs in your data.\n",
      "\n",
      "Formula: connection_12_zscore~gap_length_mean_12_shifted+bin_num_zscore+(1|subID)+(1|dyad)\n",
      "\n",
      "Family: gaussian\t Inference: parametric\n",
      "\n",
      "Number of observations: 77280\t Groups: {'dyad': 65.0, 'subID': 61.0}\n",
      "\n",
      "Log-likelihood: -743.510 \t AIC: 1487.020\n",
      "\n",
      "Random effects:\n",
      "\n",
      "                 Name    Var    Std\n",
      "dyad      (Intercept)  0.502  0.708\n",
      "subID     (Intercept)  0.511  0.715\n",
      "Residual               0.240  0.490\n",
      "\n",
      "No random effect correlations specified\n",
      "\n",
      "Fixed effects:\n",
      "\n"
     ]
    },
    {
     "name": "stderr",
     "output_type": "stream",
     "text": [
      "\n",
      " 25%|██▌       | 1/4 [00:22<01:06, 22.31s/it]\u001b[A"
     ]
    },
    {
     "name": "stdout",
     "output_type": "stream",
     "text": [
      "**NOTE**: Column for 'residuals' not created in model.data, but saved in model.resid only. This is because you have rows with NaNs in your data.\n",
      "\n",
      "**NOTE** Column for 'fits' not created in model.data, but saved in model.fits only. This is because you have rows with NaNs in your data.\n",
      "\n",
      "Formula: connection_15_zscore~gap_length_mean_15_shifted+bin_num_zscore+(1|subID)+(1|dyad)\n",
      "\n",
      "Family: gaussian\t Inference: parametric\n",
      "\n",
      "Number of observations: 77280\t Groups: {'dyad': 76.0, 'subID': 62.0}\n",
      "\n",
      "Log-likelihood: -1050.207 \t AIC: 2100.413\n",
      "\n",
      "Random effects:\n",
      "\n",
      "                 Name    Var    Std\n",
      "dyad      (Intercept)  0.402  0.634\n",
      "subID     (Intercept)  0.576  0.759\n",
      "Residual               0.263  0.513\n",
      "\n",
      "No random effect correlations specified\n",
      "\n",
      "Fixed effects:\n",
      "\n"
     ]
    },
    {
     "name": "stderr",
     "output_type": "stream",
     "text": [
      "\n",
      " 50%|█████     | 2/4 [00:43<00:44, 22.07s/it]\u001b[A"
     ]
    },
    {
     "name": "stdout",
     "output_type": "stream",
     "text": [
      "**NOTE**: Column for 'residuals' not created in model.data, but saved in model.resid only. This is because you have rows with NaNs in your data.\n",
      "\n",
      "**NOTE** Column for 'fits' not created in model.data, but saved in model.fits only. This is because you have rows with NaNs in your data.\n",
      "\n",
      "Formula: connection_15_zscore~gap_length_mean_15_shifted+bin_num_zscore+(1|subID)+(1|dyad)\n",
      "\n",
      "Family: gaussian\t Inference: parametric\n",
      "\n",
      "Number of observations: 77280\t Groups: {'dyad': 85.0, 'subID': 62.0}\n",
      "\n",
      "Log-likelihood: -1056.860 \t AIC: 2113.720\n",
      "\n",
      "Random effects:\n",
      "\n",
      "                 Name    Var    Std\n",
      "dyad      (Intercept)  0.386  0.621\n",
      "subID     (Intercept)  0.491  0.700\n",
      "Residual               0.252  0.502\n",
      "\n",
      "No random effect correlations specified\n",
      "\n",
      "Fixed effects:\n",
      "\n"
     ]
    },
    {
     "name": "stderr",
     "output_type": "stream",
     "text": [
      "\n",
      " 75%|███████▌  | 3/4 [01:05<00:21, 21.96s/it]\u001b[A"
     ]
    },
    {
     "name": "stdout",
     "output_type": "stream",
     "text": [
      "**NOTE**: Column for 'residuals' not created in model.data, but saved in model.resid only. This is because you have rows with NaNs in your data.\n",
      "\n",
      "**NOTE** Column for 'fits' not created in model.data, but saved in model.fits only. This is because you have rows with NaNs in your data.\n",
      "\n",
      "Formula: connection_15_zscore~gap_length_mean_15_shifted+bin_num_zscore+(1|subID)+(1|dyad)\n",
      "\n",
      "Family: gaussian\t Inference: parametric\n",
      "\n",
      "Number of observations: 77280\t Groups: {'dyad': 82.0, 'subID': 64.0}\n",
      "\n",
      "Log-likelihood: -1116.111 \t AIC: 2232.222\n",
      "\n",
      "Random effects:\n",
      "\n",
      "                 Name    Var    Std\n",
      "dyad      (Intercept)  0.436  0.660\n",
      "subID     (Intercept)  0.623  0.789\n",
      "Residual               0.261  0.511\n",
      "\n",
      "No random effect correlations specified\n",
      "\n",
      "Fixed effects:\n",
      "\n"
     ]
    },
    {
     "name": "stderr",
     "output_type": "stream",
     "text": [
      "\n",
      "100%|██████████| 4/4 [01:27<00:00, 21.94s/it]\u001b[A\n",
      "\u001b[A\n",
      "  0%|          | 0/4 [00:00<?, ?it/s]\u001b[A"
     ]
    },
    {
     "name": "stdout",
     "output_type": "stream",
     "text": [
      "**NOTE**: Column for 'residuals' not created in model.data, but saved in model.resid only. This is because you have rows with NaNs in your data.\n",
      "\n",
      "**NOTE** Column for 'fits' not created in model.data, but saved in model.fits only. This is because you have rows with NaNs in your data.\n",
      "\n",
      "Formula: connection_15_zscore~gap_length_mean_15_shifted+bin_num_zscore+(1|subID)+(1|dyad)\n",
      "\n",
      "Family: gaussian\t Inference: parametric\n",
      "\n",
      "Number of observations: 77280\t Groups: {'dyad': 90.0, 'subID': 64.0}\n",
      "\n",
      "Log-likelihood: -1322.719 \t AIC: 2645.438\n",
      "\n",
      "Random effects:\n",
      "\n",
      "                 Name    Var    Std\n",
      "dyad      (Intercept)  0.473  0.688\n",
      "subID     (Intercept)  0.538  0.733\n",
      "Residual               0.257  0.507\n",
      "\n",
      "No random effect correlations specified\n",
      "\n",
      "Fixed effects:\n",
      "\n"
     ]
    },
    {
     "name": "stderr",
     "output_type": "stream",
     "text": [
      "\n",
      " 25%|██▌       | 1/4 [00:22<01:06, 22.01s/it]\u001b[A"
     ]
    },
    {
     "name": "stdout",
     "output_type": "stream",
     "text": [
      "**NOTE**: Column for 'residuals' not created in model.data, but saved in model.resid only. This is because you have rows with NaNs in your data.\n",
      "\n",
      "**NOTE** Column for 'fits' not created in model.data, but saved in model.fits only. This is because you have rows with NaNs in your data.\n",
      "\n",
      "Formula: connection_20_zscore~gap_length_mean_20_shifted+bin_num_zscore+(1|subID)+(1|dyad)\n",
      "\n",
      "Family: gaussian\t Inference: parametric\n",
      "\n",
      "Number of observations: 77280\t Groups: {'dyad': 112.0, 'subID': 66.0}\n",
      "\n",
      "Log-likelihood: -2032.387 \t AIC: 4064.774\n",
      "\n",
      "Random effects:\n",
      "\n",
      "                 Name    Var    Std\n",
      "dyad      (Intercept)  0.355  0.596\n",
      "subID     (Intercept)  0.384  0.620\n",
      "Residual               0.286  0.534\n",
      "\n",
      "No random effect correlations specified\n",
      "\n",
      "Fixed effects:\n",
      "\n"
     ]
    },
    {
     "name": "stderr",
     "output_type": "stream",
     "text": [
      "\n",
      " 50%|█████     | 2/4 [00:44<00:44, 22.07s/it]\u001b[A"
     ]
    },
    {
     "name": "stdout",
     "output_type": "stream",
     "text": [
      "**NOTE**: Column for 'residuals' not created in model.data, but saved in model.resid only. This is because you have rows with NaNs in your data.\n",
      "\n",
      "**NOTE** Column for 'fits' not created in model.data, but saved in model.fits only. This is because you have rows with NaNs in your data.\n",
      "\n",
      "Formula: connection_20_zscore~gap_length_mean_20_shifted+bin_num_zscore+(1|subID)+(1|dyad)\n",
      "\n",
      "Family: gaussian\t Inference: parametric\n",
      "\n",
      "Number of observations: 77280\t Groups: {'dyad': 101.0, 'subID': 62.0}\n",
      "\n",
      "Log-likelihood: -2001.686 \t AIC: 4003.371\n",
      "\n",
      "Random effects:\n",
      "\n",
      "                 Name    Var    Std\n",
      "dyad      (Intercept)  0.403  0.635\n",
      "subID     (Intercept)  0.444  0.667\n",
      "Residual               0.299  0.546\n",
      "\n",
      "No random effect correlations specified\n",
      "\n",
      "Fixed effects:\n",
      "\n"
     ]
    },
    {
     "name": "stderr",
     "output_type": "stream",
     "text": [
      "\n",
      " 75%|███████▌  | 3/4 [01:06<00:22, 22.02s/it]\u001b[A"
     ]
    },
    {
     "name": "stdout",
     "output_type": "stream",
     "text": [
      "**NOTE**: Column for 'residuals' not created in model.data, but saved in model.resid only. This is because you have rows with NaNs in your data.\n",
      "\n",
      "**NOTE** Column for 'fits' not created in model.data, but saved in model.fits only. This is because you have rows with NaNs in your data.\n",
      "\n",
      "Formula: connection_20_zscore~gap_length_mean_20_shifted+bin_num_zscore+(1|subID)+(1|dyad)\n",
      "\n",
      "Family: gaussian\t Inference: parametric\n",
      "\n",
      "Number of observations: 77280\t Groups: {'dyad': 100.0, 'subID': 64.0}\n",
      "\n",
      "Log-likelihood: -1847.970 \t AIC: 3695.940\n",
      "\n",
      "Random effects:\n",
      "\n",
      "                 Name    Var    Std\n",
      "dyad      (Intercept)  0.425  0.652\n",
      "subID     (Intercept)  0.453  0.673\n",
      "Residual               0.264  0.514\n",
      "\n",
      "No random effect correlations specified\n",
      "\n",
      "Fixed effects:\n",
      "\n"
     ]
    },
    {
     "name": "stderr",
     "output_type": "stream",
     "text": [
      "\n",
      "100%|██████████| 4/4 [01:27<00:00, 21.77s/it]\u001b[A\n",
      "\u001b[A\n",
      "  0%|          | 0/4 [00:00<?, ?it/s]\u001b[A"
     ]
    },
    {
     "name": "stdout",
     "output_type": "stream",
     "text": [
      "**NOTE**: Column for 'residuals' not created in model.data, but saved in model.resid only. This is because you have rows with NaNs in your data.\n",
      "\n",
      "**NOTE** Column for 'fits' not created in model.data, but saved in model.fits only. This is because you have rows with NaNs in your data.\n",
      "\n",
      "Formula: connection_20_zscore~gap_length_mean_20_shifted+bin_num_zscore+(1|subID)+(1|dyad)\n",
      "\n",
      "Family: gaussian\t Inference: parametric\n",
      "\n",
      "Number of observations: 77280\t Groups: {'dyad': 109.0, 'subID': 65.0}\n",
      "\n",
      "Log-likelihood: -1926.164 \t AIC: 3852.329\n",
      "\n",
      "Random effects:\n",
      "\n",
      "                 Name    Var    Std\n",
      "dyad      (Intercept)  0.503  0.709\n",
      "subID     (Intercept)  0.550  0.742\n",
      "Residual               0.259  0.509\n",
      "\n",
      "No random effect correlations specified\n",
      "\n",
      "Fixed effects:\n",
      "\n"
     ]
    },
    {
     "name": "stderr",
     "output_type": "stream",
     "text": [
      "\n",
      " 25%|██▌       | 1/4 [00:22<01:06, 22.07s/it]\u001b[A"
     ]
    },
    {
     "name": "stdout",
     "output_type": "stream",
     "text": [
      "**NOTE**: Column for 'residuals' not created in model.data, but saved in model.resid only. This is because you have rows with NaNs in your data.\n",
      "\n",
      "**NOTE** Column for 'fits' not created in model.data, but saved in model.fits only. This is because you have rows with NaNs in your data.\n",
      "\n",
      "Formula: connection_24_zscore~gap_length_mean_24_shifted+bin_num_zscore+(1|subID)+(1|dyad)\n",
      "\n",
      "Family: gaussian\t Inference: parametric\n",
      "\n",
      "Number of observations: 77280\t Groups: {'dyad': 131.0, 'subID': 66.0}\n",
      "\n",
      "Log-likelihood: -2884.215 \t AIC: 5768.430\n",
      "\n",
      "Random effects:\n",
      "\n",
      "                 Name    Var    Std\n",
      "dyad      (Intercept)  0.328  0.573\n",
      "subID     (Intercept)  0.391  0.625\n",
      "Residual               0.300  0.548\n",
      "\n",
      "No random effect correlations specified\n",
      "\n",
      "Fixed effects:\n",
      "\n"
     ]
    },
    {
     "name": "stderr",
     "output_type": "stream",
     "text": [
      "\n",
      " 50%|█████     | 2/4 [00:44<00:44, 22.10s/it]\u001b[A"
     ]
    },
    {
     "name": "stdout",
     "output_type": "stream",
     "text": [
      "**NOTE**: Column for 'residuals' not created in model.data, but saved in model.resid only. This is because you have rows with NaNs in your data.\n",
      "\n",
      "**NOTE** Column for 'fits' not created in model.data, but saved in model.fits only. This is because you have rows with NaNs in your data.\n",
      "\n",
      "Formula: connection_24_zscore~gap_length_mean_24_shifted+bin_num_zscore+(1|subID)+(1|dyad)\n",
      "\n",
      "Family: gaussian\t Inference: parametric\n",
      "\n",
      "Number of observations: 77280\t Groups: {'dyad': 128.0, 'subID': 66.0}\n",
      "\n",
      "Log-likelihood: -2633.949 \t AIC: 5267.897\n",
      "\n",
      "Random effects:\n",
      "\n",
      "                 Name    Var    Std\n",
      "dyad      (Intercept)  0.576  0.759\n",
      "subID     (Intercept)  0.465  0.682\n",
      "Residual               0.250  0.500\n",
      "\n",
      "No random effect correlations specified\n",
      "\n",
      "Fixed effects:\n",
      "\n"
     ]
    },
    {
     "name": "stderr",
     "output_type": "stream",
     "text": [
      "\n",
      " 75%|███████▌  | 3/4 [01:06<00:22, 22.20s/it]\u001b[A"
     ]
    },
    {
     "name": "stdout",
     "output_type": "stream",
     "text": [
      "**NOTE**: Column for 'residuals' not created in model.data, but saved in model.resid only. This is because you have rows with NaNs in your data.\n",
      "\n",
      "**NOTE** Column for 'fits' not created in model.data, but saved in model.fits only. This is because you have rows with NaNs in your data.\n",
      "\n",
      "Formula: connection_24_zscore~gap_length_mean_24_shifted+bin_num_zscore+(1|subID)+(1|dyad)\n",
      "\n",
      "Family: gaussian\t Inference: parametric\n",
      "\n",
      "Number of observations: 77280\t Groups: {'dyad': 124.0, 'subID': 66.0}\n",
      "\n",
      "Log-likelihood: -2575.347 \t AIC: 5150.695\n",
      "\n",
      "Random effects:\n",
      "\n",
      "                 Name    Var    Std\n",
      "dyad      (Intercept)  0.401  0.633\n",
      "subID     (Intercept)  0.533  0.730\n",
      "Residual               0.291  0.539\n",
      "\n",
      "No random effect correlations specified\n",
      "\n",
      "Fixed effects:\n",
      "\n"
     ]
    },
    {
     "name": "stderr",
     "output_type": "stream",
     "text": [
      "\n",
      "100%|██████████| 4/4 [01:28<00:00, 22.10s/it]\u001b[A\n",
      "\u001b[A\n",
      "  0%|          | 0/4 [00:00<?, ?it/s]\u001b[A"
     ]
    },
    {
     "name": "stdout",
     "output_type": "stream",
     "text": [
      "**NOTE**: Column for 'residuals' not created in model.data, but saved in model.resid only. This is because you have rows with NaNs in your data.\n",
      "\n",
      "**NOTE** Column for 'fits' not created in model.data, but saved in model.fits only. This is because you have rows with NaNs in your data.\n",
      "\n",
      "Formula: connection_24_zscore~gap_length_mean_24_shifted+bin_num_zscore+(1|subID)+(1|dyad)\n",
      "\n",
      "Family: gaussian\t Inference: parametric\n",
      "\n",
      "Number of observations: 77280\t Groups: {'dyad': 118.0, 'subID': 65.0}\n",
      "\n",
      "Log-likelihood: -2622.454 \t AIC: 5244.909\n",
      "\n",
      "Random effects:\n",
      "\n",
      "                 Name    Var    Std\n",
      "dyad      (Intercept)  0.330  0.574\n",
      "subID     (Intercept)  0.385  0.620\n",
      "Residual               0.319  0.564\n",
      "\n",
      "No random effect correlations specified\n",
      "\n",
      "Fixed effects:\n",
      "\n"
     ]
    },
    {
     "name": "stderr",
     "output_type": "stream",
     "text": [
      "\n",
      " 25%|██▌       | 1/4 [00:22<01:08, 22.87s/it]\u001b[A"
     ]
    },
    {
     "name": "stdout",
     "output_type": "stream",
     "text": [
      "**NOTE**: Column for 'residuals' not created in model.data, but saved in model.resid only. This is because you have rows with NaNs in your data.\n",
      "\n",
      "**NOTE** Column for 'fits' not created in model.data, but saved in model.fits only. This is because you have rows with NaNs in your data.\n",
      "\n",
      "Formula: connection_30_zscore~gap_length_mean_30_shifted+bin_num_zscore+(1|subID)+(1|dyad)\n",
      "\n",
      "Family: gaussian\t Inference: parametric\n",
      "\n",
      "Number of observations: 77280\t Groups: {'dyad': 154.0, 'subID': 65.0}\n",
      "\n",
      "Log-likelihood: -4266.026 \t AIC: 8532.051\n",
      "\n",
      "Random effects:\n",
      "\n",
      "                 Name    Var    Std\n",
      "dyad      (Intercept)  0.490  0.700\n",
      "subID     (Intercept)  0.444  0.666\n",
      "Residual               0.328  0.573\n",
      "\n",
      "No random effect correlations specified\n",
      "\n",
      "Fixed effects:\n",
      "\n"
     ]
    },
    {
     "name": "stderr",
     "output_type": "stream",
     "text": [
      "\n",
      " 50%|█████     | 2/4 [00:45<00:45, 22.94s/it]\u001b[A"
     ]
    },
    {
     "name": "stdout",
     "output_type": "stream",
     "text": [
      "**NOTE**: Column for 'residuals' not created in model.data, but saved in model.resid only. This is because you have rows with NaNs in your data.\n",
      "\n",
      "**NOTE** Column for 'fits' not created in model.data, but saved in model.fits only. This is because you have rows with NaNs in your data.\n",
      "\n",
      "Formula: connection_30_zscore~gap_length_mean_30_shifted+bin_num_zscore+(1|subID)+(1|dyad)\n",
      "\n",
      "Family: gaussian\t Inference: parametric\n",
      "\n",
      "Number of observations: 77280\t Groups: {'dyad': 170.0, 'subID': 66.0}\n",
      "\n",
      "Log-likelihood: -4248.774 \t AIC: 8497.548\n",
      "\n",
      "Random effects:\n",
      "\n",
      "                 Name    Var    Std\n",
      "dyad      (Intercept)  0.351  0.592\n",
      "subID     (Intercept)  0.411  0.641\n",
      "Residual               0.315  0.561\n",
      "\n",
      "No random effect correlations specified\n",
      "\n",
      "Fixed effects:\n",
      "\n"
     ]
    },
    {
     "name": "stderr",
     "output_type": "stream",
     "text": [
      "\n",
      " 75%|███████▌  | 3/4 [01:09<00:22, 22.97s/it]\u001b[A"
     ]
    },
    {
     "name": "stdout",
     "output_type": "stream",
     "text": [
      "**NOTE**: Column for 'residuals' not created in model.data, but saved in model.resid only. This is because you have rows with NaNs in your data.\n",
      "\n",
      "**NOTE** Column for 'fits' not created in model.data, but saved in model.fits only. This is because you have rows with NaNs in your data.\n",
      "\n",
      "Formula: connection_30_zscore~gap_length_mean_30_shifted+bin_num_zscore+(1|subID)+(1|dyad)\n",
      "\n",
      "Family: gaussian\t Inference: parametric\n",
      "\n",
      "Number of observations: 77280\t Groups: {'dyad': 162.0, 'subID': 66.0}\n",
      "\n",
      "Log-likelihood: -3821.733 \t AIC: 7643.466\n",
      "\n",
      "Random effects:\n",
      "\n",
      "                 Name    Var    Std\n",
      "dyad      (Intercept)  0.450  0.671\n",
      "subID     (Intercept)  0.410  0.640\n",
      "Residual               0.301  0.548\n",
      "\n",
      "No random effect correlations specified\n",
      "\n",
      "Fixed effects:\n",
      "\n"
     ]
    },
    {
     "name": "stderr",
     "output_type": "stream",
     "text": [
      "\n",
      "100%|██████████| 4/4 [01:32<00:00, 23.05s/it]\u001b[A\n",
      "\u001b[A\n",
      "  0%|          | 0/4 [00:00<?, ?it/s]\u001b[A"
     ]
    },
    {
     "name": "stdout",
     "output_type": "stream",
     "text": [
      "**NOTE**: Column for 'residuals' not created in model.data, but saved in model.resid only. This is because you have rows with NaNs in your data.\n",
      "\n",
      "**NOTE** Column for 'fits' not created in model.data, but saved in model.fits only. This is because you have rows with NaNs in your data.\n",
      "\n",
      "Formula: connection_30_zscore~gap_length_mean_30_shifted+bin_num_zscore+(1|subID)+(1|dyad)\n",
      "\n",
      "Family: gaussian\t Inference: parametric\n",
      "\n",
      "Number of observations: 77280\t Groups: {'dyad': 162.0, 'subID': 66.0}\n",
      "\n",
      "Log-likelihood: -3976.068 \t AIC: 7952.136\n",
      "\n",
      "Random effects:\n",
      "\n",
      "                 Name    Var    Std\n",
      "dyad      (Intercept)  0.449  0.670\n",
      "subID     (Intercept)  0.348  0.590\n",
      "Residual               0.294  0.542\n",
      "\n",
      "No random effect correlations specified\n",
      "\n",
      "Fixed effects:\n",
      "\n"
     ]
    },
    {
     "name": "stderr",
     "output_type": "stream",
     "text": [
      "\n",
      " 25%|██▌       | 1/4 [00:25<01:15, 25.02s/it]\u001b[A"
     ]
    },
    {
     "name": "stdout",
     "output_type": "stream",
     "text": [
      "**NOTE**: Column for 'residuals' not created in model.data, but saved in model.resid only. This is because you have rows with NaNs in your data.\n",
      "\n",
      "**NOTE** Column for 'fits' not created in model.data, but saved in model.fits only. This is because you have rows with NaNs in your data.\n",
      "\n",
      "Formula: connection_40_zscore~gap_length_mean_40_shifted+bin_num_zscore+(1|subID)+(1|dyad)\n",
      "\n",
      "Family: gaussian\t Inference: parametric\n",
      "\n",
      "Number of observations: 77280\t Groups: {'dyad': 212.0, 'subID': 66.0}\n",
      "\n",
      "Log-likelihood: -6914.326 \t AIC: 13828.652\n",
      "\n",
      "Random effects:\n",
      "\n",
      "                 Name    Var    Std\n",
      "dyad      (Intercept)  0.416  0.645\n",
      "subID     (Intercept)  0.365  0.604\n",
      "Residual               0.330  0.574\n",
      "\n",
      "No random effect correlations specified\n",
      "\n",
      "Fixed effects:\n",
      "\n"
     ]
    },
    {
     "name": "stderr",
     "output_type": "stream",
     "text": [
      "\n",
      " 50%|█████     | 2/4 [00:50<00:50, 25.15s/it]\u001b[A"
     ]
    },
    {
     "name": "stdout",
     "output_type": "stream",
     "text": [
      "**NOTE**: Column for 'residuals' not created in model.data, but saved in model.resid only. This is because you have rows with NaNs in your data.\n",
      "\n",
      "**NOTE** Column for 'fits' not created in model.data, but saved in model.fits only. This is because you have rows with NaNs in your data.\n",
      "\n",
      "Formula: connection_40_zscore~gap_length_mean_40_shifted+bin_num_zscore+(1|subID)+(1|dyad)\n",
      "\n",
      "Family: gaussian\t Inference: parametric\n",
      "\n",
      "Number of observations: 77280\t Groups: {'dyad': 225.0, 'subID': 66.0}\n",
      "\n",
      "Log-likelihood: -7644.851 \t AIC: 15289.701\n",
      "\n",
      "Random effects:\n",
      "\n",
      "                 Name    Var    Std\n",
      "dyad      (Intercept)  0.353  0.594\n",
      "subID     (Intercept)  0.293  0.541\n",
      "Residual               0.323  0.568\n",
      "\n",
      "No random effect correlations specified\n",
      "\n",
      "Fixed effects:\n",
      "\n"
     ]
    },
    {
     "name": "stderr",
     "output_type": "stream",
     "text": [
      "\n",
      " 75%|███████▌  | 3/4 [01:15<00:25, 25.06s/it]\u001b[A"
     ]
    },
    {
     "name": "stdout",
     "output_type": "stream",
     "text": [
      "**NOTE**: Column for 'residuals' not created in model.data, but saved in model.resid only. This is because you have rows with NaNs in your data.\n",
      "\n",
      "**NOTE** Column for 'fits' not created in model.data, but saved in model.fits only. This is because you have rows with NaNs in your data.\n",
      "\n",
      "Formula: connection_40_zscore~gap_length_mean_40_shifted+bin_num_zscore+(1|subID)+(1|dyad)\n",
      "\n",
      "Family: gaussian\t Inference: parametric\n",
      "\n",
      "Number of observations: 77280\t Groups: {'dyad': 211.0, 'subID': 66.0}\n",
      "\n",
      "Log-likelihood: -7559.536 \t AIC: 15119.072\n",
      "\n",
      "Random effects:\n",
      "\n",
      "                 Name    Var    Std\n",
      "dyad      (Intercept)  0.365  0.604\n",
      "subID     (Intercept)  0.362  0.602\n",
      "Residual               0.325  0.570\n",
      "\n",
      "No random effect correlations specified\n",
      "\n",
      "Fixed effects:\n",
      "\n"
     ]
    },
    {
     "name": "stderr",
     "output_type": "stream",
     "text": [
      "\n",
      "100%|██████████| 4/4 [01:40<00:00, 25.01s/it]\u001b[A\n",
      "\u001b[A\n",
      "  0%|          | 0/4 [00:00<?, ?it/s]\u001b[A"
     ]
    },
    {
     "name": "stdout",
     "output_type": "stream",
     "text": [
      "**NOTE**: Column for 'residuals' not created in model.data, but saved in model.resid only. This is because you have rows with NaNs in your data.\n",
      "\n",
      "**NOTE** Column for 'fits' not created in model.data, but saved in model.fits only. This is because you have rows with NaNs in your data.\n",
      "\n",
      "Formula: connection_40_zscore~gap_length_mean_40_shifted+bin_num_zscore+(1|subID)+(1|dyad)\n",
      "\n",
      "Family: gaussian\t Inference: parametric\n",
      "\n",
      "Number of observations: 77280\t Groups: {'dyad': 209.0, 'subID': 66.0}\n",
      "\n",
      "Log-likelihood: -7526.654 \t AIC: 15053.309\n",
      "\n",
      "Random effects:\n",
      "\n",
      "                 Name    Var    Std\n",
      "dyad      (Intercept)  0.396  0.629\n",
      "subID     (Intercept)  0.325  0.570\n",
      "Residual               0.324  0.569\n",
      "\n",
      "No random effect correlations specified\n",
      "\n",
      "Fixed effects:\n",
      "\n"
     ]
    },
    {
     "name": "stderr",
     "output_type": "stream",
     "text": [
      "\n",
      " 25%|██▌       | 1/4 [00:27<01:22, 27.48s/it]\u001b[A"
     ]
    },
    {
     "name": "stdout",
     "output_type": "stream",
     "text": [
      "Model failed to converge with max|grad| = 0.00284811 (tol = 0.002, component 1) \n",
      "\n",
      "**NOTE**: Column for 'residuals' not created in model.data, but saved in model.resid only. This is because you have rows with NaNs in your data.\n",
      "\n",
      "**NOTE** Column for 'fits' not created in model.data, but saved in model.fits only. This is because you have rows with NaNs in your data.\n",
      "\n",
      "Formula: connection_60_zscore~gap_length_mean_60_shifted+bin_num_zscore+(1|subID)+(1|dyad)\n",
      "\n",
      "Family: gaussian\t Inference: parametric\n",
      "\n",
      "Number of observations: 77280\t Groups: {'dyad': 319.0, 'subID': 66.0}\n",
      "\n",
      "Log-likelihood: -14392.601 \t AIC: 28785.202\n",
      "\n",
      "Random effects:\n",
      "\n",
      "                 Name    Var    Std\n",
      "dyad      (Intercept)  0.364  0.603\n",
      "subID     (Intercept)  0.312  0.558\n",
      "Residual               0.365  0.604\n",
      "\n",
      "No random effect correlations specified\n",
      "\n",
      "Fixed effects:\n",
      "\n"
     ]
    },
    {
     "name": "stderr",
     "output_type": "stream",
     "text": [
      "\n",
      " 50%|█████     | 2/4 [00:55<00:55, 27.64s/it]\u001b[A"
     ]
    },
    {
     "name": "stdout",
     "output_type": "stream",
     "text": [
      "**NOTE**: Column for 'residuals' not created in model.data, but saved in model.resid only. This is because you have rows with NaNs in your data.\n",
      "\n",
      "**NOTE** Column for 'fits' not created in model.data, but saved in model.fits only. This is because you have rows with NaNs in your data.\n",
      "\n",
      "Formula: connection_60_zscore~gap_length_mean_60_shifted+bin_num_zscore+(1|subID)+(1|dyad)\n",
      "\n",
      "Family: gaussian\t Inference: parametric\n",
      "\n",
      "Number of observations: 77280\t Groups: {'dyad': 322.0, 'subID': 66.0}\n",
      "\n",
      "Log-likelihood: -14941.356 \t AIC: 29882.711\n",
      "\n",
      "Random effects:\n",
      "\n",
      "                 Name    Var    Std\n",
      "dyad      (Intercept)  0.380  0.616\n",
      "subID     (Intercept)  0.281  0.530\n",
      "Residual               0.357  0.597\n",
      "\n",
      "No random effect correlations specified\n",
      "\n",
      "Fixed effects:\n",
      "\n"
     ]
    },
    {
     "name": "stderr",
     "output_type": "stream",
     "text": [
      "\n",
      " 75%|███████▌  | 3/4 [01:23<00:27, 27.87s/it]\u001b[A"
     ]
    },
    {
     "name": "stdout",
     "output_type": "stream",
     "text": [
      "**NOTE**: Column for 'residuals' not created in model.data, but saved in model.resid only. This is because you have rows with NaNs in your data.\n",
      "\n",
      "**NOTE** Column for 'fits' not created in model.data, but saved in model.fits only. This is because you have rows with NaNs in your data.\n",
      "\n",
      "Formula: connection_60_zscore~gap_length_mean_60_shifted+bin_num_zscore+(1|subID)+(1|dyad)\n",
      "\n",
      "Family: gaussian\t Inference: parametric\n",
      "\n",
      "Number of observations: 77280\t Groups: {'dyad': 321.0, 'subID': 66.0}\n",
      "\n",
      "Log-likelihood: -14805.995 \t AIC: 29611.991\n",
      "\n",
      "Random effects:\n",
      "\n",
      "                 Name    Var    Std\n",
      "dyad      (Intercept)  0.370  0.608\n",
      "subID     (Intercept)  0.273  0.522\n",
      "Residual               0.351  0.592\n",
      "\n",
      "No random effect correlations specified\n",
      "\n",
      "Fixed effects:\n",
      "\n"
     ]
    },
    {
     "name": "stderr",
     "output_type": "stream",
     "text": [
      "\n",
      "100%|██████████| 4/4 [01:52<00:00, 28.20s/it]\u001b[A\n",
      "\u001b[A\n",
      "  0%|          | 0/4 [00:00<?, ?it/s]\u001b[A"
     ]
    },
    {
     "name": "stdout",
     "output_type": "stream",
     "text": [
      "**NOTE**: Column for 'residuals' not created in model.data, but saved in model.resid only. This is because you have rows with NaNs in your data.\n",
      "\n",
      "**NOTE** Column for 'fits' not created in model.data, but saved in model.fits only. This is because you have rows with NaNs in your data.\n",
      "\n",
      "Formula: connection_60_zscore~gap_length_mean_60_shifted+bin_num_zscore+(1|subID)+(1|dyad)\n",
      "\n",
      "Family: gaussian\t Inference: parametric\n",
      "\n",
      "Number of observations: 77280\t Groups: {'dyad': 320.0, 'subID': 66.0}\n",
      "\n",
      "Log-likelihood: -14676.713 \t AIC: 29353.427\n",
      "\n",
      "Random effects:\n",
      "\n",
      "                 Name    Var    Std\n",
      "dyad      (Intercept)  0.380  0.617\n",
      "subID     (Intercept)  0.302  0.550\n",
      "Residual               0.347  0.589\n",
      "\n",
      "No random effect correlations specified\n",
      "\n",
      "Fixed effects:\n",
      "\n"
     ]
    },
    {
     "name": "stderr",
     "output_type": "stream",
     "text": [
      "\n",
      " 25%|██▌       | 1/4 [00:40<02:01, 40.63s/it]\u001b[A"
     ]
    },
    {
     "name": "stdout",
     "output_type": "stream",
     "text": [
      "**NOTE**: Column for 'residuals' not created in model.data, but saved in model.resid only. This is because you have rows with NaNs in your data.\n",
      "\n",
      "**NOTE** Column for 'fits' not created in model.data, but saved in model.fits only. This is because you have rows with NaNs in your data.\n",
      "\n",
      "Formula: connection_120_zscore~gap_length_mean_120_shifted+bin_num_zscore+(1|subID)+(1|dyad)\n",
      "\n",
      "Family: gaussian\t Inference: parametric\n",
      "\n",
      "Number of observations: 77280\t Groups: {'dyad': 322.0, 'subID': 66.0}\n",
      "\n",
      "Log-likelihood: -47042.040 \t AIC: 94084.080\n",
      "\n",
      "Random effects:\n",
      "\n",
      "                 Name    Var    Std\n",
      "dyad      (Intercept)  0.314  0.560\n",
      "subID     (Intercept)  0.286  0.535\n",
      "Residual               0.397  0.630\n",
      "\n",
      "No random effect correlations specified\n",
      "\n",
      "Fixed effects:\n",
      "\n"
     ]
    },
    {
     "name": "stderr",
     "output_type": "stream",
     "text": [
      "From cffi callback <function _processevents at 0x145856840>:\n",
      "Traceback (most recent call last):\n",
      "  File \"/Users/emma/anaconda3/lib/python3.6/site-packages/rpy2/rinterface_lib/callbacks.py\", line 262, in _processevents\n",
      "    @ffi_proxy.callback(ffi_proxy._processevents_def,\n",
      "KeyboardInterrupt\n",
      "\n",
      " 50%|█████     | 2/4 [01:21<01:21, 40.70s/it]\u001b[A"
     ]
    },
    {
     "name": "stdout",
     "output_type": "stream",
     "text": [
      "**NOTE**: Column for 'residuals' not created in model.data, but saved in model.resid only. This is because you have rows with NaNs in your data.\n",
      "\n",
      "**NOTE** Column for 'fits' not created in model.data, but saved in model.fits only. This is because you have rows with NaNs in your data.\n",
      "\n",
      "Formula: connection_120_zscore~gap_length_mean_120_shifted+bin_num_zscore+(1|subID)+(1|dyad)\n",
      "\n",
      "Family: gaussian\t Inference: parametric\n",
      "\n",
      "Number of observations: 77280\t Groups: {'dyad': 322.0, 'subID': 66.0}\n",
      "\n",
      "Log-likelihood: -46906.156 \t AIC: 93812.311\n",
      "\n",
      "Random effects:\n",
      "\n",
      "                 Name    Var    Std\n",
      "dyad      (Intercept)  0.313  0.560\n",
      "subID     (Intercept)  0.284  0.533\n",
      "Residual               0.395  0.628\n",
      "\n",
      "No random effect correlations specified\n",
      "\n",
      "Fixed effects:\n",
      "\n"
     ]
    },
    {
     "name": "stderr",
     "output_type": "stream",
     "text": [
      "From cffi callback <function _processevents at 0x145856840>:\n",
      "Traceback (most recent call last):\n",
      "  File \"/Users/emma/anaconda3/lib/python3.6/site-packages/rpy2/rinterface_lib/callbacks.py\", line 262, in _processevents\n",
      "    @ffi_proxy.callback(ffi_proxy._processevents_def,\n",
      "KeyboardInterrupt\n",
      "\n",
      " 75%|███████▌  | 3/4 [02:03<00:40, 40.95s/it]\u001b[A"
     ]
    },
    {
     "name": "stdout",
     "output_type": "stream",
     "text": [
      "**NOTE**: Column for 'residuals' not created in model.data, but saved in model.resid only. This is because you have rows with NaNs in your data.\n",
      "\n",
      "**NOTE** Column for 'fits' not created in model.data, but saved in model.fits only. This is because you have rows with NaNs in your data.\n",
      "\n",
      "Formula: connection_120_zscore~gap_length_mean_120_shifted+bin_num_zscore+(1|subID)+(1|dyad)\n",
      "\n",
      "Family: gaussian\t Inference: parametric\n",
      "\n",
      "Number of observations: 77280\t Groups: {'dyad': 322.0, 'subID': 66.0}\n",
      "\n",
      "Log-likelihood: -46864.784 \t AIC: 93729.569\n",
      "\n",
      "Random effects:\n",
      "\n",
      "                 Name    Var    Std\n",
      "dyad      (Intercept)  0.317  0.563\n",
      "subID     (Intercept)  0.285  0.534\n",
      "Residual               0.394  0.628\n",
      "\n",
      "No random effect correlations specified\n",
      "\n",
      "Fixed effects:\n",
      "\n"
     ]
    },
    {
     "ename": "KeyboardInterrupt",
     "evalue": "",
     "output_type": "error",
     "traceback": [
      "\u001b[0;31m---------------------------------------------------------------------------\u001b[0m",
      "\u001b[0;31mKeyboardInterrupt\u001b[0m                         Traceback (most recent call last)",
      "\u001b[0;32m<ipython-input-25-a29106e9a6b2>\u001b[0m in \u001b[0;36m<module>\u001b[0;34m\u001b[0m\n\u001b[1;32m     22\u001b[0m         \u001b[0mdata\u001b[0m\u001b[0;34m[\u001b[0m\u001b[0;34mf'gap_length_mean_{num_bins}_shifted'\u001b[0m\u001b[0;34m]\u001b[0m \u001b[0;34m=\u001b[0m \u001b[0mdata\u001b[0m\u001b[0;34m[\u001b[0m\u001b[0;34mf'gap_length_mean_{num_bins}_zscore'\u001b[0m\u001b[0;34m]\u001b[0m\u001b[0;34m.\u001b[0m\u001b[0mgroupby\u001b[0m\u001b[0;34m(\u001b[0m\u001b[0mdata\u001b[0m\u001b[0;34m[\u001b[0m\u001b[0;34m'dyad'\u001b[0m\u001b[0;34m]\u001b[0m\u001b[0;34m)\u001b[0m\u001b[0;34m.\u001b[0m\u001b[0mtransform\u001b[0m\u001b[0;34m(\u001b[0m\u001b[0mcircle_shift\u001b[0m\u001b[0;34m)\u001b[0m\u001b[0;34m\u001b[0m\u001b[0;34m\u001b[0m\u001b[0m\n\u001b[1;32m     23\u001b[0m         \u001b[0mmodel\u001b[0m \u001b[0;34m=\u001b[0m \u001b[0mLmer\u001b[0m\u001b[0;34m(\u001b[0m\u001b[0;34mf\"connection_{num_bins}_zscore ~ gap_length_mean_{num_bins}_shifted + bin_num_zscore + (1|subID) + (1|dyad)\"\u001b[0m\u001b[0;34m,\u001b[0m \u001b[0mdata\u001b[0m\u001b[0;34m=\u001b[0m\u001b[0mdata\u001b[0m\u001b[0;34m)\u001b[0m\u001b[0;34m\u001b[0m\u001b[0;34m\u001b[0m\u001b[0m\n\u001b[0;32m---> 24\u001b[0;31m         \u001b[0mmodel\u001b[0m\u001b[0;34m.\u001b[0m\u001b[0mfit\u001b[0m\u001b[0;34m(\u001b[0m\u001b[0;34m)\u001b[0m\u001b[0;34m\u001b[0m\u001b[0;34m\u001b[0m\u001b[0m\n\u001b[0m\u001b[1;32m     25\u001b[0m \u001b[0;34m\u001b[0m\u001b[0m\n\u001b[1;32m     26\u001b[0m         \u001b[0mshifted_betas\u001b[0m\u001b[0;34m.\u001b[0m\u001b[0mappend\u001b[0m\u001b[0;34m(\u001b[0m\u001b[0mmodel\u001b[0m\u001b[0;34m.\u001b[0m\u001b[0mcoefs\u001b[0m\u001b[0;34m[\u001b[0m\u001b[0;34m'Estimate'\u001b[0m\u001b[0;34m]\u001b[0m\u001b[0;34m[\u001b[0m\u001b[0;36m1\u001b[0m\u001b[0;34m]\u001b[0m\u001b[0;34m)\u001b[0m\u001b[0;34m\u001b[0m\u001b[0;34m\u001b[0m\u001b[0m\n",
      "\u001b[0;32m~/anaconda3/lib/python3.6/site-packages/pymer4/models/Lmer.py\u001b[0m in \u001b[0;36mfit\u001b[0;34m(self, conf_int, n_boot, factors, permute, ordered, verbose, REML, rank, rank_group, rank_exclude_cols, no_warnings, control, old_optimizer, **kwargs)\u001b[0m\n\u001b[1;32m    409\u001b[0m                 \u001b[0mself\u001b[0m\u001b[0;34m.\u001b[0m\u001b[0msig_type\u001b[0m \u001b[0;34m=\u001b[0m \u001b[0;34m\"parametric\"\u001b[0m\u001b[0;34m\u001b[0m\u001b[0;34m\u001b[0m\u001b[0m\n\u001b[1;32m    410\u001b[0m \u001b[0;34m\u001b[0m\u001b[0m\n\u001b[0;32m--> 411\u001b[0;31m         \u001b[0mdata\u001b[0m \u001b[0;34m=\u001b[0m \u001b[0mpandas2R\u001b[0m\u001b[0;34m(\u001b[0m\u001b[0mdat\u001b[0m\u001b[0;34m)\u001b[0m\u001b[0;34m\u001b[0m\u001b[0;34m\u001b[0m\u001b[0m\n\u001b[0m\u001b[1;32m    412\u001b[0m \u001b[0;34m\u001b[0m\u001b[0m\n\u001b[1;32m    413\u001b[0m         \u001b[0;32mif\u001b[0m \u001b[0mself\u001b[0m\u001b[0;34m.\u001b[0m\u001b[0mfamily\u001b[0m \u001b[0;34m==\u001b[0m \u001b[0;34m\"gaussian\"\u001b[0m\u001b[0;34m:\u001b[0m\u001b[0;34m\u001b[0m\u001b[0;34m\u001b[0m\u001b[0m\n",
      "\u001b[0;32m~/anaconda3/lib/python3.6/site-packages/pymer4/utils.py\u001b[0m in \u001b[0;36mpandas2R\u001b[0;34m(df)\u001b[0m\n\u001b[1;32m    571\u001b[0m     \u001b[0;34m\"\"\"Local conversion of pandas dataframe to R dataframe as recommended by rpy2\"\"\"\u001b[0m\u001b[0;34m\u001b[0m\u001b[0;34m\u001b[0m\u001b[0m\n\u001b[1;32m    572\u001b[0m     \u001b[0;32mwith\u001b[0m \u001b[0mlocalconverter\u001b[0m\u001b[0;34m(\u001b[0m\u001b[0mrobjects\u001b[0m\u001b[0;34m.\u001b[0m\u001b[0mdefault_converter\u001b[0m \u001b[0;34m+\u001b[0m \u001b[0mpandas2ri\u001b[0m\u001b[0;34m.\u001b[0m\u001b[0mconverter\u001b[0m\u001b[0;34m)\u001b[0m\u001b[0;34m:\u001b[0m\u001b[0;34m\u001b[0m\u001b[0;34m\u001b[0m\u001b[0m\n\u001b[0;32m--> 573\u001b[0;31m         \u001b[0mdata\u001b[0m \u001b[0;34m=\u001b[0m \u001b[0mrobjects\u001b[0m\u001b[0;34m.\u001b[0m\u001b[0mconversion\u001b[0m\u001b[0;34m.\u001b[0m\u001b[0mpy2rpy\u001b[0m\u001b[0;34m(\u001b[0m\u001b[0mdf\u001b[0m\u001b[0;34m)\u001b[0m\u001b[0;34m\u001b[0m\u001b[0;34m\u001b[0m\u001b[0m\n\u001b[0m\u001b[1;32m    574\u001b[0m     \u001b[0;32mreturn\u001b[0m \u001b[0mdata\u001b[0m\u001b[0;34m\u001b[0m\u001b[0;34m\u001b[0m\u001b[0m\n",
      "\u001b[0;32m~/anaconda3/lib/python3.6/functools.py\u001b[0m in \u001b[0;36mwrapper\u001b[0;34m(*args, **kw)\u001b[0m\n\u001b[1;32m    805\u001b[0m                             '1 positional argument')\n\u001b[1;32m    806\u001b[0m \u001b[0;34m\u001b[0m\u001b[0m\n\u001b[0;32m--> 807\u001b[0;31m         \u001b[0;32mreturn\u001b[0m \u001b[0mdispatch\u001b[0m\u001b[0;34m(\u001b[0m\u001b[0margs\u001b[0m\u001b[0;34m[\u001b[0m\u001b[0;36m0\u001b[0m\u001b[0;34m]\u001b[0m\u001b[0;34m.\u001b[0m\u001b[0m__class__\u001b[0m\u001b[0;34m)\u001b[0m\u001b[0;34m(\u001b[0m\u001b[0;34m*\u001b[0m\u001b[0margs\u001b[0m\u001b[0;34m,\u001b[0m \u001b[0;34m**\u001b[0m\u001b[0mkw\u001b[0m\u001b[0;34m)\u001b[0m\u001b[0;34m\u001b[0m\u001b[0;34m\u001b[0m\u001b[0m\n\u001b[0m\u001b[1;32m    808\u001b[0m \u001b[0;34m\u001b[0m\u001b[0m\n\u001b[1;32m    809\u001b[0m     \u001b[0mfuncname\u001b[0m \u001b[0;34m=\u001b[0m \u001b[0mgetattr\u001b[0m\u001b[0;34m(\u001b[0m\u001b[0mfunc\u001b[0m\u001b[0;34m,\u001b[0m \u001b[0;34m'__name__'\u001b[0m\u001b[0;34m,\u001b[0m \u001b[0;34m'singledispatch function'\u001b[0m\u001b[0;34m)\u001b[0m\u001b[0;34m\u001b[0m\u001b[0;34m\u001b[0m\u001b[0m\n",
      "\u001b[0;32m~/anaconda3/lib/python3.6/site-packages/rpy2/robjects/pandas2ri.py\u001b[0m in \u001b[0;36mpy2rpy_pandasdataframe\u001b[0;34m(obj)\u001b[0m\n\u001b[1;32m     53\u001b[0m     \u001b[0;32mfor\u001b[0m \u001b[0mname\u001b[0m\u001b[0;34m,\u001b[0m \u001b[0mvalues\u001b[0m \u001b[0;32min\u001b[0m \u001b[0mobj\u001b[0m\u001b[0;34m.\u001b[0m\u001b[0miteritems\u001b[0m\u001b[0;34m(\u001b[0m\u001b[0;34m)\u001b[0m\u001b[0;34m:\u001b[0m\u001b[0;34m\u001b[0m\u001b[0;34m\u001b[0m\u001b[0m\n\u001b[1;32m     54\u001b[0m         \u001b[0;32mtry\u001b[0m\u001b[0;34m:\u001b[0m\u001b[0;34m\u001b[0m\u001b[0;34m\u001b[0m\u001b[0m\n\u001b[0;32m---> 55\u001b[0;31m             \u001b[0mod\u001b[0m\u001b[0;34m[\u001b[0m\u001b[0mname\u001b[0m\u001b[0;34m]\u001b[0m \u001b[0;34m=\u001b[0m \u001b[0mconversion\u001b[0m\u001b[0;34m.\u001b[0m\u001b[0mpy2rpy\u001b[0m\u001b[0;34m(\u001b[0m\u001b[0mvalues\u001b[0m\u001b[0;34m)\u001b[0m\u001b[0;34m\u001b[0m\u001b[0;34m\u001b[0m\u001b[0m\n\u001b[0m\u001b[1;32m     56\u001b[0m         \u001b[0;32mexcept\u001b[0m \u001b[0mException\u001b[0m \u001b[0;32mas\u001b[0m \u001b[0me\u001b[0m\u001b[0;34m:\u001b[0m\u001b[0;34m\u001b[0m\u001b[0;34m\u001b[0m\u001b[0m\n\u001b[1;32m     57\u001b[0m             warnings.warn('Error while trying to convert '\n",
      "\u001b[0;32m~/anaconda3/lib/python3.6/functools.py\u001b[0m in \u001b[0;36mwrapper\u001b[0;34m(*args, **kw)\u001b[0m\n\u001b[1;32m    805\u001b[0m                             '1 positional argument')\n\u001b[1;32m    806\u001b[0m \u001b[0;34m\u001b[0m\u001b[0m\n\u001b[0;32m--> 807\u001b[0;31m         \u001b[0;32mreturn\u001b[0m \u001b[0mdispatch\u001b[0m\u001b[0;34m(\u001b[0m\u001b[0margs\u001b[0m\u001b[0;34m[\u001b[0m\u001b[0;36m0\u001b[0m\u001b[0;34m]\u001b[0m\u001b[0;34m.\u001b[0m\u001b[0m__class__\u001b[0m\u001b[0;34m)\u001b[0m\u001b[0;34m(\u001b[0m\u001b[0;34m*\u001b[0m\u001b[0margs\u001b[0m\u001b[0;34m,\u001b[0m \u001b[0;34m**\u001b[0m\u001b[0mkw\u001b[0m\u001b[0;34m)\u001b[0m\u001b[0;34m\u001b[0m\u001b[0;34m\u001b[0m\u001b[0m\n\u001b[0m\u001b[1;32m    808\u001b[0m \u001b[0;34m\u001b[0m\u001b[0m\n\u001b[1;32m    809\u001b[0m     \u001b[0mfuncname\u001b[0m \u001b[0;34m=\u001b[0m \u001b[0mgetattr\u001b[0m\u001b[0;34m(\u001b[0m\u001b[0mfunc\u001b[0m\u001b[0;34m,\u001b[0m \u001b[0;34m'__name__'\u001b[0m\u001b[0;34m,\u001b[0m \u001b[0;34m'singledispatch function'\u001b[0m\u001b[0;34m)\u001b[0m\u001b[0;34m\u001b[0m\u001b[0;34m\u001b[0m\u001b[0m\n",
      "\u001b[0;32m~/anaconda3/lib/python3.6/site-packages/rpy2/robjects/pandas2ri.py\u001b[0m in \u001b[0;36mpy2rpy_pandasseries\u001b[0;34m(obj)\u001b[0m\n\u001b[1;32m    163\u001b[0m     \u001b[0;32mif\u001b[0m \u001b[0mobj\u001b[0m\u001b[0;34m.\u001b[0m\u001b[0mndim\u001b[0m \u001b[0;34m==\u001b[0m \u001b[0;36m1\u001b[0m\u001b[0;34m:\u001b[0m\u001b[0;34m\u001b[0m\u001b[0;34m\u001b[0m\u001b[0m\n\u001b[1;32m    164\u001b[0m         res.do_slot_assign('names',\n\u001b[0;32m--> 165\u001b[0;31m                            StrVector(tuple(str(x) for x in obj.index)))\n\u001b[0m\u001b[1;32m    166\u001b[0m     \u001b[0;32melse\u001b[0m\u001b[0;34m:\u001b[0m\u001b[0;34m\u001b[0m\u001b[0;34m\u001b[0m\u001b[0m\n\u001b[1;32m    167\u001b[0m         res.do_slot_assign('dimnames',\n",
      "\u001b[0;32m~/anaconda3/lib/python3.6/site-packages/rpy2/robjects/pandas2ri.py\u001b[0m in \u001b[0;36m<genexpr>\u001b[0;34m(.0)\u001b[0m\n\u001b[1;32m    163\u001b[0m     \u001b[0;32mif\u001b[0m \u001b[0mobj\u001b[0m\u001b[0;34m.\u001b[0m\u001b[0mndim\u001b[0m \u001b[0;34m==\u001b[0m \u001b[0;36m1\u001b[0m\u001b[0;34m:\u001b[0m\u001b[0;34m\u001b[0m\u001b[0;34m\u001b[0m\u001b[0m\n\u001b[1;32m    164\u001b[0m         res.do_slot_assign('names',\n\u001b[0;32m--> 165\u001b[0;31m                            StrVector(tuple(str(x) for x in obj.index)))\n\u001b[0m\u001b[1;32m    166\u001b[0m     \u001b[0;32melse\u001b[0m\u001b[0;34m:\u001b[0m\u001b[0;34m\u001b[0m\u001b[0;34m\u001b[0m\u001b[0m\n\u001b[1;32m    167\u001b[0m         res.do_slot_assign('dimnames',\n",
      "\u001b[0;31mKeyboardInterrupt\u001b[0m: "
     ]
    }
   ],
   "source": [
    "# might make a new dataframe that doesn't have any NaNs\n",
    "# not sure if zscoring bin_num is weird this way\n",
    "\n",
    "df = pd.DataFrame()\n",
    "df = df.fillna(0)\n",
    "counter = 0\n",
    "\n",
    "num_bins_list = [2, 3, 4, 5, 6, 10, 12,\n",
    "                15, 20, 24, 30, 40, 60, 120]\n",
    "\n",
    "for num_bins in num_bins_list:\n",
    "\n",
    "    variables = [f'connection_{num_bins}', f'gap_length_mean_{num_bins}', 'bin_num']\n",
    "    for variable in variables:\n",
    "        data[f'{variable}_zscore'] = zscore(data[variable])\n",
    "\n",
    "    shifted_betas = []\n",
    "    shifted_p_vals = []\n",
    "\n",
    "    for _ in tqdm(range(4)): #100, but start with 10 and make sure plotting works\n",
    "\n",
    "        data[f'gap_length_mean_{num_bins}_shifted'] = data[f'gap_length_mean_{num_bins}_zscore'].groupby(data['dyad']).transform(circle_shift)\n",
    "        model = Lmer(f\"connection_{num_bins}_zscore ~ gap_length_mean_{num_bins}_shifted + bin_num_zscore + (1|subID) + (1|dyad)\", data=data)\n",
    "        model.fit()\n",
    "\n",
    "        shifted_betas.append(model.coefs['Estimate'][1])\n",
    "        shifted_p_vals.append(model.coefs['P-val'][1])\n",
    "        \n",
    "    for i in range(len(shifted_betas)):\n",
    "        df.at[counter, 'bin_size'] = num_bins\n",
    "        df.at[counter, 'betas'] = shifted_betas[i]\n",
    "        df.at[counter, 'p-val'] = shifted_p_vals[i]\n",
    "        \n",
    "        counter += 1\n",
    "        \n",
    "df.to_csv(os.path.join(base_dir, 'Analyses', 'circle_shifted_binned_connection_and_gaps_strangers.csv'), encoding='utf-8', index=False)\n",
    "    "
   ]
  },
  {
   "cell_type": "markdown",
   "metadata": {},
   "source": [
    "Practice making a new dataframe for each num_bins that has no NaNs. This will ensure the zscoring is done correctly on bin_num. Can also confirm that the output for bin size 20 is the same."
   ]
  },
  {
   "cell_type": "code",
   "execution_count": 39,
   "metadata": {},
   "outputs": [],
   "source": [
    "num_bins = 20\n",
    "\n",
    "columns = [f'connection_{num_bins}', f'gap_length_mean_{num_bins}', 'bin_num', 'subID', 'dyad']\n",
    "data_subset = data[columns]\n",
    "data_subset_no_nans = data_subset.dropna().reset_index(drop=True)\n",
    "    "
   ]
  },
  {
   "cell_type": "code",
   "execution_count": 40,
   "metadata": {},
   "outputs": [
    {
     "data": {
      "text/html": [
       "<div>\n",
       "<style scoped>\n",
       "    .dataframe tbody tr th:only-of-type {\n",
       "        vertical-align: middle;\n",
       "    }\n",
       "\n",
       "    .dataframe tbody tr th {\n",
       "        vertical-align: top;\n",
       "    }\n",
       "\n",
       "    .dataframe thead th {\n",
       "        text-align: right;\n",
       "    }\n",
       "</style>\n",
       "<table border=\"1\" class=\"dataframe\">\n",
       "  <thead>\n",
       "    <tr style=\"text-align: right;\">\n",
       "      <th></th>\n",
       "      <th>connection_20</th>\n",
       "      <th>gap_length_mean_20</th>\n",
       "      <th>bin_num</th>\n",
       "      <th>subID</th>\n",
       "      <th>dyad</th>\n",
       "    </tr>\n",
       "  </thead>\n",
       "  <tbody>\n",
       "    <tr>\n",
       "      <th>0</th>\n",
       "      <td>4.643333</td>\n",
       "      <td>439.307692</td>\n",
       "      <td>0.0</td>\n",
       "      <td>100</td>\n",
       "      <td>100_101</td>\n",
       "    </tr>\n",
       "    <tr>\n",
       "      <th>1</th>\n",
       "      <td>52.836667</td>\n",
       "      <td>439.307692</td>\n",
       "      <td>0.0</td>\n",
       "      <td>101</td>\n",
       "      <td>100_101</td>\n",
       "    </tr>\n",
       "    <tr>\n",
       "      <th>2</th>\n",
       "      <td>26.403333</td>\n",
       "      <td>325.769231</td>\n",
       "      <td>1.0</td>\n",
       "      <td>100</td>\n",
       "      <td>100_101</td>\n",
       "    </tr>\n",
       "    <tr>\n",
       "      <th>3</th>\n",
       "      <td>77.546667</td>\n",
       "      <td>325.769231</td>\n",
       "      <td>1.0</td>\n",
       "      <td>101</td>\n",
       "      <td>100_101</td>\n",
       "    </tr>\n",
       "    <tr>\n",
       "      <th>4</th>\n",
       "      <td>18.736667</td>\n",
       "      <td>422.750000</td>\n",
       "      <td>2.0</td>\n",
       "      <td>100</td>\n",
       "      <td>100_101</td>\n",
       "    </tr>\n",
       "    <tr>\n",
       "      <th>...</th>\n",
       "      <td>...</td>\n",
       "      <td>...</td>\n",
       "      <td>...</td>\n",
       "      <td>...</td>\n",
       "      <td>...</td>\n",
       "    </tr>\n",
       "    <tr>\n",
       "      <th>77275</th>\n",
       "      <td>NaN</td>\n",
       "      <td>NaN</td>\n",
       "      <td>117.0</td>\n",
       "      <td>6</td>\n",
       "      <td>9_6</td>\n",
       "    </tr>\n",
       "    <tr>\n",
       "      <th>77276</th>\n",
       "      <td>NaN</td>\n",
       "      <td>NaN</td>\n",
       "      <td>118.0</td>\n",
       "      <td>9</td>\n",
       "      <td>9_6</td>\n",
       "    </tr>\n",
       "    <tr>\n",
       "      <th>77277</th>\n",
       "      <td>NaN</td>\n",
       "      <td>NaN</td>\n",
       "      <td>118.0</td>\n",
       "      <td>6</td>\n",
       "      <td>9_6</td>\n",
       "    </tr>\n",
       "    <tr>\n",
       "      <th>77278</th>\n",
       "      <td>NaN</td>\n",
       "      <td>NaN</td>\n",
       "      <td>119.0</td>\n",
       "      <td>9</td>\n",
       "      <td>9_6</td>\n",
       "    </tr>\n",
       "    <tr>\n",
       "      <th>77279</th>\n",
       "      <td>NaN</td>\n",
       "      <td>NaN</td>\n",
       "      <td>119.0</td>\n",
       "      <td>6</td>\n",
       "      <td>9_6</td>\n",
       "    </tr>\n",
       "  </tbody>\n",
       "</table>\n",
       "<p>77280 rows × 5 columns</p>\n",
       "</div>"
      ],
      "text/plain": [
       "       connection_20  gap_length_mean_20  bin_num  subID     dyad\n",
       "0           4.643333          439.307692      0.0    100  100_101\n",
       "1          52.836667          439.307692      0.0    101  100_101\n",
       "2          26.403333          325.769231      1.0    100  100_101\n",
       "3          77.546667          325.769231      1.0    101  100_101\n",
       "4          18.736667          422.750000      2.0    100  100_101\n",
       "...              ...                 ...      ...    ...      ...\n",
       "77275            NaN                 NaN    117.0      6      9_6\n",
       "77276            NaN                 NaN    118.0      9      9_6\n",
       "77277            NaN                 NaN    118.0      6      9_6\n",
       "77278            NaN                 NaN    119.0      9      9_6\n",
       "77279            NaN                 NaN    119.0      6      9_6\n",
       "\n",
       "[77280 rows x 5 columns]"
      ]
     },
     "execution_count": 40,
     "metadata": {},
     "output_type": "execute_result"
    }
   ],
   "source": [
    "data_subset"
   ]
  },
  {
   "cell_type": "code",
   "execution_count": 41,
   "metadata": {
    "scrolled": true
   },
   "outputs": [
    {
     "data": {
      "text/html": [
       "<div>\n",
       "<style scoped>\n",
       "    .dataframe tbody tr th:only-of-type {\n",
       "        vertical-align: middle;\n",
       "    }\n",
       "\n",
       "    .dataframe tbody tr th {\n",
       "        vertical-align: top;\n",
       "    }\n",
       "\n",
       "    .dataframe thead th {\n",
       "        text-align: right;\n",
       "    }\n",
       "</style>\n",
       "<table border=\"1\" class=\"dataframe\">\n",
       "  <thead>\n",
       "    <tr style=\"text-align: right;\">\n",
       "      <th></th>\n",
       "      <th>connection_20</th>\n",
       "      <th>gap_length_mean_20</th>\n",
       "      <th>bin_num</th>\n",
       "      <th>subID</th>\n",
       "      <th>dyad</th>\n",
       "    </tr>\n",
       "  </thead>\n",
       "  <tbody>\n",
       "    <tr>\n",
       "      <th>0</th>\n",
       "      <td>4.643333</td>\n",
       "      <td>439.307692</td>\n",
       "      <td>0.0</td>\n",
       "      <td>100</td>\n",
       "      <td>100_101</td>\n",
       "    </tr>\n",
       "    <tr>\n",
       "      <th>1</th>\n",
       "      <td>52.836667</td>\n",
       "      <td>439.307692</td>\n",
       "      <td>0.0</td>\n",
       "      <td>101</td>\n",
       "      <td>100_101</td>\n",
       "    </tr>\n",
       "    <tr>\n",
       "      <th>2</th>\n",
       "      <td>26.403333</td>\n",
       "      <td>325.769231</td>\n",
       "      <td>1.0</td>\n",
       "      <td>100</td>\n",
       "      <td>100_101</td>\n",
       "    </tr>\n",
       "    <tr>\n",
       "      <th>3</th>\n",
       "      <td>77.546667</td>\n",
       "      <td>325.769231</td>\n",
       "      <td>1.0</td>\n",
       "      <td>101</td>\n",
       "      <td>100_101</td>\n",
       "    </tr>\n",
       "    <tr>\n",
       "      <th>4</th>\n",
       "      <td>18.736667</td>\n",
       "      <td>422.750000</td>\n",
       "      <td>2.0</td>\n",
       "      <td>100</td>\n",
       "      <td>100_101</td>\n",
       "    </tr>\n",
       "    <tr>\n",
       "      <th>...</th>\n",
       "      <td>...</td>\n",
       "      <td>...</td>\n",
       "      <td>...</td>\n",
       "      <td>...</td>\n",
       "      <td>...</td>\n",
       "    </tr>\n",
       "    <tr>\n",
       "      <th>12541</th>\n",
       "      <td>64.000000</td>\n",
       "      <td>329.800000</td>\n",
       "      <td>17.0</td>\n",
       "      <td>6</td>\n",
       "      <td>9_6</td>\n",
       "    </tr>\n",
       "    <tr>\n",
       "      <th>12542</th>\n",
       "      <td>19.886667</td>\n",
       "      <td>473.333333</td>\n",
       "      <td>18.0</td>\n",
       "      <td>9</td>\n",
       "      <td>9_6</td>\n",
       "    </tr>\n",
       "    <tr>\n",
       "      <th>12543</th>\n",
       "      <td>64.000000</td>\n",
       "      <td>473.333333</td>\n",
       "      <td>18.0</td>\n",
       "      <td>6</td>\n",
       "      <td>9_6</td>\n",
       "    </tr>\n",
       "    <tr>\n",
       "      <th>12544</th>\n",
       "      <td>19.000000</td>\n",
       "      <td>-182.000000</td>\n",
       "      <td>19.0</td>\n",
       "      <td>9</td>\n",
       "      <td>9_6</td>\n",
       "    </tr>\n",
       "    <tr>\n",
       "      <th>12545</th>\n",
       "      <td>64.000000</td>\n",
       "      <td>-182.000000</td>\n",
       "      <td>19.0</td>\n",
       "      <td>6</td>\n",
       "      <td>9_6</td>\n",
       "    </tr>\n",
       "  </tbody>\n",
       "</table>\n",
       "<p>12546 rows × 5 columns</p>\n",
       "</div>"
      ],
      "text/plain": [
       "       connection_20  gap_length_mean_20  bin_num  subID     dyad\n",
       "0           4.643333          439.307692      0.0    100  100_101\n",
       "1          52.836667          439.307692      0.0    101  100_101\n",
       "2          26.403333          325.769231      1.0    100  100_101\n",
       "3          77.546667          325.769231      1.0    101  100_101\n",
       "4          18.736667          422.750000      2.0    100  100_101\n",
       "...              ...                 ...      ...    ...      ...\n",
       "12541      64.000000          329.800000     17.0      6      9_6\n",
       "12542      19.886667          473.333333     18.0      9      9_6\n",
       "12543      64.000000          473.333333     18.0      6      9_6\n",
       "12544      19.000000         -182.000000     19.0      9      9_6\n",
       "12545      64.000000         -182.000000     19.0      6      9_6\n",
       "\n",
       "[12546 rows x 5 columns]"
      ]
     },
     "execution_count": 41,
     "metadata": {},
     "output_type": "execute_result"
    }
   ],
   "source": [
    "data_subset_no_nans"
   ]
  },
  {
   "cell_type": "code",
   "execution_count": 42,
   "metadata": {},
   "outputs": [
    {
     "data": {
      "text/html": [
       "<div>\n",
       "<style scoped>\n",
       "    .dataframe tbody tr th:only-of-type {\n",
       "        vertical-align: middle;\n",
       "    }\n",
       "\n",
       "    .dataframe tbody tr th {\n",
       "        vertical-align: top;\n",
       "    }\n",
       "\n",
       "    .dataframe thead th {\n",
       "        text-align: right;\n",
       "    }\n",
       "</style>\n",
       "<table border=\"1\" class=\"dataframe\">\n",
       "  <thead>\n",
       "    <tr style=\"text-align: right;\">\n",
       "      <th></th>\n",
       "      <th>connection_20</th>\n",
       "      <th>gap_length_mean_20</th>\n",
       "      <th>bin_num</th>\n",
       "      <th>subID</th>\n",
       "      <th>dyad</th>\n",
       "    </tr>\n",
       "  </thead>\n",
       "  <tbody>\n",
       "    <tr>\n",
       "      <th>0</th>\n",
       "      <td>4.643333</td>\n",
       "      <td>439.307692</td>\n",
       "      <td>0.0</td>\n",
       "      <td>100</td>\n",
       "      <td>100_101</td>\n",
       "    </tr>\n",
       "    <tr>\n",
       "      <th>1</th>\n",
       "      <td>52.836667</td>\n",
       "      <td>439.307692</td>\n",
       "      <td>0.0</td>\n",
       "      <td>101</td>\n",
       "      <td>100_101</td>\n",
       "    </tr>\n",
       "    <tr>\n",
       "      <th>2</th>\n",
       "      <td>26.403333</td>\n",
       "      <td>325.769231</td>\n",
       "      <td>1.0</td>\n",
       "      <td>100</td>\n",
       "      <td>100_101</td>\n",
       "    </tr>\n",
       "    <tr>\n",
       "      <th>3</th>\n",
       "      <td>77.546667</td>\n",
       "      <td>325.769231</td>\n",
       "      <td>1.0</td>\n",
       "      <td>101</td>\n",
       "      <td>100_101</td>\n",
       "    </tr>\n",
       "    <tr>\n",
       "      <th>4</th>\n",
       "      <td>18.736667</td>\n",
       "      <td>422.750000</td>\n",
       "      <td>2.0</td>\n",
       "      <td>100</td>\n",
       "      <td>100_101</td>\n",
       "    </tr>\n",
       "    <tr>\n",
       "      <th>...</th>\n",
       "      <td>...</td>\n",
       "      <td>...</td>\n",
       "      <td>...</td>\n",
       "      <td>...</td>\n",
       "      <td>...</td>\n",
       "    </tr>\n",
       "    <tr>\n",
       "      <th>12541</th>\n",
       "      <td>64.000000</td>\n",
       "      <td>329.800000</td>\n",
       "      <td>17.0</td>\n",
       "      <td>6</td>\n",
       "      <td>9_6</td>\n",
       "    </tr>\n",
       "    <tr>\n",
       "      <th>12542</th>\n",
       "      <td>19.886667</td>\n",
       "      <td>473.333333</td>\n",
       "      <td>18.0</td>\n",
       "      <td>9</td>\n",
       "      <td>9_6</td>\n",
       "    </tr>\n",
       "    <tr>\n",
       "      <th>12543</th>\n",
       "      <td>64.000000</td>\n",
       "      <td>473.333333</td>\n",
       "      <td>18.0</td>\n",
       "      <td>6</td>\n",
       "      <td>9_6</td>\n",
       "    </tr>\n",
       "    <tr>\n",
       "      <th>12544</th>\n",
       "      <td>19.000000</td>\n",
       "      <td>-182.000000</td>\n",
       "      <td>19.0</td>\n",
       "      <td>9</td>\n",
       "      <td>9_6</td>\n",
       "    </tr>\n",
       "    <tr>\n",
       "      <th>12545</th>\n",
       "      <td>64.000000</td>\n",
       "      <td>-182.000000</td>\n",
       "      <td>19.0</td>\n",
       "      <td>6</td>\n",
       "      <td>9_6</td>\n",
       "    </tr>\n",
       "  </tbody>\n",
       "</table>\n",
       "<p>12546 rows × 5 columns</p>\n",
       "</div>"
      ],
      "text/plain": [
       "       connection_20  gap_length_mean_20  bin_num  subID     dyad\n",
       "0           4.643333          439.307692      0.0    100  100_101\n",
       "1          52.836667          439.307692      0.0    101  100_101\n",
       "2          26.403333          325.769231      1.0    100  100_101\n",
       "3          77.546667          325.769231      1.0    101  100_101\n",
       "4          18.736667          422.750000      2.0    100  100_101\n",
       "...              ...                 ...      ...    ...      ...\n",
       "12541      64.000000          329.800000     17.0      6      9_6\n",
       "12542      19.886667          473.333333     18.0      9      9_6\n",
       "12543      64.000000          473.333333     18.0      6      9_6\n",
       "12544      19.000000         -182.000000     19.0      9      9_6\n",
       "12545      64.000000         -182.000000     19.0      6      9_6\n",
       "\n",
       "[12546 rows x 5 columns]"
      ]
     },
     "execution_count": 42,
     "metadata": {},
     "output_type": "execute_result"
    }
   ],
   "source": [
    "data_subset_no_nans"
   ]
  },
  {
   "cell_type": "code",
   "execution_count": 43,
   "metadata": {},
   "outputs": [
    {
     "name": "stdout",
     "output_type": "stream",
     "text": [
      "Formula: connection_20_zscore~gap_length_mean_20_zscore+bin_num_zscore+(1|subID)+(1|dyad)\n",
      "\n",
      "Family: gaussian\t Inference: parametric\n",
      "\n",
      "Number of observations: 12546\t Groups: {'dyad': 322.0, 'subID': 66.0}\n",
      "\n",
      "Log-likelihood: -12326.700 \t AIC: 24653.399\n",
      "\n",
      "Random effects:\n",
      "\n",
      "                 Name    Var    Std\n",
      "dyad      (Intercept)  0.307  0.554\n",
      "subID     (Intercept)  0.292  0.541\n",
      "Residual               0.373  0.611\n",
      "\n",
      "No random effect correlations specified\n",
      "\n",
      "Fixed effects:\n",
      "\n",
      "                           Estimate  2.5_ci  97.5_ci     SE         DF  \\\n",
      "(Intercept)                  -0.007  -0.151    0.137  0.074     92.173   \n",
      "gap_length_mean_20_zscore    -0.034  -0.046   -0.021  0.006  12374.631   \n",
      "bin_num_zscore                0.275   0.265    0.286  0.005  12156.860   \n",
      "\n",
      "                           T-stat  P-val  Sig  \n",
      "(Intercept)                -0.098  0.922       \n",
      "gap_length_mean_20_zscore  -5.205  0.000  ***  \n",
      "bin_num_zscore             50.476  0.000  ***  \n"
     ]
    }
   ],
   "source": [
    "variables = ['connection_20', 'gap_length_mean_20', 'bin_num']\n",
    "for variable in variables:\n",
    "    data_subset_no_nans[f'{variable}_zscore'] = zscore(data_subset_no_nans[variable])\n",
    "    \n",
    "model = Lmer(\"connection_20_zscore ~ gap_length_mean_20_zscore + bin_num_zscore + (1|subID) + (1|dyad)\", data=data_subset_no_nans)\n",
    "\n",
    "# Fit it\n",
    "print(model.fit())"
   ]
  },
  {
   "cell_type": "code",
   "execution_count": 27,
   "metadata": {},
   "outputs": [
    {
     "data": {
      "text/plain": [
       "<matplotlib.axes._subplots.AxesSubplot at 0x15b92d588>"
      ]
     },
     "execution_count": 27,
     "metadata": {},
     "output_type": "execute_result"
    },
    {
     "data": {
      "image/png": "[encoded data removed]",
      "text/plain": [
       "<Figure size 432x288 with 1 Axes>"
      ]
     },
     "metadata": {
      "needs_background": "light"
     },
     "output_type": "display_data"
    }
   ],
   "source": [
    "# need to save the real values and plot those first to set the ranges\n",
    "sns.scatterplot(x=\"bin_size\", y=\"betas\", data=df, color='b', alpha=0.5)\n"
   ]
  },
  {
   "cell_type": "code",
   "execution_count": 17,
   "metadata": {},
   "outputs": [],
   "source": [
    "df = pd.DataFrame()\n",
    "df = df.fillna(0)\n",
    "\n",
    "for i in range(len(shifted_betas)):\n",
    "    df.at[i, 'bin_size'] = bin_size\n",
    "    df.at[i, 'betas'] = shifted_betas[i]\n",
    "    df.at[i, 'p-val'] = shifted_p_vals[i]"
   ]
  },
  {
   "cell_type": "code",
   "execution_count": 18,
   "metadata": {},
   "outputs": [
    {
     "data": {
      "text/html": [
       "<div>\n",
       "<style scoped>\n",
       "    .dataframe tbody tr th:only-of-type {\n",
       "        vertical-align: middle;\n",
       "    }\n",
       "\n",
       "    .dataframe tbody tr th {\n",
       "        vertical-align: top;\n",
       "    }\n",
       "\n",
       "    .dataframe thead th {\n",
       "        text-align: right;\n",
       "    }\n",
       "</style>\n",
       "<table border=\"1\" class=\"dataframe\">\n",
       "  <thead>\n",
       "    <tr style=\"text-align: right;\">\n",
       "      <th></th>\n",
       "      <th>betas</th>\n",
       "      <th>p-val</th>\n",
       "    </tr>\n",
       "  </thead>\n",
       "  <tbody>\n",
       "    <tr>\n",
       "      <th>0</th>\n",
       "      <td>-0.025284</td>\n",
       "      <td>0.060509</td>\n",
       "    </tr>\n",
       "    <tr>\n",
       "      <th>1</th>\n",
       "      <td>-0.001188</td>\n",
       "      <td>0.926251</td>\n",
       "    </tr>\n",
       "    <tr>\n",
       "      <th>2</th>\n",
       "      <td>0.002684</td>\n",
       "      <td>0.863742</td>\n",
       "    </tr>\n",
       "    <tr>\n",
       "      <th>3</th>\n",
       "      <td>-0.002566</td>\n",
       "      <td>0.870151</td>\n",
       "    </tr>\n",
       "  </tbody>\n",
       "</table>\n",
       "</div>"
      ],
      "text/plain": [
       "      betas     p-val\n",
       "0 -0.025284  0.060509\n",
       "1 -0.001188  0.926251\n",
       "2  0.002684  0.863742\n",
       "3 -0.002566  0.870151"
      ]
     },
     "execution_count": 18,
     "metadata": {},
     "output_type": "execute_result"
    }
   ],
   "source": [
    "df"
   ]
  },
  {
   "cell_type": "code",
   "execution_count": null,
   "metadata": {},
   "outputs": [],
   "source": []
  },
  {
   "cell_type": "code",
   "execution_count": 15,
   "metadata": {},
   "outputs": [
    {
     "data": {
      "text/plain": [
       "[-0.0252843954879338,\n",
       " -0.0011877533060496155,\n",
       " 0.002683771247013673,\n",
       " -0.002566370833977075]"
      ]
     },
     "execution_count": 15,
     "metadata": {},
     "output_type": "execute_result"
    }
   ],
   "source": [
    "shifted_betas"
   ]
  },
  {
   "cell_type": "code",
   "execution_count": 16,
   "metadata": {},
   "outputs": [
    {
     "data": {
      "text/plain": [
       "[0.06050928440506534,\n",
       " 0.9262509295993866,\n",
       " 0.8637415608661645,\n",
       " 0.870150720460227]"
      ]
     },
     "execution_count": 16,
     "metadata": {},
     "output_type": "execute_result"
    }
   ],
   "source": [
    "shifted_p_vals"
   ]
  },
  {
   "cell_type": "code",
   "execution_count": 11,
   "metadata": {},
   "outputs": [
    {
     "data": {
      "text/plain": [
       "0       -2.199983\n",
       "1       -0.239157\n",
       "2       -1.314641\n",
       "3        0.766211\n",
       "4       -1.626572\n",
       "           ...   \n",
       "77275         NaN\n",
       "77276         NaN\n",
       "77277         NaN\n",
       "77278         NaN\n",
       "77279         NaN\n",
       "Name: connection_20_zscore, Length: 77280, dtype: float64"
      ]
     },
     "execution_count": 11,
     "metadata": {},
     "output_type": "execute_result"
    }
   ],
   "source": [
    "data['connection_20_zscore']"
   ]
  },
  {
   "cell_type": "code",
   "execution_count": 13,
   "metadata": {},
   "outputs": [
    {
     "data": {
      "text/plain": [
       "0        439.307692\n",
       "1        439.307692\n",
       "2        325.769231\n",
       "3        325.769231\n",
       "4        422.750000\n",
       "            ...    \n",
       "77275           NaN\n",
       "77276           NaN\n",
       "77277           NaN\n",
       "77278           NaN\n",
       "77279           NaN\n",
       "Name: gap_length_mean_20, Length: 77280, dtype: float64"
      ]
     },
     "execution_count": 13,
     "metadata": {},
     "output_type": "execute_result"
    }
   ],
   "source": [
    "data['gap_length_mean_20']"
   ]
  }
 ],
 "metadata": {
  "kernelspec": {
   "display_name": "Python 3",
   "language": "python",
   "name": "python3"
  },
  "language_info": {
   "codemirror_mode": {
    "name": "ipython",
    "version": 3
   },
   "file_extension": ".py",
   "mimetype": "text/x-python",
   "name": "python",
   "nbconvert_exporter": "python",
   "pygments_lexer": "ipython3",
   "version": "3.6.7"
  }
 },
 "nbformat": 4,
 "nbformat_minor": 2
}
