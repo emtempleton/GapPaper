{
 "cells": [
  {
   "cell_type": "code",
   "execution_count": 1,
   "metadata": {},
   "outputs": [],
   "source": [
    "import matplotlib.pyplot as plt\n",
    "import pandas as pd\n",
    "%matplotlib inline\n",
    "import numpy as np\n",
    "import os\n",
    "import glob\n",
    "import re\n",
    "import seaborn as sns\n",
    "\n",
    "base_dir = os.path.dirname(os.getcwd())"
   ]
  },
  {
   "cell_type": "markdown",
   "metadata": {},
   "source": [
    "# Count the number of long gaps for stranger conversations"
   ]
  },
  {
   "cell_type": "code",
   "execution_count": 2,
   "metadata": {},
   "outputs": [],
   "source": [
    "turns_strangers = pd.DataFrame()\n",
    "turns_strangers = turns_strangers.fillna(0)\n",
    "counter = 0\n",
    "\n",
    "flist = glob.glob(os.path.join(base_dir, 'Analyses', 'turn_taking', 'strangers', '*.csv'))\n",
    "\n",
    "for file in flist:\n",
    "    \n",
    "    name = file.split('/')[-1].split('.csv')[0]\n",
    "    \n",
    "    data = pd.read_csv(file)\n",
    "    \n",
    "    turns_long = data.loc[data['gap_length'] > 2000].reset_index(drop=True)\n",
    "    turns_short = data.loc[data['gap_length'] < 200].reset_index(drop=True)\n",
    "    \n",
    "    turns_strangers.at[counter, 'convo'] = name\n",
    "    turns_strangers.at[counter, 'n_long'] = len(turns_long)\n",
    "    turns_strangers.at[counter, 'n_short'] = len(turns_short)\n",
    "    turns_strangers.at[counter, 'n_not_long'] = len(data) - len(turns_long)\n",
    "    turns_strangers.at[counter, 'n_not_short'] = len(data) - len(turns_short)\n",
    "    turns_strangers.at[counter, 'n_turns'] = len(data)\n",
    "\n",
    "    counter += 1\n"
   ]
  },
  {
   "cell_type": "markdown",
   "metadata": {},
   "source": [
    "# Count the number of long gaps for friend conversations"
   ]
  },
  {
   "cell_type": "code",
   "execution_count": 3,
   "metadata": {},
   "outputs": [],
   "source": [
    "turns_friends = pd.DataFrame()\n",
    "turns_friends = turns_friends.fillna(0)\n",
    "counter = 0\n",
    "\n",
    "flist = glob.glob(os.path.join(base_dir, 'Analyses', 'turn_taking', 'friends', '*.csv'))\n",
    "\n",
    "for file in flist:\n",
    "    \n",
    "    name = file.split('/')[-1].split('.csv')[0]\n",
    "    \n",
    "    data = pd.read_csv(file)\n",
    "    \n",
    "    turns_long = data.loc[data['gap_length'] > 2000].reset_index(drop=True)\n",
    "    turns_short = data.loc[data['gap_length'] < 200].reset_index(drop=True)\n",
    "    \n",
    "    turns_friends.at[counter, 'convo'] = name\n",
    "    turns_friends.at[counter, 'n_long'] = len(turns_long)\n",
    "    turns_friends.at[counter, 'n_short'] = len(turns_short)\n",
    "    turns_friends.at[counter, 'n_not_long'] = len(data) - len(turns_long)\n",
    "    turns_friends.at[counter, 'n_not_short'] = len(data) - len(turns_short)\n",
    "    turns_friends.at[counter, 'n_turns'] = len(data)\n",
    "\n",
    "    counter += 1"
   ]
  },
  {
   "cell_type": "markdown",
   "metadata": {},
   "source": [
    "# Chi-sqaure test"
   ]
  },
  {
   "cell_type": "code",
   "execution_count": 4,
   "metadata": {},
   "outputs": [],
   "source": [
    "data = [[int(np.sum(turns_friends['n_long'])), int(np.sum(turns_friends['n_not_long']))], \n",
    "        [int(np.sum(turns_strangers['n_long'])), int(np.sum(turns_strangers['n_not_long']))]]"
   ]
  },
  {
   "cell_type": "code",
   "execution_count": 5,
   "metadata": {},
   "outputs": [
    {
     "data": {
      "text/plain": [
       "[[218, 9346], [346, 47614]]"
      ]
     },
     "execution_count": 5,
     "metadata": {},
     "output_type": "execute_result"
    }
   ],
   "source": [
    "data"
   ]
  },
  {
   "cell_type": "code",
   "execution_count": 6,
   "metadata": {},
   "outputs": [],
   "source": [
    "from scipy.stats import chi2_contingency\n",
    "\n",
    "stat, p, dof, expected = chi2_contingency(data)"
   ]
  },
  {
   "cell_type": "code",
   "execution_count": 7,
   "metadata": {},
   "outputs": [
    {
     "data": {
      "text/plain": [
       "197.7519734203746"
      ]
     },
     "execution_count": 7,
     "metadata": {},
     "output_type": "execute_result"
    }
   ],
   "source": [
    "stat"
   ]
  },
  {
   "cell_type": "code",
   "execution_count": 8,
   "metadata": {},
   "outputs": [
    {
     "data": {
      "text/plain": [
       "6.462717395100015e-45"
      ]
     },
     "execution_count": 8,
     "metadata": {},
     "output_type": "execute_result"
    }
   ],
   "source": [
    "p"
   ]
  },
  {
   "cell_type": "code",
   "execution_count": 9,
   "metadata": {},
   "outputs": [
    {
     "data": {
      "text/plain": [
       "57524"
      ]
     },
     "execution_count": 9,
     "metadata": {},
     "output_type": "execute_result"
    }
   ],
   "source": [
    "n = 218 + 9346 + 346 + 47614\n",
    "n"
   ]
  }
 ],
 "metadata": {
  "kernelspec": {
   "display_name": "Python 3",
   "language": "python",
   "name": "python3"
  },
  "language_info": {
   "codemirror_mode": {
    "name": "ipython",
    "version": 3
   },
   "file_extension": ".py",
   "mimetype": "text/x-python",
   "name": "python",
   "nbconvert_exporter": "python",
   "pygments_lexer": "ipython3",
   "version": "3.6.7"
  }
 },
 "nbformat": 4,
 "nbformat_minor": 2
}
